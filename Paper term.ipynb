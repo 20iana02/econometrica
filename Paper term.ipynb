{
 "cells": [
  {
   "cell_type": "code",
   "execution_count": 188,
   "id": "a8b7a5e1",
   "metadata": {},
   "outputs": [],
   "source": [
    "import pandas as pd\n",
    "import numpy as np\n",
    "import scipy.stats as stats\n",
    "import statsmodels.formula.api as smf\n",
    "import seaborn as sns\n",
    "import io\n",
    "from statsmodels.iolib.summary2 import summary_params # вывод результатов тестирования\n",
    "from statsmodels.iolib.summary2 import summary_col # вывод результатов тестирования\n",
    "from statsmodels.stats.outliers_influence import variance_inflation_factor # VIF\n",
    "import scipy\n",
    "import matplotlib.pyplot as plt\n",
    "import statsmodels.api as sm "
   ]
  },
  {
   "cell_type": "code",
   "execution_count": 190,
   "id": "60cb5426",
   "metadata": {},
   "outputs": [],
   "source": [
    "# Age - возраст\n",
    "# Experience - стаж работы\n",
    "# Income - годовой доход\n",
    "# ZIP Code - почтовый индекс домашнего адреса\n",
    "# Family - количество членов семьи\n",
    "# CCAvg - средние траты в месяц с карты \n",
    "# Education - уровень образования (1-среднее, 2-высшее незаконченное, 3 - высшее полное)\n",
    "# Mortgage - наличие ипотеки и сумма, если она есть \n",
    "# Personal Loan - есть ли кредит, предложенный на индивидуальных условиях\n",
    "# Securities Account - есть ли счет в ценных бумагах\n",
    "# CD Account - есть ли депозитный счет\n",
    "# Online - пользуется ли опрашиваемый онлайн приложением банка "
   ]
  },
  {
   "cell_type": "code",
   "execution_count": 130,
   "id": "b7496f8e",
   "metadata": {},
   "outputs": [
    {
     "data": {
      "text/html": [
       "<div>\n",
       "<style scoped>\n",
       "    .dataframe tbody tr th:only-of-type {\n",
       "        vertical-align: middle;\n",
       "    }\n",
       "\n",
       "    .dataframe tbody tr th {\n",
       "        vertical-align: top;\n",
       "    }\n",
       "\n",
       "    .dataframe thead th {\n",
       "        text-align: right;\n",
       "    }\n",
       "</style>\n",
       "<table border=\"1\" class=\"dataframe\">\n",
       "  <thead>\n",
       "    <tr style=\"text-align: right;\">\n",
       "      <th></th>\n",
       "      <th>ID</th>\n",
       "      <th>Age</th>\n",
       "      <th>Experience</th>\n",
       "      <th>Income</th>\n",
       "      <th>ZIP Code</th>\n",
       "      <th>Family</th>\n",
       "      <th>CCAvg</th>\n",
       "      <th>Education</th>\n",
       "      <th>Mortgage</th>\n",
       "      <th>Personal Loan</th>\n",
       "      <th>Securities Account</th>\n",
       "      <th>CD Account</th>\n",
       "      <th>Online</th>\n",
       "      <th>CreditCard</th>\n",
       "    </tr>\n",
       "  </thead>\n",
       "  <tbody>\n",
       "    <tr>\n",
       "      <th>0</th>\n",
       "      <td>1</td>\n",
       "      <td>25</td>\n",
       "      <td>1</td>\n",
       "      <td>49</td>\n",
       "      <td>91107</td>\n",
       "      <td>4</td>\n",
       "      <td>1.6</td>\n",
       "      <td>1</td>\n",
       "      <td>0</td>\n",
       "      <td>0</td>\n",
       "      <td>1</td>\n",
       "      <td>0</td>\n",
       "      <td>0</td>\n",
       "      <td>0</td>\n",
       "    </tr>\n",
       "    <tr>\n",
       "      <th>1</th>\n",
       "      <td>2</td>\n",
       "      <td>45</td>\n",
       "      <td>19</td>\n",
       "      <td>34</td>\n",
       "      <td>90089</td>\n",
       "      <td>3</td>\n",
       "      <td>1.5</td>\n",
       "      <td>1</td>\n",
       "      <td>0</td>\n",
       "      <td>0</td>\n",
       "      <td>1</td>\n",
       "      <td>0</td>\n",
       "      <td>0</td>\n",
       "      <td>0</td>\n",
       "    </tr>\n",
       "    <tr>\n",
       "      <th>2</th>\n",
       "      <td>3</td>\n",
       "      <td>39</td>\n",
       "      <td>15</td>\n",
       "      <td>11</td>\n",
       "      <td>94720</td>\n",
       "      <td>1</td>\n",
       "      <td>1.0</td>\n",
       "      <td>1</td>\n",
       "      <td>0</td>\n",
       "      <td>0</td>\n",
       "      <td>0</td>\n",
       "      <td>0</td>\n",
       "      <td>0</td>\n",
       "      <td>0</td>\n",
       "    </tr>\n",
       "    <tr>\n",
       "      <th>3</th>\n",
       "      <td>4</td>\n",
       "      <td>35</td>\n",
       "      <td>9</td>\n",
       "      <td>100</td>\n",
       "      <td>94112</td>\n",
       "      <td>1</td>\n",
       "      <td>2.7</td>\n",
       "      <td>2</td>\n",
       "      <td>0</td>\n",
       "      <td>0</td>\n",
       "      <td>0</td>\n",
       "      <td>0</td>\n",
       "      <td>0</td>\n",
       "      <td>0</td>\n",
       "    </tr>\n",
       "    <tr>\n",
       "      <th>4</th>\n",
       "      <td>5</td>\n",
       "      <td>35</td>\n",
       "      <td>8</td>\n",
       "      <td>45</td>\n",
       "      <td>91330</td>\n",
       "      <td>4</td>\n",
       "      <td>1.0</td>\n",
       "      <td>2</td>\n",
       "      <td>0</td>\n",
       "      <td>0</td>\n",
       "      <td>0</td>\n",
       "      <td>0</td>\n",
       "      <td>0</td>\n",
       "      <td>1</td>\n",
       "    </tr>\n",
       "    <tr>\n",
       "      <th>...</th>\n",
       "      <td>...</td>\n",
       "      <td>...</td>\n",
       "      <td>...</td>\n",
       "      <td>...</td>\n",
       "      <td>...</td>\n",
       "      <td>...</td>\n",
       "      <td>...</td>\n",
       "      <td>...</td>\n",
       "      <td>...</td>\n",
       "      <td>...</td>\n",
       "      <td>...</td>\n",
       "      <td>...</td>\n",
       "      <td>...</td>\n",
       "      <td>...</td>\n",
       "    </tr>\n",
       "    <tr>\n",
       "      <th>4995</th>\n",
       "      <td>4996</td>\n",
       "      <td>29</td>\n",
       "      <td>3</td>\n",
       "      <td>40</td>\n",
       "      <td>92697</td>\n",
       "      <td>1</td>\n",
       "      <td>1.9</td>\n",
       "      <td>3</td>\n",
       "      <td>0</td>\n",
       "      <td>0</td>\n",
       "      <td>0</td>\n",
       "      <td>0</td>\n",
       "      <td>1</td>\n",
       "      <td>0</td>\n",
       "    </tr>\n",
       "    <tr>\n",
       "      <th>4996</th>\n",
       "      <td>4997</td>\n",
       "      <td>30</td>\n",
       "      <td>4</td>\n",
       "      <td>15</td>\n",
       "      <td>92037</td>\n",
       "      <td>4</td>\n",
       "      <td>0.4</td>\n",
       "      <td>1</td>\n",
       "      <td>85</td>\n",
       "      <td>0</td>\n",
       "      <td>0</td>\n",
       "      <td>0</td>\n",
       "      <td>1</td>\n",
       "      <td>0</td>\n",
       "    </tr>\n",
       "    <tr>\n",
       "      <th>4997</th>\n",
       "      <td>4998</td>\n",
       "      <td>63</td>\n",
       "      <td>39</td>\n",
       "      <td>24</td>\n",
       "      <td>93023</td>\n",
       "      <td>2</td>\n",
       "      <td>0.3</td>\n",
       "      <td>3</td>\n",
       "      <td>0</td>\n",
       "      <td>0</td>\n",
       "      <td>0</td>\n",
       "      <td>0</td>\n",
       "      <td>0</td>\n",
       "      <td>0</td>\n",
       "    </tr>\n",
       "    <tr>\n",
       "      <th>4998</th>\n",
       "      <td>4999</td>\n",
       "      <td>65</td>\n",
       "      <td>40</td>\n",
       "      <td>49</td>\n",
       "      <td>90034</td>\n",
       "      <td>3</td>\n",
       "      <td>0.5</td>\n",
       "      <td>2</td>\n",
       "      <td>0</td>\n",
       "      <td>0</td>\n",
       "      <td>0</td>\n",
       "      <td>0</td>\n",
       "      <td>1</td>\n",
       "      <td>0</td>\n",
       "    </tr>\n",
       "    <tr>\n",
       "      <th>4999</th>\n",
       "      <td>5000</td>\n",
       "      <td>28</td>\n",
       "      <td>4</td>\n",
       "      <td>83</td>\n",
       "      <td>92612</td>\n",
       "      <td>3</td>\n",
       "      <td>0.8</td>\n",
       "      <td>1</td>\n",
       "      <td>0</td>\n",
       "      <td>0</td>\n",
       "      <td>0</td>\n",
       "      <td>0</td>\n",
       "      <td>1</td>\n",
       "      <td>1</td>\n",
       "    </tr>\n",
       "  </tbody>\n",
       "</table>\n",
       "<p>5000 rows × 14 columns</p>\n",
       "</div>"
      ],
      "text/plain": [
       "        ID  Age  Experience  Income  ZIP Code  Family  CCAvg  Education  \\\n",
       "0        1   25           1      49     91107       4    1.6          1   \n",
       "1        2   45          19      34     90089       3    1.5          1   \n",
       "2        3   39          15      11     94720       1    1.0          1   \n",
       "3        4   35           9     100     94112       1    2.7          2   \n",
       "4        5   35           8      45     91330       4    1.0          2   \n",
       "...    ...  ...         ...     ...       ...     ...    ...        ...   \n",
       "4995  4996   29           3      40     92697       1    1.9          3   \n",
       "4996  4997   30           4      15     92037       4    0.4          1   \n",
       "4997  4998   63          39      24     93023       2    0.3          3   \n",
       "4998  4999   65          40      49     90034       3    0.5          2   \n",
       "4999  5000   28           4      83     92612       3    0.8          1   \n",
       "\n",
       "      Mortgage  Personal Loan  Securities Account  CD Account  Online  \\\n",
       "0            0              0                   1           0       0   \n",
       "1            0              0                   1           0       0   \n",
       "2            0              0                   0           0       0   \n",
       "3            0              0                   0           0       0   \n",
       "4            0              0                   0           0       0   \n",
       "...        ...            ...                 ...         ...     ...   \n",
       "4995         0              0                   0           0       1   \n",
       "4996        85              0                   0           0       1   \n",
       "4997         0              0                   0           0       0   \n",
       "4998         0              0                   0           0       1   \n",
       "4999         0              0                   0           0       1   \n",
       "\n",
       "      CreditCard  \n",
       "0              0  \n",
       "1              0  \n",
       "2              0  \n",
       "3              0  \n",
       "4              1  \n",
       "...          ...  \n",
       "4995           0  \n",
       "4996           0  \n",
       "4997           0  \n",
       "4998           0  \n",
       "4999           1  \n",
       "\n",
       "[5000 rows x 14 columns]"
      ]
     },
     "execution_count": 130,
     "metadata": {},
     "output_type": "execute_result"
    }
   ],
   "source": [
    "df = pd.read_csv('https://raw.githubusercontent.com/artamonoff/Econometrica/master/python-notebooks/data-csv/BankPersonalLoanModelling.csv')\n",
    "df"
   ]
  },
  {
   "cell_type": "code",
   "execution_count": 6,
   "id": "a303bbea",
   "metadata": {},
   "outputs": [],
   "source": [
    "# я буду рассматаривать как средние траты за месяц зависят от уровня образования, \n",
    "# возраста, стажа работы и наличия депозитного аккаунта в банке"
   ]
  },
  {
   "cell_type": "markdown",
   "id": "b3f11d1c",
   "metadata": {},
   "source": [
    "$$CCAvg = \\beta_0 + \\beta_1*Education+ \\beta_2*Age + \\beta_3*Experience + \\beta_4*CDAccount$$"
   ]
  },
  {
   "cell_type": "code",
   "execution_count": 10,
   "id": "1a7863e9",
   "metadata": {},
   "outputs": [
    {
     "data": {
      "text/html": [
       "<div>\n",
       "<style scoped>\n",
       "    .dataframe tbody tr th:only-of-type {\n",
       "        vertical-align: middle;\n",
       "    }\n",
       "\n",
       "    .dataframe tbody tr th {\n",
       "        vertical-align: top;\n",
       "    }\n",
       "\n",
       "    .dataframe thead th {\n",
       "        text-align: right;\n",
       "    }\n",
       "</style>\n",
       "<table border=\"1\" class=\"dataframe\">\n",
       "  <thead>\n",
       "    <tr style=\"text-align: right;\">\n",
       "      <th></th>\n",
       "      <th>ID</th>\n",
       "      <th>Age</th>\n",
       "      <th>Experience</th>\n",
       "      <th>Income</th>\n",
       "      <th>ZIP Code</th>\n",
       "      <th>Family</th>\n",
       "      <th>CCAvg</th>\n",
       "      <th>Education</th>\n",
       "      <th>Mortgage</th>\n",
       "      <th>Personal Loan</th>\n",
       "      <th>Securities Account</th>\n",
       "      <th>CDAccount</th>\n",
       "      <th>Online</th>\n",
       "      <th>CreditCard</th>\n",
       "    </tr>\n",
       "  </thead>\n",
       "  <tbody>\n",
       "    <tr>\n",
       "      <th>0</th>\n",
       "      <td>1</td>\n",
       "      <td>25</td>\n",
       "      <td>1</td>\n",
       "      <td>49</td>\n",
       "      <td>91107</td>\n",
       "      <td>4</td>\n",
       "      <td>1.6</td>\n",
       "      <td>1</td>\n",
       "      <td>0</td>\n",
       "      <td>0</td>\n",
       "      <td>1</td>\n",
       "      <td>0</td>\n",
       "      <td>0</td>\n",
       "      <td>0</td>\n",
       "    </tr>\n",
       "    <tr>\n",
       "      <th>1</th>\n",
       "      <td>2</td>\n",
       "      <td>45</td>\n",
       "      <td>19</td>\n",
       "      <td>34</td>\n",
       "      <td>90089</td>\n",
       "      <td>3</td>\n",
       "      <td>1.5</td>\n",
       "      <td>1</td>\n",
       "      <td>0</td>\n",
       "      <td>0</td>\n",
       "      <td>1</td>\n",
       "      <td>0</td>\n",
       "      <td>0</td>\n",
       "      <td>0</td>\n",
       "    </tr>\n",
       "    <tr>\n",
       "      <th>2</th>\n",
       "      <td>3</td>\n",
       "      <td>39</td>\n",
       "      <td>15</td>\n",
       "      <td>11</td>\n",
       "      <td>94720</td>\n",
       "      <td>1</td>\n",
       "      <td>1.0</td>\n",
       "      <td>1</td>\n",
       "      <td>0</td>\n",
       "      <td>0</td>\n",
       "      <td>0</td>\n",
       "      <td>0</td>\n",
       "      <td>0</td>\n",
       "      <td>0</td>\n",
       "    </tr>\n",
       "    <tr>\n",
       "      <th>3</th>\n",
       "      <td>4</td>\n",
       "      <td>35</td>\n",
       "      <td>9</td>\n",
       "      <td>100</td>\n",
       "      <td>94112</td>\n",
       "      <td>1</td>\n",
       "      <td>2.7</td>\n",
       "      <td>2</td>\n",
       "      <td>0</td>\n",
       "      <td>0</td>\n",
       "      <td>0</td>\n",
       "      <td>0</td>\n",
       "      <td>0</td>\n",
       "      <td>0</td>\n",
       "    </tr>\n",
       "    <tr>\n",
       "      <th>4</th>\n",
       "      <td>5</td>\n",
       "      <td>35</td>\n",
       "      <td>8</td>\n",
       "      <td>45</td>\n",
       "      <td>91330</td>\n",
       "      <td>4</td>\n",
       "      <td>1.0</td>\n",
       "      <td>2</td>\n",
       "      <td>0</td>\n",
       "      <td>0</td>\n",
       "      <td>0</td>\n",
       "      <td>0</td>\n",
       "      <td>0</td>\n",
       "      <td>1</td>\n",
       "    </tr>\n",
       "    <tr>\n",
       "      <th>...</th>\n",
       "      <td>...</td>\n",
       "      <td>...</td>\n",
       "      <td>...</td>\n",
       "      <td>...</td>\n",
       "      <td>...</td>\n",
       "      <td>...</td>\n",
       "      <td>...</td>\n",
       "      <td>...</td>\n",
       "      <td>...</td>\n",
       "      <td>...</td>\n",
       "      <td>...</td>\n",
       "      <td>...</td>\n",
       "      <td>...</td>\n",
       "      <td>...</td>\n",
       "    </tr>\n",
       "    <tr>\n",
       "      <th>4995</th>\n",
       "      <td>4996</td>\n",
       "      <td>29</td>\n",
       "      <td>3</td>\n",
       "      <td>40</td>\n",
       "      <td>92697</td>\n",
       "      <td>1</td>\n",
       "      <td>1.9</td>\n",
       "      <td>3</td>\n",
       "      <td>0</td>\n",
       "      <td>0</td>\n",
       "      <td>0</td>\n",
       "      <td>0</td>\n",
       "      <td>1</td>\n",
       "      <td>0</td>\n",
       "    </tr>\n",
       "    <tr>\n",
       "      <th>4996</th>\n",
       "      <td>4997</td>\n",
       "      <td>30</td>\n",
       "      <td>4</td>\n",
       "      <td>15</td>\n",
       "      <td>92037</td>\n",
       "      <td>4</td>\n",
       "      <td>0.4</td>\n",
       "      <td>1</td>\n",
       "      <td>85</td>\n",
       "      <td>0</td>\n",
       "      <td>0</td>\n",
       "      <td>0</td>\n",
       "      <td>1</td>\n",
       "      <td>0</td>\n",
       "    </tr>\n",
       "    <tr>\n",
       "      <th>4997</th>\n",
       "      <td>4998</td>\n",
       "      <td>63</td>\n",
       "      <td>39</td>\n",
       "      <td>24</td>\n",
       "      <td>93023</td>\n",
       "      <td>2</td>\n",
       "      <td>0.3</td>\n",
       "      <td>3</td>\n",
       "      <td>0</td>\n",
       "      <td>0</td>\n",
       "      <td>0</td>\n",
       "      <td>0</td>\n",
       "      <td>0</td>\n",
       "      <td>0</td>\n",
       "    </tr>\n",
       "    <tr>\n",
       "      <th>4998</th>\n",
       "      <td>4999</td>\n",
       "      <td>65</td>\n",
       "      <td>40</td>\n",
       "      <td>49</td>\n",
       "      <td>90034</td>\n",
       "      <td>3</td>\n",
       "      <td>0.5</td>\n",
       "      <td>2</td>\n",
       "      <td>0</td>\n",
       "      <td>0</td>\n",
       "      <td>0</td>\n",
       "      <td>0</td>\n",
       "      <td>1</td>\n",
       "      <td>0</td>\n",
       "    </tr>\n",
       "    <tr>\n",
       "      <th>4999</th>\n",
       "      <td>5000</td>\n",
       "      <td>28</td>\n",
       "      <td>4</td>\n",
       "      <td>83</td>\n",
       "      <td>92612</td>\n",
       "      <td>3</td>\n",
       "      <td>0.8</td>\n",
       "      <td>1</td>\n",
       "      <td>0</td>\n",
       "      <td>0</td>\n",
       "      <td>0</td>\n",
       "      <td>0</td>\n",
       "      <td>1</td>\n",
       "      <td>1</td>\n",
       "    </tr>\n",
       "  </tbody>\n",
       "</table>\n",
       "<p>5000 rows × 14 columns</p>\n",
       "</div>"
      ],
      "text/plain": [
       "        ID  Age  Experience  Income  ZIP Code  Family  CCAvg  Education  \\\n",
       "0        1   25           1      49     91107       4    1.6          1   \n",
       "1        2   45          19      34     90089       3    1.5          1   \n",
       "2        3   39          15      11     94720       1    1.0          1   \n",
       "3        4   35           9     100     94112       1    2.7          2   \n",
       "4        5   35           8      45     91330       4    1.0          2   \n",
       "...    ...  ...         ...     ...       ...     ...    ...        ...   \n",
       "4995  4996   29           3      40     92697       1    1.9          3   \n",
       "4996  4997   30           4      15     92037       4    0.4          1   \n",
       "4997  4998   63          39      24     93023       2    0.3          3   \n",
       "4998  4999   65          40      49     90034       3    0.5          2   \n",
       "4999  5000   28           4      83     92612       3    0.8          1   \n",
       "\n",
       "      Mortgage  Personal Loan  Securities Account  CDAccount  Online  \\\n",
       "0            0              0                   1          0       0   \n",
       "1            0              0                   1          0       0   \n",
       "2            0              0                   0          0       0   \n",
       "3            0              0                   0          0       0   \n",
       "4            0              0                   0          0       0   \n",
       "...        ...            ...                 ...        ...     ...   \n",
       "4995         0              0                   0          0       1   \n",
       "4996        85              0                   0          0       1   \n",
       "4997         0              0                   0          0       0   \n",
       "4998         0              0                   0          0       1   \n",
       "4999         0              0                   0          0       1   \n",
       "\n",
       "      CreditCard  \n",
       "0              0  \n",
       "1              0  \n",
       "2              0  \n",
       "3              0  \n",
       "4              1  \n",
       "...          ...  \n",
       "4995           0  \n",
       "4996           0  \n",
       "4997           0  \n",
       "4998           0  \n",
       "4999           1  \n",
       "\n",
       "[5000 rows x 14 columns]"
      ]
     },
     "execution_count": 10,
     "metadata": {},
     "output_type": "execute_result"
    }
   ],
   "source": [
    "df_new = df.rename(columns={'CD Account' : 'CDAccount'})\n",
    "df_new"
   ]
  },
  {
   "cell_type": "code",
   "execution_count": null,
   "id": "77dc0d4d",
   "metadata": {},
   "outputs": [],
   "source": [
    "# отобразим зависимость на графиках"
   ]
  },
  {
   "cell_type": "code",
   "execution_count": 149,
   "id": "82ead83a",
   "metadata": {},
   "outputs": [
    {
     "data": {
      "text/plain": [
       "<seaborn.axisgrid.FacetGrid at 0x7fccd970a460>"
      ]
     },
     "execution_count": 149,
     "metadata": {},
     "output_type": "execute_result"
    },
    {
     "data": {
      "image/png": "[encoded data removed]",
      "text/plain": [
       "<Figure size 587.361x1500 with 3 Axes>"
      ]
     },
     "metadata": {},
     "output_type": "display_data"
    }
   ],
   "source": [
    "sns.lmplot(x='Experience', y='CCAvg', data=df_new, hue='CDAccount', row='Education')"
   ]
  },
  {
   "cell_type": "code",
   "execution_count": 13,
   "id": "15e7710f",
   "metadata": {},
   "outputs": [],
   "source": [
    "# рассмотрим влияние каждого из компонентов зависмости на показатель ежемесячных средних трат с карты "
   ]
  },
  {
   "cell_type": "code",
   "execution_count": 14,
   "id": "45b5632a",
   "metadata": {},
   "outputs": [
    {
     "data": {
      "text/plain": [
       "Intercept     1.88\n",
       "Education    -0.30\n",
       "Age           0.03\n",
       "Experience   -0.04\n",
       "CDAccount     1.02\n",
       "dtype: float64"
      ]
     },
     "execution_count": 14,
     "metadata": {},
     "output_type": "execute_result"
    }
   ],
   "source": [
    "fitted_line = smf.ols(formula='CCAvg~Education+Age+Experience+CDAccount', data=df_new).fit()\n",
    "fitted_line.params.round(2)"
   ]
  },
  {
   "cell_type": "markdown",
   "id": "e707d577",
   "metadata": {},
   "source": [
    "$$ CCAvg= 1.88 - 0.3*Education + 0.03*Age - 0.04*Experience + 1.02*CDAccount $$\n",
    "###### соответственно, исходя из полученных данных можно прийти к выводу, что с изменением уровня образования от среднего к высшему количество потраченных денег на карте в месяц уменьшается на 300 долларов, с увлечиненм возраста на 1 год данный показатель увеличивается на 30 долларов, с увеличением рабочего стажа на год траты с карты уменьшаются на 40 долларов и при наличии депозита в банке траты в целом увеличиваются на 1020 долларов"
   ]
  },
  {
   "cell_type": "code",
   "execution_count": 37,
   "id": "bffeffec",
   "metadata": {},
   "outputs": [],
   "source": [
    "# рассмторим некоторые зависимости на графиках"
   ]
  },
  {
   "cell_type": "code",
   "execution_count": 33,
   "id": "570555b6",
   "metadata": {},
   "outputs": [
    {
     "name": "stdout",
     "output_type": "stream",
     "text": [
      "Подогнанная прямая\n"
     ]
    },
    {
     "data": {
      "image/png": "[encoded data removed]",
      "text/plain": [
       "<Figure size 640x480 with 1 Axes>"
      ]
     },
     "metadata": {},
     "output_type": "display_data"
    }
   ],
   "source": [
    "sns.regplot(data = df_new, y = 'CCAvg' ,x = 'Education' , order = 1, ci = None ,  line_kws = { \"color\":\"green\"}) \n",
    "print('Подогнанная прямая') "
   ]
  },
  {
   "cell_type": "markdown",
   "id": "044d1948",
   "metadata": {},
   "source": [
    "###### исходя из графика можно отметить, что на первый взгляд разница между людьми со срденим и высшим образованием в тратах несущсетвенна, но все же она присутствует, люди с высшим образованием тратят чуть меньше тех, кто его не получил (это подтверждается и данными сверху)"
   ]
  },
  {
   "cell_type": "code",
   "execution_count": 34,
   "id": "8eac1c47",
   "metadata": {},
   "outputs": [
    {
     "name": "stdout",
     "output_type": "stream",
     "text": [
      "Подогнанная прямая\n"
     ]
    },
    {
     "data": {
      "image/png": "[encoded data removed]",
      "text/plain": [
       "<Figure size 640x480 with 1 Axes>"
      ]
     },
     "metadata": {},
     "output_type": "display_data"
    }
   ],
   "source": [
    "sns.regplot(data = df_new, y = 'CCAvg' ,x = 'Age' , order = 1, ci = None ,  line_kws = { \"color\":\"green\"}) \n",
    "print('Подогнанная прямая') "
   ]
  },
  {
   "cell_type": "code",
   "execution_count": 15,
   "id": "ba7c9426",
   "metadata": {},
   "outputs": [],
   "source": [
    "# определим, какие элементы регрессии являются значимыми, при уровне значимсоти 5%"
   ]
  },
  {
   "cell_type": "code",
   "execution_count": 16,
   "id": "b722f85c",
   "metadata": {},
   "outputs": [
    {
     "data": {
      "text/html": [
       "<table class=\"simpletable\">\n",
       "<tr>\n",
       "       <td></td>         <th>coef</th>     <th>std err</th>      <th>t</th>      <th>P>|t|</th>  <th>[0.025</th>    <th>0.975]</th>  \n",
       "</tr>\n",
       "<tr>\n",
       "  <th>Intercept</th>  <td>    1.8766</td> <td>    0.508</td> <td>    3.694</td> <td> 0.000</td> <td>    0.881</td> <td>    2.872</td>\n",
       "</tr>\n",
       "<tr>\n",
       "  <th>Education</th>  <td>   -0.2967</td> <td>    0.030</td> <td>   -9.924</td> <td> 0.000</td> <td>   -0.355</td> <td>   -0.238</td>\n",
       "</tr>\n",
       "<tr>\n",
       "  <th>Age</th>        <td>    0.0280</td> <td>    0.020</td> <td>    1.372</td> <td> 0.170</td> <td>   -0.012</td> <td>    0.068</td>\n",
       "</tr>\n",
       "<tr>\n",
       "  <th>Experience</th> <td>   -0.0354</td> <td>    0.020</td> <td>   -1.737</td> <td> 0.082</td> <td>   -0.075</td> <td>    0.005</td>\n",
       "</tr>\n",
       "<tr>\n",
       "  <th>CDAccount</th>  <td>    1.0229</td> <td>    0.102</td> <td>   10.057</td> <td> 0.000</td> <td>    0.824</td> <td>    1.222</td>\n",
       "</tr>\n",
       "</table>"
      ],
      "text/plain": [
       "<class 'statsmodels.iolib.table.SimpleTable'>"
      ]
     },
     "execution_count": 16,
     "metadata": {},
     "output_type": "execute_result"
    }
   ],
   "source": [
    "model = smf.ols(data=df_new, formula='CCAvg~Education+Age+Experience+CDAccount').fit()\n",
    "model.summary(alpha=0.05).tables[1]"
   ]
  },
  {
   "cell_type": "code",
   "execution_count": 17,
   "id": "5580b5d1",
   "metadata": {},
   "outputs": [
    {
     "data": {
      "text/plain": [
       "1.96"
      ]
     },
     "execution_count": 17,
     "metadata": {},
     "output_type": "execute_result"
    }
   ],
   "source": [
    "alpha = 0.05\n",
    "t_cr=stats.t.ppf(1-alpha/2, 5000-1-4)\n",
    "t_cr.round(3)"
   ]
  },
  {
   "cell_type": "code",
   "execution_count": 18,
   "id": "5a551457",
   "metadata": {},
   "outputs": [],
   "source": [
    "data_string = '''\tcoef\tstd.err\tt\tP>|t|\t[0.025\t0.975]\n",
    "Intercept\t1.8766\t0.508\t3.694\t0.000\t0.881\t2.872\n",
    "Education\t-0.2967\t0.030\t-9.924\t0.000\t-0.355\t-0.238\n",
    "Age\t0.0280\t0.020\t1.372\t0.170\t-0.012\t0.068\n",
    "Experience\t-0.0354\t0.020\t-1.737\t0.082\t-0.075\t0.005\n",
    "CDAccount\t1.0229\t0.102\t10.057\t0.000\t0.824\t1.222\n",
    "'''"
   ]
  },
  {
   "cell_type": "code",
   "execution_count": 22,
   "id": "74ee2075",
   "metadata": {},
   "outputs": [
    {
     "data": {
      "text/html": [
       "<div>\n",
       "<style scoped>\n",
       "    .dataframe tbody tr th:only-of-type {\n",
       "        vertical-align: middle;\n",
       "    }\n",
       "\n",
       "    .dataframe tbody tr th {\n",
       "        vertical-align: top;\n",
       "    }\n",
       "\n",
       "    .dataframe thead th {\n",
       "        text-align: right;\n",
       "    }\n",
       "</style>\n",
       "<table border=\"1\" class=\"dataframe\">\n",
       "  <thead>\n",
       "    <tr style=\"text-align: right;\">\n",
       "      <th></th>\n",
       "      <th>coef</th>\n",
       "      <th>std.err</th>\n",
       "      <th>t</th>\n",
       "      <th>P&gt;|t|</th>\n",
       "      <th>[0.025</th>\n",
       "      <th>0.975]</th>\n",
       "    </tr>\n",
       "  </thead>\n",
       "  <tbody>\n",
       "    <tr>\n",
       "      <th>Intercept</th>\n",
       "      <td>1.8766</td>\n",
       "      <td>0.508</td>\n",
       "      <td>3.694</td>\n",
       "      <td>0.000</td>\n",
       "      <td>0.881</td>\n",
       "      <td>2.872</td>\n",
       "    </tr>\n",
       "    <tr>\n",
       "      <th>Education</th>\n",
       "      <td>-0.2967</td>\n",
       "      <td>0.030</td>\n",
       "      <td>-9.924</td>\n",
       "      <td>0.000</td>\n",
       "      <td>-0.355</td>\n",
       "      <td>-0.238</td>\n",
       "    </tr>\n",
       "    <tr>\n",
       "      <th>Age</th>\n",
       "      <td>0.0280</td>\n",
       "      <td>0.020</td>\n",
       "      <td>1.372</td>\n",
       "      <td>0.170</td>\n",
       "      <td>-0.012</td>\n",
       "      <td>0.068</td>\n",
       "    </tr>\n",
       "    <tr>\n",
       "      <th>Experience</th>\n",
       "      <td>-0.0354</td>\n",
       "      <td>0.020</td>\n",
       "      <td>-1.737</td>\n",
       "      <td>0.082</td>\n",
       "      <td>-0.075</td>\n",
       "      <td>0.005</td>\n",
       "    </tr>\n",
       "    <tr>\n",
       "      <th>CDAccount</th>\n",
       "      <td>1.0229</td>\n",
       "      <td>0.102</td>\n",
       "      <td>10.057</td>\n",
       "      <td>0.000</td>\n",
       "      <td>0.824</td>\n",
       "      <td>1.222</td>\n",
       "    </tr>\n",
       "  </tbody>\n",
       "</table>\n",
       "</div>"
      ],
      "text/plain": [
       "              coef  std.err       t  P>|t|  [0.025  0.975]\n",
       "Intercept   1.8766    0.508   3.694  0.000   0.881   2.872\n",
       "Education  -0.2967    0.030  -9.924  0.000  -0.355  -0.238\n",
       "Age         0.0280    0.020   1.372  0.170  -0.012   0.068\n",
       "Experience -0.0354    0.020  -1.737  0.082  -0.075   0.005\n",
       "CDAccount   1.0229    0.102  10.057  0.000   0.824   1.222"
      ]
     },
     "execution_count": 22,
     "metadata": {},
     "output_type": "execute_result"
    }
   ],
   "source": [
    "df_string = pd.read_csv(io.StringIO(data_string), sep='\\s+')\n",
    "df_string "
   ]
  },
  {
   "cell_type": "code",
   "execution_count": 23,
   "id": "236c989c",
   "metadata": {},
   "outputs": [
    {
     "data": {
      "text/html": [
       "<div>\n",
       "<style scoped>\n",
       "    .dataframe tbody tr th:only-of-type {\n",
       "        vertical-align: middle;\n",
       "    }\n",
       "\n",
       "    .dataframe tbody tr th {\n",
       "        vertical-align: top;\n",
       "    }\n",
       "\n",
       "    .dataframe thead th {\n",
       "        text-align: right;\n",
       "    }\n",
       "</style>\n",
       "<table border=\"1\" class=\"dataframe\">\n",
       "  <thead>\n",
       "    <tr style=\"text-align: right;\">\n",
       "      <th></th>\n",
       "      <th>coef</th>\n",
       "      <th>std.err</th>\n",
       "      <th>t</th>\n",
       "      <th>P&gt;|t|</th>\n",
       "      <th>[0.025</th>\n",
       "      <th>0.975]</th>\n",
       "      <th>result</th>\n",
       "    </tr>\n",
       "  </thead>\n",
       "  <tbody>\n",
       "    <tr>\n",
       "      <th>Intercept</th>\n",
       "      <td>1.8766</td>\n",
       "      <td>0.508</td>\n",
       "      <td>3.694</td>\n",
       "      <td>0.000</td>\n",
       "      <td>0.881</td>\n",
       "      <td>2.872</td>\n",
       "      <td>значимо</td>\n",
       "    </tr>\n",
       "    <tr>\n",
       "      <th>Education</th>\n",
       "      <td>-0.2967</td>\n",
       "      <td>0.030</td>\n",
       "      <td>-9.924</td>\n",
       "      <td>0.000</td>\n",
       "      <td>-0.355</td>\n",
       "      <td>-0.238</td>\n",
       "      <td>значимо</td>\n",
       "    </tr>\n",
       "    <tr>\n",
       "      <th>Age</th>\n",
       "      <td>0.0280</td>\n",
       "      <td>0.020</td>\n",
       "      <td>1.372</td>\n",
       "      <td>0.170</td>\n",
       "      <td>-0.012</td>\n",
       "      <td>0.068</td>\n",
       "      <td>не значимо</td>\n",
       "    </tr>\n",
       "    <tr>\n",
       "      <th>Experience</th>\n",
       "      <td>-0.0354</td>\n",
       "      <td>0.020</td>\n",
       "      <td>-1.737</td>\n",
       "      <td>0.082</td>\n",
       "      <td>-0.075</td>\n",
       "      <td>0.005</td>\n",
       "      <td>не значимо</td>\n",
       "    </tr>\n",
       "    <tr>\n",
       "      <th>CDAccount</th>\n",
       "      <td>1.0229</td>\n",
       "      <td>0.102</td>\n",
       "      <td>10.057</td>\n",
       "      <td>0.000</td>\n",
       "      <td>0.824</td>\n",
       "      <td>1.222</td>\n",
       "      <td>значимо</td>\n",
       "    </tr>\n",
       "  </tbody>\n",
       "</table>\n",
       "</div>"
      ],
      "text/plain": [
       "              coef  std.err       t  P>|t|  [0.025  0.975]      result\n",
       "Intercept   1.8766    0.508   3.694  0.000   0.881   2.872     значимо\n",
       "Education  -0.2967    0.030  -9.924  0.000  -0.355  -0.238     значимо\n",
       "Age         0.0280    0.020   1.372  0.170  -0.012   0.068  не значимо\n",
       "Experience -0.0354    0.020  -1.737  0.082  -0.075   0.005  не значимо\n",
       "CDAccount   1.0229    0.102  10.057  0.000   0.824   1.222     значимо"
      ]
     },
     "execution_count": 23,
     "metadata": {},
     "output_type": "execute_result"
    }
   ],
   "source": [
    "df_string['result'] = df_string.apply(lambda x: 'значимо' if abs(x['t'])>t_cr else 'не значимо',axis=1)\n",
    "df_string"
   ]
  },
  {
   "cell_type": "markdown",
   "id": "630cf73d",
   "metadata": {},
   "source": [
    "###### получаем, что налчиие депозита в банке (CDAccount) и уровень образования (Education) являются значимыми переменными для данной регрессии "
   ]
  },
  {
   "cell_type": "code",
   "execution_count": 24,
   "id": "5a72131a",
   "metadata": {},
   "outputs": [],
   "source": [
    "# определим значимость заданной регрессии (совместнуюзначимость коэффициентов)"
   ]
  },
  {
   "cell_type": "markdown",
   "id": "f4cfd8ad",
   "metadata": {},
   "source": [
    "$$ H_0 : \\beta_{Education}=\\beta_{Age}=\\beta_{Experience}=\\beta_{CDAccount} = 0 $$\n",
    "$$ H_1 : \\beta_{Education}=\\beta_{Age}=\\beta_{Experience}=\\beta_{CDAccount} ≠ 0 $$"
   ]
  },
  {
   "cell_type": "code",
   "execution_count": 41,
   "id": "1506fe9e",
   "metadata": {},
   "outputs": [
    {
     "data": {
      "text/plain": [
       "0.041"
      ]
     },
     "execution_count": 41,
     "metadata": {},
     "output_type": "execute_result"
    }
   ],
   "source": [
    "R2 = fitted_line.rsquared\n",
    "R2.round(3)"
   ]
  },
  {
   "cell_type": "code",
   "execution_count": 43,
   "id": "e93f2d89",
   "metadata": {},
   "outputs": [
    {
     "data": {
      "text/plain": [
       "0.04"
      ]
     },
     "execution_count": 43,
     "metadata": {},
     "output_type": "execute_result"
    }
   ],
   "source": [
    "R2adj = 1 - (1-R2)*(len(df_new)-1)/(len(df_new)-4-1)\n",
    "R2adj.round(3)"
   ]
  },
  {
   "cell_type": "code",
   "execution_count": 46,
   "id": "e30a9d4c",
   "metadata": {},
   "outputs": [
    {
     "data": {
      "text/plain": [
       "52.75"
      ]
     },
     "execution_count": 46,
     "metadata": {},
     "output_type": "execute_result"
    }
   ],
   "source": [
    "F_obs = fitted_line.fvalue\n",
    "F_obs.round(2)"
   ]
  },
  {
   "cell_type": "code",
   "execution_count": 47,
   "id": "6e250195",
   "metadata": {},
   "outputs": [
    {
     "data": {
      "text/plain": [
       "2.37"
      ]
     },
     "execution_count": 47,
     "metadata": {},
     "output_type": "execute_result"
    }
   ],
   "source": [
    "alpha = 0.05 \n",
    "F_cr = stats.f.ppf(1-alpha,4,5000-5)\n",
    "F_cr.round(2)"
   ]
  },
  {
   "cell_type": "markdown",
   "id": "5c56c223",
   "metadata": {},
   "source": [
    "$$ F_{cr}<F_{obs} \\Rightarrow H_0 $$ $$ отвергаем $$"
   ]
  },
  {
   "cell_type": "markdown",
   "id": "49641182",
   "metadata": {},
   "source": [
    "###### значит выбранные регресссоры в действительности описывают модель и являются совместно значимыми"
   ]
  },
  {
   "cell_type": "code",
   "execution_count": 73,
   "id": "cff37f6f",
   "metadata": {},
   "outputs": [],
   "source": [
    "# проверим регрессию на значимость структурных сдвигов в зависимости от уровня образования "
   ]
  },
  {
   "cell_type": "code",
   "execution_count": 74,
   "id": "0bc9008b",
   "metadata": {},
   "outputs": [],
   "source": [
    "loan_df = pd.read_csv('https://raw.githubusercontent.com/artamonoff/Econometrica/master/python-notebooks/data-csv/BankPersonalLoanModelling.csv')\n",
    "df = loan_df.rename(columns={'CD Account' : 'CDAccount'})\n",
    "df\n",
    "df_1 = df[df['Education']==1] \n",
    "df_3 = df[df['Education']==3] "
   ]
  },
  {
   "cell_type": "code",
   "execution_count": 75,
   "id": "336b5166",
   "metadata": {},
   "outputs": [
    {
     "data": {
      "text/html": [
       "<div>\n",
       "<style scoped>\n",
       "    .dataframe tbody tr th:only-of-type {\n",
       "        vertical-align: middle;\n",
       "    }\n",
       "\n",
       "    .dataframe tbody tr th {\n",
       "        vertical-align: top;\n",
       "    }\n",
       "\n",
       "    .dataframe thead th {\n",
       "        text-align: right;\n",
       "    }\n",
       "</style>\n",
       "<table border=\"1\" class=\"dataframe\">\n",
       "  <thead>\n",
       "    <tr style=\"text-align: right;\">\n",
       "      <th></th>\n",
       "      <th>ID</th>\n",
       "      <th>Age</th>\n",
       "      <th>Experience</th>\n",
       "      <th>Income</th>\n",
       "      <th>ZIP Code</th>\n",
       "      <th>Family</th>\n",
       "      <th>CCAvg</th>\n",
       "      <th>Education</th>\n",
       "      <th>Mortgage</th>\n",
       "      <th>Personal Loan</th>\n",
       "      <th>Securities Account</th>\n",
       "      <th>CDAccount</th>\n",
       "      <th>Online</th>\n",
       "      <th>CreditCard</th>\n",
       "    </tr>\n",
       "  </thead>\n",
       "  <tbody>\n",
       "    <tr>\n",
       "      <th>0</th>\n",
       "      <td>1</td>\n",
       "      <td>25</td>\n",
       "      <td>1</td>\n",
       "      <td>49</td>\n",
       "      <td>91107</td>\n",
       "      <td>4</td>\n",
       "      <td>1.60</td>\n",
       "      <td>1</td>\n",
       "      <td>0</td>\n",
       "      <td>0</td>\n",
       "      <td>1</td>\n",
       "      <td>0</td>\n",
       "      <td>0</td>\n",
       "      <td>0</td>\n",
       "    </tr>\n",
       "    <tr>\n",
       "      <th>1</th>\n",
       "      <td>2</td>\n",
       "      <td>45</td>\n",
       "      <td>19</td>\n",
       "      <td>34</td>\n",
       "      <td>90089</td>\n",
       "      <td>3</td>\n",
       "      <td>1.50</td>\n",
       "      <td>1</td>\n",
       "      <td>0</td>\n",
       "      <td>0</td>\n",
       "      <td>1</td>\n",
       "      <td>0</td>\n",
       "      <td>0</td>\n",
       "      <td>0</td>\n",
       "    </tr>\n",
       "    <tr>\n",
       "      <th>2</th>\n",
       "      <td>3</td>\n",
       "      <td>39</td>\n",
       "      <td>15</td>\n",
       "      <td>11</td>\n",
       "      <td>94720</td>\n",
       "      <td>1</td>\n",
       "      <td>1.00</td>\n",
       "      <td>1</td>\n",
       "      <td>0</td>\n",
       "      <td>0</td>\n",
       "      <td>0</td>\n",
       "      <td>0</td>\n",
       "      <td>0</td>\n",
       "      <td>0</td>\n",
       "    </tr>\n",
       "    <tr>\n",
       "      <th>14</th>\n",
       "      <td>15</td>\n",
       "      <td>67</td>\n",
       "      <td>41</td>\n",
       "      <td>112</td>\n",
       "      <td>91741</td>\n",
       "      <td>1</td>\n",
       "      <td>2.00</td>\n",
       "      <td>1</td>\n",
       "      <td>0</td>\n",
       "      <td>0</td>\n",
       "      <td>1</td>\n",
       "      <td>0</td>\n",
       "      <td>0</td>\n",
       "      <td>0</td>\n",
       "    </tr>\n",
       "    <tr>\n",
       "      <th>17</th>\n",
       "      <td>18</td>\n",
       "      <td>42</td>\n",
       "      <td>18</td>\n",
       "      <td>81</td>\n",
       "      <td>94305</td>\n",
       "      <td>4</td>\n",
       "      <td>2.40</td>\n",
       "      <td>1</td>\n",
       "      <td>0</td>\n",
       "      <td>0</td>\n",
       "      <td>0</td>\n",
       "      <td>0</td>\n",
       "      <td>0</td>\n",
       "      <td>0</td>\n",
       "    </tr>\n",
       "    <tr>\n",
       "      <th>...</th>\n",
       "      <td>...</td>\n",
       "      <td>...</td>\n",
       "      <td>...</td>\n",
       "      <td>...</td>\n",
       "      <td>...</td>\n",
       "      <td>...</td>\n",
       "      <td>...</td>\n",
       "      <td>...</td>\n",
       "      <td>...</td>\n",
       "      <td>...</td>\n",
       "      <td>...</td>\n",
       "      <td>...</td>\n",
       "      <td>...</td>\n",
       "      <td>...</td>\n",
       "    </tr>\n",
       "    <tr>\n",
       "      <th>4983</th>\n",
       "      <td>4984</td>\n",
       "      <td>51</td>\n",
       "      <td>26</td>\n",
       "      <td>72</td>\n",
       "      <td>95370</td>\n",
       "      <td>1</td>\n",
       "      <td>2.90</td>\n",
       "      <td>1</td>\n",
       "      <td>0</td>\n",
       "      <td>0</td>\n",
       "      <td>0</td>\n",
       "      <td>0</td>\n",
       "      <td>0</td>\n",
       "      <td>0</td>\n",
       "    </tr>\n",
       "    <tr>\n",
       "      <th>4988</th>\n",
       "      <td>4989</td>\n",
       "      <td>34</td>\n",
       "      <td>8</td>\n",
       "      <td>85</td>\n",
       "      <td>95134</td>\n",
       "      <td>1</td>\n",
       "      <td>2.50</td>\n",
       "      <td>1</td>\n",
       "      <td>136</td>\n",
       "      <td>0</td>\n",
       "      <td>0</td>\n",
       "      <td>0</td>\n",
       "      <td>0</td>\n",
       "      <td>1</td>\n",
       "    </tr>\n",
       "    <tr>\n",
       "      <th>4993</th>\n",
       "      <td>4994</td>\n",
       "      <td>45</td>\n",
       "      <td>21</td>\n",
       "      <td>218</td>\n",
       "      <td>91801</td>\n",
       "      <td>2</td>\n",
       "      <td>6.67</td>\n",
       "      <td>1</td>\n",
       "      <td>0</td>\n",
       "      <td>0</td>\n",
       "      <td>0</td>\n",
       "      <td>0</td>\n",
       "      <td>1</td>\n",
       "      <td>0</td>\n",
       "    </tr>\n",
       "    <tr>\n",
       "      <th>4996</th>\n",
       "      <td>4997</td>\n",
       "      <td>30</td>\n",
       "      <td>4</td>\n",
       "      <td>15</td>\n",
       "      <td>92037</td>\n",
       "      <td>4</td>\n",
       "      <td>0.40</td>\n",
       "      <td>1</td>\n",
       "      <td>85</td>\n",
       "      <td>0</td>\n",
       "      <td>0</td>\n",
       "      <td>0</td>\n",
       "      <td>1</td>\n",
       "      <td>0</td>\n",
       "    </tr>\n",
       "    <tr>\n",
       "      <th>4999</th>\n",
       "      <td>5000</td>\n",
       "      <td>28</td>\n",
       "      <td>4</td>\n",
       "      <td>83</td>\n",
       "      <td>92612</td>\n",
       "      <td>3</td>\n",
       "      <td>0.80</td>\n",
       "      <td>1</td>\n",
       "      <td>0</td>\n",
       "      <td>0</td>\n",
       "      <td>0</td>\n",
       "      <td>0</td>\n",
       "      <td>1</td>\n",
       "      <td>1</td>\n",
       "    </tr>\n",
       "  </tbody>\n",
       "</table>\n",
       "<p>2096 rows × 14 columns</p>\n",
       "</div>"
      ],
      "text/plain": [
       "        ID  Age  Experience  Income  ZIP Code  Family  CCAvg  Education  \\\n",
       "0        1   25           1      49     91107       4   1.60          1   \n",
       "1        2   45          19      34     90089       3   1.50          1   \n",
       "2        3   39          15      11     94720       1   1.00          1   \n",
       "14      15   67          41     112     91741       1   2.00          1   \n",
       "17      18   42          18      81     94305       4   2.40          1   \n",
       "...    ...  ...         ...     ...       ...     ...    ...        ...   \n",
       "4983  4984   51          26      72     95370       1   2.90          1   \n",
       "4988  4989   34           8      85     95134       1   2.50          1   \n",
       "4993  4994   45          21     218     91801       2   6.67          1   \n",
       "4996  4997   30           4      15     92037       4   0.40          1   \n",
       "4999  5000   28           4      83     92612       3   0.80          1   \n",
       "\n",
       "      Mortgage  Personal Loan  Securities Account  CDAccount  Online  \\\n",
       "0            0              0                   1          0       0   \n",
       "1            0              0                   1          0       0   \n",
       "2            0              0                   0          0       0   \n",
       "14           0              0                   1          0       0   \n",
       "17           0              0                   0          0       0   \n",
       "...        ...            ...                 ...        ...     ...   \n",
       "4983         0              0                   0          0       0   \n",
       "4988       136              0                   0          0       0   \n",
       "4993         0              0                   0          0       1   \n",
       "4996        85              0                   0          0       1   \n",
       "4999         0              0                   0          0       1   \n",
       "\n",
       "      CreditCard  \n",
       "0              0  \n",
       "1              0  \n",
       "2              0  \n",
       "14             0  \n",
       "17             0  \n",
       "...          ...  \n",
       "4983           0  \n",
       "4988           1  \n",
       "4993           0  \n",
       "4996           0  \n",
       "4999           1  \n",
       "\n",
       "[2096 rows x 14 columns]"
      ]
     },
     "execution_count": 75,
     "metadata": {},
     "output_type": "execute_result"
    }
   ],
   "source": [
    "df_1"
   ]
  },
  {
   "cell_type": "code",
   "execution_count": 76,
   "id": "a2c8049e",
   "metadata": {},
   "outputs": [
    {
     "data": {
      "text/plain": [
       "(1501, 14)"
      ]
     },
     "execution_count": 76,
     "metadata": {},
     "output_type": "execute_result"
    }
   ],
   "source": [
    "df_3.shape"
   ]
  },
  {
   "cell_type": "code",
   "execution_count": 77,
   "id": "a4520246",
   "metadata": {},
   "outputs": [],
   "source": [
    "model = smf.ols(data= df, formula='CCAvg~Education+Age+Experience+CDAccount').fit()\n",
    "model1 = smf.ols(data= df_1, formula='CCAvg~Education+Age+Experience+CDAccount').fit()\n",
    "model3 = smf.ols(data= df_3, formula='CCAvg~Education+Age+Experience+CDAccount').fit()"
   ]
  },
  {
   "cell_type": "code",
   "execution_count": 83,
   "id": "cbe176a2",
   "metadata": {},
   "outputs": [
    {
     "data": {
      "text/plain": [
       "1569.45"
      ]
     },
     "execution_count": 83,
     "metadata": {},
     "output_type": "execute_result"
    }
   ],
   "source": [
    "F_nab = (model.ssr - (model1.ssr + model3.ssr))/((model1.ssr + model3.ssr))*((len(df_1)+len(df_3)-2*5)/(5))\n",
    "F_nab.round(2)"
   ]
  },
  {
   "cell_type": "code",
   "execution_count": 85,
   "id": "b535187f",
   "metadata": {},
   "outputs": [
    {
     "data": {
      "text/plain": [
       "2.22"
      ]
     },
     "execution_count": 85,
     "metadata": {},
     "output_type": "execute_result"
    }
   ],
   "source": [
    "alpha = 0.05\n",
    "F_cr = stats.f.ppf(1-alpha,5,len( df_3 ) + len( df_1 ) - 10  )\n",
    "F_cr.round(2)"
   ]
  },
  {
   "cell_type": "markdown",
   "id": "8517496a",
   "metadata": {},
   "source": [
    "$$ F_{cr}<F_{nab} \\Rightarrow $$ \n",
    "##### структурные изменения значимы "
   ]
  },
  {
   "cell_type": "code",
   "execution_count": 80,
   "id": "8e027921",
   "metadata": {},
   "outputs": [],
   "source": [
    "# проверим регрессию на значимость структурных сдвигов в зависимости от наличия депозитного аккаунта в банке"
   ]
  },
  {
   "cell_type": "code",
   "execution_count": 81,
   "id": "979b4cbd",
   "metadata": {},
   "outputs": [],
   "source": [
    "df\n",
    "df_yes = df[df['CDAccount']==1] \n",
    "df_no = df[df['CDAccount']==0] "
   ]
  },
  {
   "cell_type": "code",
   "execution_count": 82,
   "id": "59d1bd9f",
   "metadata": {},
   "outputs": [],
   "source": [
    "model = smf.ols(data= df, formula='CCAvg~Education+Age+Experience+CDAccount').fit()\n",
    "model1 = smf.ols(data= df_yes, formula='CCAvg~Education+Age+Experience+CDAccount').fit()\n",
    "model2 = smf.ols(data= df_no, formula='CCAvg~Education+Age+Experience+CDAccount').fit()"
   ]
  },
  {
   "cell_type": "code",
   "execution_count": 86,
   "id": "9f184eb3",
   "metadata": {},
   "outputs": [
    {
     "data": {
      "text/plain": [
       "4.29"
      ]
     },
     "execution_count": 86,
     "metadata": {},
     "output_type": "execute_result"
    }
   ],
   "source": [
    "F_nab = (model.ssr - (model1.ssr + model2.ssr))/((model1.ssr + model2.ssr))*((len(df_yes)+len(df_no)-2*5)/(5))\n",
    "F_nab.round(2)"
   ]
  },
  {
   "cell_type": "code",
   "execution_count": 87,
   "id": "32708f03",
   "metadata": {},
   "outputs": [
    {
     "data": {
      "text/plain": [
       "2.22"
      ]
     },
     "execution_count": 87,
     "metadata": {},
     "output_type": "execute_result"
    }
   ],
   "source": [
    "alpha = 0.05\n",
    "F_cr = stats.f.ppf(1-alpha,5,len( df_yes ) + len( df_no ) - 10  )\n",
    "F_cr.round(2)"
   ]
  },
  {
   "cell_type": "markdown",
   "id": "83ffbb50",
   "metadata": {},
   "source": [
    "$$ F_{cr}<F_{nab} \\Rightarrow $$ \n",
    "##### структурные изменения значимы "
   ]
  },
  {
   "cell_type": "code",
   "execution_count": 106,
   "id": "560cab58",
   "metadata": {},
   "outputs": [],
   "source": [
    "# построим доверительный интервал для каждой из переменных регрессии "
   ]
  },
  {
   "cell_type": "code",
   "execution_count": 107,
   "id": "b3dbca04",
   "metadata": {},
   "outputs": [],
   "source": [
    "data_string = '''\n",
    "Intercept\t1.8766\t0.508\n",
    "Education\t-0.2967\t0.030\n",
    "Age\t0.0280\t0.020\n",
    "Experience\t-0.0354\t0.020\n",
    "CDAccount\t1.0229\t0.102\n",
    "'''"
   ]
  },
  {
   "cell_type": "code",
   "execution_count": 108,
   "id": "c1a08c59",
   "metadata": {},
   "outputs": [
    {
     "data": {
      "text/plain": [
       "array([['Intercept', '1.8766', '0.508'],\n",
       "       ['Education', '-0.2967', '0.030'],\n",
       "       ['Age', '0.0280', '0.020'],\n",
       "       ['Experience', '-0.0354', '0.020'],\n",
       "       ['CDAccount', '1.0229', '0.102']], dtype='<U10')"
      ]
     },
     "execution_count": 108,
     "metadata": {},
     "output_type": "execute_result"
    }
   ],
   "source": [
    "np.reshape(data_string.strip().split(), (5,3) )"
   ]
  },
  {
   "cell_type": "code",
   "execution_count": 109,
   "id": "37bd60e3",
   "metadata": {},
   "outputs": [
    {
     "data": {
      "text/html": [
       "<div>\n",
       "<style scoped>\n",
       "    .dataframe tbody tr th:only-of-type {\n",
       "        vertical-align: middle;\n",
       "    }\n",
       "\n",
       "    .dataframe tbody tr th {\n",
       "        vertical-align: top;\n",
       "    }\n",
       "\n",
       "    .dataframe thead th {\n",
       "        text-align: right;\n",
       "    }\n",
       "</style>\n",
       "<table border=\"1\" class=\"dataframe\">\n",
       "  <thead>\n",
       "    <tr style=\"text-align: right;\">\n",
       "      <th></th>\n",
       "      <th>name</th>\n",
       "      <th>estimate</th>\n",
       "      <th>std.err</th>\n",
       "    </tr>\n",
       "  </thead>\n",
       "  <tbody>\n",
       "    <tr>\n",
       "      <th>0</th>\n",
       "      <td>Intercept</td>\n",
       "      <td>1.8766</td>\n",
       "      <td>0.508</td>\n",
       "    </tr>\n",
       "    <tr>\n",
       "      <th>1</th>\n",
       "      <td>Education</td>\n",
       "      <td>-0.2967</td>\n",
       "      <td>0.030</td>\n",
       "    </tr>\n",
       "    <tr>\n",
       "      <th>2</th>\n",
       "      <td>Age</td>\n",
       "      <td>0.0280</td>\n",
       "      <td>0.020</td>\n",
       "    </tr>\n",
       "    <tr>\n",
       "      <th>3</th>\n",
       "      <td>Experience</td>\n",
       "      <td>-0.0354</td>\n",
       "      <td>0.020</td>\n",
       "    </tr>\n",
       "    <tr>\n",
       "      <th>4</th>\n",
       "      <td>CDAccount</td>\n",
       "      <td>1.0229</td>\n",
       "      <td>0.102</td>\n",
       "    </tr>\n",
       "  </tbody>\n",
       "</table>\n",
       "</div>"
      ],
      "text/plain": [
       "         name estimate std.err\n",
       "0   Intercept   1.8766   0.508\n",
       "1   Education  -0.2967   0.030\n",
       "2         Age   0.0280   0.020\n",
       "3  Experience  -0.0354   0.020\n",
       "4   CDAccount   1.0229   0.102"
      ]
     },
     "execution_count": 109,
     "metadata": {},
     "output_type": "execute_result"
    }
   ],
   "source": [
    "df = pd.DataFrame(np.reshape(data_string.strip().split(), (5,3) ), columns=['name','estimate','std.err'])\n",
    "df"
   ]
  },
  {
   "cell_type": "code",
   "execution_count": 110,
   "id": "13e4baa6",
   "metadata": {},
   "outputs": [
    {
     "data": {
      "text/html": [
       "<div>\n",
       "<style scoped>\n",
       "    .dataframe tbody tr th:only-of-type {\n",
       "        vertical-align: middle;\n",
       "    }\n",
       "\n",
       "    .dataframe tbody tr th {\n",
       "        vertical-align: top;\n",
       "    }\n",
       "\n",
       "    .dataframe thead th {\n",
       "        text-align: right;\n",
       "    }\n",
       "</style>\n",
       "<table border=\"1\" class=\"dataframe\">\n",
       "  <thead>\n",
       "    <tr style=\"text-align: right;\">\n",
       "      <th></th>\n",
       "      <th>name</th>\n",
       "      <th>estimate</th>\n",
       "      <th>std.err</th>\n",
       "      <th>Estimate_numb</th>\n",
       "      <th>Std.error_numb</th>\n",
       "    </tr>\n",
       "  </thead>\n",
       "  <tbody>\n",
       "    <tr>\n",
       "      <th>0</th>\n",
       "      <td>Intercept</td>\n",
       "      <td>1.8766</td>\n",
       "      <td>0.508</td>\n",
       "      <td>1.8766</td>\n",
       "      <td>0.508</td>\n",
       "    </tr>\n",
       "    <tr>\n",
       "      <th>1</th>\n",
       "      <td>Education</td>\n",
       "      <td>-0.2967</td>\n",
       "      <td>0.030</td>\n",
       "      <td>-0.2967</td>\n",
       "      <td>0.030</td>\n",
       "    </tr>\n",
       "    <tr>\n",
       "      <th>2</th>\n",
       "      <td>Age</td>\n",
       "      <td>0.0280</td>\n",
       "      <td>0.020</td>\n",
       "      <td>0.0280</td>\n",
       "      <td>0.020</td>\n",
       "    </tr>\n",
       "    <tr>\n",
       "      <th>3</th>\n",
       "      <td>Experience</td>\n",
       "      <td>-0.0354</td>\n",
       "      <td>0.020</td>\n",
       "      <td>-0.0354</td>\n",
       "      <td>0.020</td>\n",
       "    </tr>\n",
       "    <tr>\n",
       "      <th>4</th>\n",
       "      <td>CDAccount</td>\n",
       "      <td>1.0229</td>\n",
       "      <td>0.102</td>\n",
       "      <td>1.0229</td>\n",
       "      <td>0.102</td>\n",
       "    </tr>\n",
       "  </tbody>\n",
       "</table>\n",
       "</div>"
      ],
      "text/plain": [
       "         name estimate std.err  Estimate_numb  Std.error_numb\n",
       "0   Intercept   1.8766   0.508         1.8766           0.508\n",
       "1   Education  -0.2967   0.030        -0.2967           0.030\n",
       "2         Age   0.0280   0.020         0.0280           0.020\n",
       "3  Experience  -0.0354   0.020        -0.0354           0.020\n",
       "4   CDAccount   1.0229   0.102         1.0229           0.102"
      ]
     },
     "execution_count": 110,
     "metadata": {},
     "output_type": "execute_result"
    }
   ],
   "source": [
    "df['Estimate_numb'] = df['estimate'].str.extract(r'([-+]?\\d+.\\d+)').astype(float)\n",
    "df['Std.error_numb'] = df['std.err'].str.extract(r'([-+]?\\d+.\\d+)').astype(float)\n",
    "df"
   ]
  },
  {
   "cell_type": "code",
   "execution_count": 111,
   "id": "c8ed7d1f",
   "metadata": {},
   "outputs": [
    {
     "data": {
      "text/plain": [
       "1.96"
      ]
     },
     "execution_count": 111,
     "metadata": {},
     "output_type": "execute_result"
    }
   ],
   "source": [
    "alpha = 0.05\n",
    "t_cr = stats.t.ppf (1-alpha/2, 5000-5)\n",
    "t_cr.round(3)"
   ]
  },
  {
   "cell_type": "code",
   "execution_count": 112,
   "id": "5111773b",
   "metadata": {},
   "outputs": [
    {
     "data": {
      "text/html": [
       "<div>\n",
       "<style scoped>\n",
       "    .dataframe tbody tr th:only-of-type {\n",
       "        vertical-align: middle;\n",
       "    }\n",
       "\n",
       "    .dataframe tbody tr th {\n",
       "        vertical-align: top;\n",
       "    }\n",
       "\n",
       "    .dataframe thead th {\n",
       "        text-align: right;\n",
       "    }\n",
       "</style>\n",
       "<table border=\"1\" class=\"dataframe\">\n",
       "  <thead>\n",
       "    <tr style=\"text-align: right;\">\n",
       "      <th></th>\n",
       "      <th>name</th>\n",
       "      <th>estimate</th>\n",
       "      <th>std.err</th>\n",
       "      <th>Estimate_numb</th>\n",
       "      <th>Std.error_numb</th>\n",
       "      <th>low</th>\n",
       "      <th>up</th>\n",
       "    </tr>\n",
       "  </thead>\n",
       "  <tbody>\n",
       "    <tr>\n",
       "      <th>0</th>\n",
       "      <td>Intercept</td>\n",
       "      <td>1.8766</td>\n",
       "      <td>0.508</td>\n",
       "      <td>1.88</td>\n",
       "      <td>0.51</td>\n",
       "      <td>0.88</td>\n",
       "      <td>2.87</td>\n",
       "    </tr>\n",
       "    <tr>\n",
       "      <th>1</th>\n",
       "      <td>Education</td>\n",
       "      <td>-0.2967</td>\n",
       "      <td>0.030</td>\n",
       "      <td>-0.30</td>\n",
       "      <td>0.03</td>\n",
       "      <td>-0.36</td>\n",
       "      <td>-0.24</td>\n",
       "    </tr>\n",
       "    <tr>\n",
       "      <th>2</th>\n",
       "      <td>Age</td>\n",
       "      <td>0.0280</td>\n",
       "      <td>0.020</td>\n",
       "      <td>0.03</td>\n",
       "      <td>0.02</td>\n",
       "      <td>-0.01</td>\n",
       "      <td>0.07</td>\n",
       "    </tr>\n",
       "    <tr>\n",
       "      <th>3</th>\n",
       "      <td>Experience</td>\n",
       "      <td>-0.0354</td>\n",
       "      <td>0.020</td>\n",
       "      <td>-0.04</td>\n",
       "      <td>0.02</td>\n",
       "      <td>-0.07</td>\n",
       "      <td>0.00</td>\n",
       "    </tr>\n",
       "    <tr>\n",
       "      <th>4</th>\n",
       "      <td>CDAccount</td>\n",
       "      <td>1.0229</td>\n",
       "      <td>0.102</td>\n",
       "      <td>1.02</td>\n",
       "      <td>0.10</td>\n",
       "      <td>0.82</td>\n",
       "      <td>1.22</td>\n",
       "    </tr>\n",
       "  </tbody>\n",
       "</table>\n",
       "</div>"
      ],
      "text/plain": [
       "         name estimate std.err  Estimate_numb  Std.error_numb   low    up\n",
       "0   Intercept   1.8766   0.508           1.88            0.51  0.88  2.87\n",
       "1   Education  -0.2967   0.030          -0.30            0.03 -0.36 -0.24\n",
       "2         Age   0.0280   0.020           0.03            0.02 -0.01  0.07\n",
       "3  Experience  -0.0354   0.020          -0.04            0.02 -0.07  0.00\n",
       "4   CDAccount   1.0229   0.102           1.02            0.10  0.82  1.22"
      ]
     },
     "execution_count": 112,
     "metadata": {},
     "output_type": "execute_result"
    }
   ],
   "source": [
    "df['low'] = df['Estimate_numb'] - t_cr*df['Std.error_numb']\n",
    "df['up'] = df['Estimate_numb'] + t_cr*df['Std.error_numb']\n",
    "df.round(2)"
   ]
  },
  {
   "cell_type": "code",
   "execution_count": 114,
   "id": "347e58b1",
   "metadata": {},
   "outputs": [],
   "source": [
    "# сделаем прогнозирование для возможных 3-х опрашиваемых\n",
    "# 1. в возрасте 25 лет, имеет высшее образование, не имеет депозитного счета в банке, стаж 3 года\n",
    "# 2. в возрасте 60 лет, имеет высшее образование, имеет депозитный счет в банке, стаж 40 лет\n",
    "# 3. в возрасте 40 лет, имеет среднее образование, имеет в банке депозитный счет, стаж 10 лет"
   ]
  },
  {
   "cell_type": "code",
   "execution_count": 122,
   "id": "22ee1722",
   "metadata": {},
   "outputs": [
    {
     "data": {
      "text/html": [
       "<div>\n",
       "<style scoped>\n",
       "    .dataframe tbody tr th:only-of-type {\n",
       "        vertical-align: middle;\n",
       "    }\n",
       "\n",
       "    .dataframe tbody tr th {\n",
       "        vertical-align: top;\n",
       "    }\n",
       "\n",
       "    .dataframe thead th {\n",
       "        text-align: right;\n",
       "    }\n",
       "</style>\n",
       "<table border=\"1\" class=\"dataframe\">\n",
       "  <thead>\n",
       "    <tr style=\"text-align: right;\">\n",
       "      <th></th>\n",
       "      <th>Age</th>\n",
       "      <th>Education</th>\n",
       "      <th>CDAccount</th>\n",
       "      <th>Experience</th>\n",
       "    </tr>\n",
       "  </thead>\n",
       "  <tbody>\n",
       "    <tr>\n",
       "      <th>0</th>\n",
       "      <td>25</td>\n",
       "      <td>3</td>\n",
       "      <td>0</td>\n",
       "      <td>3</td>\n",
       "    </tr>\n",
       "    <tr>\n",
       "      <th>1</th>\n",
       "      <td>60</td>\n",
       "      <td>3</td>\n",
       "      <td>1</td>\n",
       "      <td>40</td>\n",
       "    </tr>\n",
       "    <tr>\n",
       "      <th>2</th>\n",
       "      <td>40</td>\n",
       "      <td>1</td>\n",
       "      <td>1</td>\n",
       "      <td>10</td>\n",
       "    </tr>\n",
       "  </tbody>\n",
       "</table>\n",
       "</div>"
      ],
      "text/plain": [
       "   Age  Education  CDAccount  Experience\n",
       "0   25          3          0           3\n",
       "1   60          3          1          40\n",
       "2   40          1          1          10"
      ]
     },
     "execution_count": 122,
     "metadata": {},
     "output_type": "execute_result"
    }
   ],
   "source": [
    "CCAvg  = pd.DataFrame({'Age':[25 ,  60 ,  40],  'Education':[3 ,  3,  1],  'CDAccount':[ 0 ,  1 ,  1 ],  'Experience':[3 , 40,  10]}) \n",
    "CCAvg"
   ]
  },
  {
   "cell_type": "code",
   "execution_count": 124,
   "id": "8c3e5213",
   "metadata": {},
   "outputs": [],
   "source": [
    "fitted = smf.ols(data=df_new, formula='CCAvg~Education+Age+Experience+CDAccount').fit()"
   ]
  },
  {
   "cell_type": "code",
   "execution_count": 125,
   "id": "8d5f4601",
   "metadata": {},
   "outputs": [
    {
     "data": {
      "text/plain": [
       "0    1.580020\n",
       "1    2.273433\n",
       "2    3.368599\n",
       "dtype: float64"
      ]
     },
     "execution_count": 125,
     "metadata": {},
     "output_type": "execute_result"
    }
   ],
   "source": [
    "CCAvg = fitted.predict(exog = CCAvg)\n",
    "CCAvg"
   ]
  },
  {
   "cell_type": "code",
   "execution_count": 128,
   "id": "45b73bcd",
   "metadata": {},
   "outputs": [
    {
     "data": {
      "text/plain": [
       "0     4.86\n",
       "1     9.71\n",
       "2    29.04\n",
       "dtype: float64"
      ]
     },
     "execution_count": 128,
     "metadata": {},
     "output_type": "execute_result"
    }
   ],
   "source": [
    "np.exp(CCAvg).round(2)"
   ]
  },
  {
   "cell_type": "markdown",
   "id": "1d90dbeb",
   "metadata": {},
   "source": [
    "###### исходя из проведенного исследования больше всего ежемесячных трат будет осуществлять 3-й человек (гипотеза о том, что чем ниже уровень образования у человека, тем больше он тратит подтвердилась :) ) \n"
   ]
  },
  {
   "cell_type": "code",
   "execution_count": 132,
   "id": "2664dff6",
   "metadata": {},
   "outputs": [],
   "source": [
    "# построим матрицу корреляций "
   ]
  },
  {
   "cell_type": "code",
   "execution_count": 134,
   "id": "41cc11b0",
   "metadata": {},
   "outputs": [
    {
     "data": {
      "text/html": [
       "<div>\n",
       "<style scoped>\n",
       "    .dataframe tbody tr th:only-of-type {\n",
       "        vertical-align: middle;\n",
       "    }\n",
       "\n",
       "    .dataframe tbody tr th {\n",
       "        vertical-align: top;\n",
       "    }\n",
       "\n",
       "    .dataframe thead th {\n",
       "        text-align: right;\n",
       "    }\n",
       "</style>\n",
       "<table border=\"1\" class=\"dataframe\">\n",
       "  <thead>\n",
       "    <tr style=\"text-align: right;\">\n",
       "      <th></th>\n",
       "      <th>Education</th>\n",
       "      <th>Age</th>\n",
       "      <th>CDAccount</th>\n",
       "      <th>Experience</th>\n",
       "    </tr>\n",
       "  </thead>\n",
       "  <tbody>\n",
       "    <tr>\n",
       "      <th>Education</th>\n",
       "      <td>1.000</td>\n",
       "      <td>0.041</td>\n",
       "      <td>0.014</td>\n",
       "      <td>0.013</td>\n",
       "    </tr>\n",
       "    <tr>\n",
       "      <th>Age</th>\n",
       "      <td>0.041</td>\n",
       "      <td>1.000</td>\n",
       "      <td>0.008</td>\n",
       "      <td>0.994</td>\n",
       "    </tr>\n",
       "    <tr>\n",
       "      <th>CDAccount</th>\n",
       "      <td>0.014</td>\n",
       "      <td>0.008</td>\n",
       "      <td>1.000</td>\n",
       "      <td>0.010</td>\n",
       "    </tr>\n",
       "    <tr>\n",
       "      <th>Experience</th>\n",
       "      <td>0.013</td>\n",
       "      <td>0.994</td>\n",
       "      <td>0.010</td>\n",
       "      <td>1.000</td>\n",
       "    </tr>\n",
       "  </tbody>\n",
       "</table>\n",
       "</div>"
      ],
      "text/plain": [
       "            Education    Age  CDAccount  Experience\n",
       "Education       1.000  0.041      0.014       0.013\n",
       "Age             0.041  1.000      0.008       0.994\n",
       "CDAccount       0.014  0.008      1.000       0.010\n",
       "Experience      0.013  0.994      0.010       1.000"
      ]
     },
     "execution_count": 134,
     "metadata": {},
     "output_type": "execute_result"
    }
   ],
   "source": [
    "df = df_new[['Education', 'Age', 'CDAccount', 'Experience']].copy()\n",
    "corr_matrix = df.corr().round(3)\n",
    "corr_matrix"
   ]
  },
  {
   "cell_type": "code",
   "execution_count": 135,
   "id": "7f5573ef",
   "metadata": {},
   "outputs": [
    {
     "data": {
      "image/png": "[encoded data removed]",
      "text/plain": [
       "<Figure size 640x480 with 2 Axes>"
      ]
     },
     "metadata": {},
     "output_type": "display_data"
    }
   ],
   "source": [
    "sm.graphics.plot_corr(corr_matrix, xnames=df.columns, normcolor=True, cmap='coolwarm')\n",
    "plt.show()"
   ]
  },
  {
   "cell_type": "markdown",
   "id": "0e075dec",
   "metadata": {},
   "source": [
    "###### наблюдается положительная корреляция между age и experience, эти регрессоры имеют бОльшую взаимосвзяь друг с другом, что имеет вполне логичное объяснение, так как с возрастом наш стаж работы увеличивается, как показано ниже чем старше человек, тем выше его стаж  (на 0,99 с каждым годом, при прочих равных)"
   ]
  },
  {
   "cell_type": "code",
   "execution_count": 139,
   "id": "176ecf78",
   "metadata": {},
   "outputs": [
    {
     "data": {
      "text/plain": [
       "Intercept   -24.990339\n",
       "Age           0.994630\n",
       "dtype: float64"
      ]
     },
     "execution_count": 139,
     "metadata": {},
     "output_type": "execute_result"
    }
   ],
   "source": [
    "fitted = smf.ols(data=df, formula='Experience~Age').fit()\n",
    "fitted.params"
   ]
  },
  {
   "cell_type": "code",
   "execution_count": 150,
   "id": "9a11ad62",
   "metadata": {},
   "outputs": [],
   "source": [
    "# проведем Reset-тест"
   ]
  },
  {
   "cell_type": "code",
   "execution_count": 162,
   "id": "031f5b49",
   "metadata": {},
   "outputs": [],
   "source": [
    "model = smf.ols (data=df_new, formula ='CCAvg~Education+Age+Experience+CDAccount').fit()\n",
    "hat_CCAvg = model.predict()"
   ]
  },
  {
   "cell_type": "code",
   "execution_count": 167,
   "id": "83c4fd15",
   "metadata": {},
   "outputs": [
    {
     "data": {
      "text/html": [
       "<div>\n",
       "<style scoped>\n",
       "    .dataframe tbody tr th:only-of-type {\n",
       "        vertical-align: middle;\n",
       "    }\n",
       "\n",
       "    .dataframe tbody tr th {\n",
       "        vertical-align: top;\n",
       "    }\n",
       "\n",
       "    .dataframe thead th {\n",
       "        text-align: right;\n",
       "    }\n",
       "</style>\n",
       "<table border=\"1\" class=\"dataframe\">\n",
       "  <thead>\n",
       "    <tr style=\"text-align: right;\">\n",
       "      <th></th>\n",
       "      <th>ID</th>\n",
       "      <th>Age</th>\n",
       "      <th>Experience</th>\n",
       "      <th>Income</th>\n",
       "      <th>ZIP Code</th>\n",
       "      <th>Family</th>\n",
       "      <th>CCAvg</th>\n",
       "      <th>Education</th>\n",
       "      <th>Mortgage</th>\n",
       "      <th>Personal Loan</th>\n",
       "      <th>Securities Account</th>\n",
       "      <th>CDAccount</th>\n",
       "      <th>Online</th>\n",
       "      <th>CreditCard</th>\n",
       "      <th>CCAvg2</th>\n",
       "      <th>CCAvg3</th>\n",
       "    </tr>\n",
       "  </thead>\n",
       "  <tbody>\n",
       "    <tr>\n",
       "      <th>0</th>\n",
       "      <td>1</td>\n",
       "      <td>25</td>\n",
       "      <td>1</td>\n",
       "      <td>49</td>\n",
       "      <td>91107</td>\n",
       "      <td>4</td>\n",
       "      <td>1.6</td>\n",
       "      <td>1</td>\n",
       "      <td>0</td>\n",
       "      <td>0</td>\n",
       "      <td>1</td>\n",
       "      <td>0</td>\n",
       "      <td>0</td>\n",
       "      <td>0</td>\n",
       "      <td>5.036725</td>\n",
       "      <td>11.303746</td>\n",
       "    </tr>\n",
       "    <tr>\n",
       "      <th>1</th>\n",
       "      <td>2</td>\n",
       "      <td>45</td>\n",
       "      <td>19</td>\n",
       "      <td>34</td>\n",
       "      <td>90089</td>\n",
       "      <td>3</td>\n",
       "      <td>1.5</td>\n",
       "      <td>1</td>\n",
       "      <td>0</td>\n",
       "      <td>0</td>\n",
       "      <td>1</td>\n",
       "      <td>0</td>\n",
       "      <td>0</td>\n",
       "      <td>0</td>\n",
       "      <td>4.696729</td>\n",
       "      <td>10.178721</td>\n",
       "    </tr>\n",
       "    <tr>\n",
       "      <th>2</th>\n",
       "      <td>3</td>\n",
       "      <td>39</td>\n",
       "      <td>15</td>\n",
       "      <td>11</td>\n",
       "      <td>94720</td>\n",
       "      <td>1</td>\n",
       "      <td>1.0</td>\n",
       "      <td>1</td>\n",
       "      <td>0</td>\n",
       "      <td>0</td>\n",
       "      <td>0</td>\n",
       "      <td>0</td>\n",
       "      <td>0</td>\n",
       "      <td>0</td>\n",
       "      <td>4.582923</td>\n",
       "      <td>9.811012</td>\n",
       "    </tr>\n",
       "    <tr>\n",
       "      <th>3</th>\n",
       "      <td>4</td>\n",
       "      <td>35</td>\n",
       "      <td>9</td>\n",
       "      <td>100</td>\n",
       "      <td>94112</td>\n",
       "      <td>1</td>\n",
       "      <td>2.7</td>\n",
       "      <td>2</td>\n",
       "      <td>0</td>\n",
       "      <td>0</td>\n",
       "      <td>0</td>\n",
       "      <td>0</td>\n",
       "      <td>0</td>\n",
       "      <td>0</td>\n",
       "      <td>3.780601</td>\n",
       "      <td>7.350912</td>\n",
       "    </tr>\n",
       "    <tr>\n",
       "      <th>4</th>\n",
       "      <td>5</td>\n",
       "      <td>35</td>\n",
       "      <td>8</td>\n",
       "      <td>45</td>\n",
       "      <td>91330</td>\n",
       "      <td>4</td>\n",
       "      <td>1.0</td>\n",
       "      <td>2</td>\n",
       "      <td>0</td>\n",
       "      <td>0</td>\n",
       "      <td>0</td>\n",
       "      <td>0</td>\n",
       "      <td>0</td>\n",
       "      <td>1</td>\n",
       "      <td>3.919456</td>\n",
       "      <td>7.759589</td>\n",
       "    </tr>\n",
       "    <tr>\n",
       "      <th>...</th>\n",
       "      <td>...</td>\n",
       "      <td>...</td>\n",
       "      <td>...</td>\n",
       "      <td>...</td>\n",
       "      <td>...</td>\n",
       "      <td>...</td>\n",
       "      <td>...</td>\n",
       "      <td>...</td>\n",
       "      <td>...</td>\n",
       "      <td>...</td>\n",
       "      <td>...</td>\n",
       "      <td>...</td>\n",
       "      <td>...</td>\n",
       "      <td>...</td>\n",
       "      <td>...</td>\n",
       "      <td>...</td>\n",
       "    </tr>\n",
       "    <tr>\n",
       "      <th>4995</th>\n",
       "      <td>4996</td>\n",
       "      <td>29</td>\n",
       "      <td>3</td>\n",
       "      <td>40</td>\n",
       "      <td>92697</td>\n",
       "      <td>1</td>\n",
       "      <td>1.9</td>\n",
       "      <td>3</td>\n",
       "      <td>0</td>\n",
       "      <td>0</td>\n",
       "      <td>0</td>\n",
       "      <td>0</td>\n",
       "      <td>1</td>\n",
       "      <td>0</td>\n",
       "      <td>2.862835</td>\n",
       "      <td>4.843892</td>\n",
       "    </tr>\n",
       "    <tr>\n",
       "      <th>4996</th>\n",
       "      <td>4997</td>\n",
       "      <td>30</td>\n",
       "      <td>4</td>\n",
       "      <td>15</td>\n",
       "      <td>92037</td>\n",
       "      <td>4</td>\n",
       "      <td>0.4</td>\n",
       "      <td>1</td>\n",
       "      <td>85</td>\n",
       "      <td>0</td>\n",
       "      <td>0</td>\n",
       "      <td>0</td>\n",
       "      <td>1</td>\n",
       "      <td>0</td>\n",
       "      <td>5.189624</td>\n",
       "      <td>11.822350</td>\n",
       "    </tr>\n",
       "    <tr>\n",
       "      <th>4997</th>\n",
       "      <td>4998</td>\n",
       "      <td>63</td>\n",
       "      <td>39</td>\n",
       "      <td>24</td>\n",
       "      <td>93023</td>\n",
       "      <td>2</td>\n",
       "      <td>0.3</td>\n",
       "      <td>3</td>\n",
       "      <td>0</td>\n",
       "      <td>0</td>\n",
       "      <td>0</td>\n",
       "      <td>0</td>\n",
       "      <td>0</td>\n",
       "      <td>0</td>\n",
       "      <td>1.876603</td>\n",
       "      <td>2.570743</td>\n",
       "    </tr>\n",
       "    <tr>\n",
       "      <th>4998</th>\n",
       "      <td>4999</td>\n",
       "      <td>65</td>\n",
       "      <td>40</td>\n",
       "      <td>49</td>\n",
       "      <td>90034</td>\n",
       "      <td>3</td>\n",
       "      <td>0.5</td>\n",
       "      <td>2</td>\n",
       "      <td>0</td>\n",
       "      <td>0</td>\n",
       "      <td>0</td>\n",
       "      <td>0</td>\n",
       "      <td>1</td>\n",
       "      <td>0</td>\n",
       "      <td>2.846746</td>\n",
       "      <td>4.803115</td>\n",
       "    </tr>\n",
       "    <tr>\n",
       "      <th>4999</th>\n",
       "      <td>5000</td>\n",
       "      <td>28</td>\n",
       "      <td>4</td>\n",
       "      <td>83</td>\n",
       "      <td>92612</td>\n",
       "      <td>3</td>\n",
       "      <td>0.8</td>\n",
       "      <td>1</td>\n",
       "      <td>0</td>\n",
       "      <td>0</td>\n",
       "      <td>0</td>\n",
       "      <td>0</td>\n",
       "      <td>1</td>\n",
       "      <td>1</td>\n",
       "      <td>4.937679</td>\n",
       "      <td>10.971961</td>\n",
       "    </tr>\n",
       "  </tbody>\n",
       "</table>\n",
       "<p>5000 rows × 16 columns</p>\n",
       "</div>"
      ],
      "text/plain": [
       "        ID  Age  Experience  Income  ZIP Code  Family  CCAvg  Education  \\\n",
       "0        1   25           1      49     91107       4    1.6          1   \n",
       "1        2   45          19      34     90089       3    1.5          1   \n",
       "2        3   39          15      11     94720       1    1.0          1   \n",
       "3        4   35           9     100     94112       1    2.7          2   \n",
       "4        5   35           8      45     91330       4    1.0          2   \n",
       "...    ...  ...         ...     ...       ...     ...    ...        ...   \n",
       "4995  4996   29           3      40     92697       1    1.9          3   \n",
       "4996  4997   30           4      15     92037       4    0.4          1   \n",
       "4997  4998   63          39      24     93023       2    0.3          3   \n",
       "4998  4999   65          40      49     90034       3    0.5          2   \n",
       "4999  5000   28           4      83     92612       3    0.8          1   \n",
       "\n",
       "      Mortgage  Personal Loan  Securities Account  CDAccount  Online  \\\n",
       "0            0              0                   1          0       0   \n",
       "1            0              0                   1          0       0   \n",
       "2            0              0                   0          0       0   \n",
       "3            0              0                   0          0       0   \n",
       "4            0              0                   0          0       0   \n",
       "...        ...            ...                 ...        ...     ...   \n",
       "4995         0              0                   0          0       1   \n",
       "4996        85              0                   0          0       1   \n",
       "4997         0              0                   0          0       0   \n",
       "4998         0              0                   0          0       1   \n",
       "4999         0              0                   0          0       1   \n",
       "\n",
       "      CreditCard    CCAvg2     CCAvg3  \n",
       "0              0  5.036725  11.303746  \n",
       "1              0  4.696729  10.178721  \n",
       "2              0  4.582923   9.811012  \n",
       "3              0  3.780601   7.350912  \n",
       "4              1  3.919456   7.759589  \n",
       "...          ...       ...        ...  \n",
       "4995           0  2.862835   4.843892  \n",
       "4996           0  5.189624  11.822350  \n",
       "4997           0  1.876603   2.570743  \n",
       "4998           0  2.846746   4.803115  \n",
       "4999           1  4.937679  10.971961  \n",
       "\n",
       "[5000 rows x 16 columns]"
      ]
     },
     "execution_count": 167,
     "metadata": {},
     "output_type": "execute_result"
    }
   ],
   "source": [
    "df_new['CCAvg2'] = hat_CCAvg**2\n",
    "df_new['CCAvg3'] = hat_CCAvg**3\n",
    "df_new"
   ]
  },
  {
   "cell_type": "code",
   "execution_count": 168,
   "id": "45297b26",
   "metadata": {},
   "outputs": [],
   "source": [
    "model_new = smf.ols (data=df_new, formula='CCAvg~Education+Age+Experience+CDAccount+CCAvg2+CCAvg3').fit()"
   ]
  },
  {
   "cell_type": "code",
   "execution_count": 169,
   "id": "666dcc7f",
   "metadata": {},
   "outputs": [],
   "source": [
    "R_un = model_new.rsquared\n",
    "R_res = model.rsquared"
   ]
  },
  {
   "cell_type": "code",
   "execution_count": 170,
   "id": "f20d4fbe",
   "metadata": {},
   "outputs": [
    {
     "data": {
      "text/plain": [
       "7.85"
      ]
     },
     "execution_count": 170,
     "metadata": {},
     "output_type": "execute_result"
    }
   ],
   "source": [
    "F_ob = (R_un-R_res)/(1-R_un)*(len(df)-12)/3\n",
    "F_ob.round(3)"
   ]
  },
  {
   "cell_type": "code",
   "execution_count": 172,
   "id": "f429d3ab",
   "metadata": {},
   "outputs": [
    {
     "data": {
      "text/plain": [
       "2.998"
      ]
     },
     "execution_count": 172,
     "metadata": {},
     "output_type": "execute_result"
    }
   ],
   "source": [
    "alpha = 0.05\n",
    "stats.f.ppf(1-0.05,2,len(df)-7).round(3)"
   ]
  },
  {
   "cell_type": "markdown",
   "id": "6e597f2a",
   "metadata": {},
   "source": [
    "$$ F_{cr} < F_{ob} \\Rightarrow $$ \n",
    "###### регрессия не согласуется с данными, соответсвенно, в придуманной мной модели учтены не все показатели, оказывающие влияние на результат"
   ]
  },
  {
   "cell_type": "code",
   "execution_count": 173,
   "id": "7f6ea2c6",
   "metadata": {},
   "outputs": [],
   "source": [
    "# проведем также тест Дарбина-Уотсона"
   ]
  },
  {
   "cell_type": "code",
   "execution_count": 174,
   "id": "8ffef99c",
   "metadata": {},
   "outputs": [],
   "source": [
    "res_sum = sum(model.resid**2)"
   ]
  },
  {
   "cell_type": "code",
   "execution_count": 175,
   "id": "887e6ef4",
   "metadata": {},
   "outputs": [],
   "source": [
    "sum_resid = 0\n",
    "for i in range(len(model.resid)-1):\n",
    "    sum_resid+=(model.resid[i+1]-model.resid[i])**2"
   ]
  },
  {
   "cell_type": "code",
   "execution_count": 180,
   "id": "467fba18",
   "metadata": {},
   "outputs": [
    {
     "data": {
      "text/plain": [
       "1.972"
      ]
     },
     "execution_count": 180,
     "metadata": {},
     "output_type": "execute_result"
    }
   ],
   "source": [
    "from statsmodels.stats.stattools import durbin_watson\n",
    "DW = durbin_watson(model.resid)\n",
    "DW.round(3)"
   ]
  },
  {
   "cell_type": "markdown",
   "id": "9128bab2",
   "metadata": {},
   "source": [
    "###### исходя из таблицы критических значений полученное значение теста находится в зоне неопределенности"
   ]
  },
  {
   "cell_type": "markdown",
   "id": "2a6caf3e",
   "metadata": {},
   "source": [
    "###### Таким образом, можно прийти к выводу, что составленная мной модель не имеет противоречащих друг другу регрессоров, она имеет место существоаать, но важно отметить, что моя модель не является исчерпывающей, так как не включает в себя все показатели, влияющие на результат\n",
    "###### Тест Дарбина-Уотсона не помог определить наличие автокорреляции в модели, так как значение попало в зону неопределенности \n",
    "###### Также мложно отметить высокую взаимосвязанность переменных возраста и стажа работы, которая была выявлена с помощью матрицы корреляций \n",
    "###### Из рассмотренных мною регрессоров наибольшее влияние оказывает наличие депозитного счета в банке, а также возраст, данные показатели значительно увеличивают уровень ежемесячных трат с карты, остальные регрессоры, наоборот, уменьшают траты"
   ]
  },
  {
   "cell_type": "code",
   "execution_count": null,
   "id": "0757d9fa",
   "metadata": {
    "scrolled": true
   },
   "outputs": [],
   "source": []
  }
 ],
 "metadata": {
  "kernelspec": {
   "display_name": "Python 3 (ipykernel)",
   "language": "python",
   "name": "python3"
  },
  "language_info": {
   "codemirror_mode": {
    "name": "ipython",
    "version": 3
   },
   "file_extension": ".py",
   "mimetype": "text/x-python",
   "name": "python",
   "nbconvert_exporter": "python",
   "pygments_lexer": "ipython3",
   "version": "3.9.13"
  }
 },
 "nbformat": 4,
 "nbformat_minor": 5
}
