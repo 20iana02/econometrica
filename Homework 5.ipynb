{
 "cells": [
  {
   "cell_type": "code",
   "execution_count": 11,
   "id": "544ca7f6",
   "metadata": {},
   "outputs": [],
   "source": [
    "import pandas as pd\n",
    "import numpy as np\n",
    "import io\n",
    "import statsmodels.formula.api as smf\n",
    "import scipy.stats as stats\n",
    "import re"
   ]
  },
  {
   "cell_type": "markdown",
   "id": "986e5084",
   "metadata": {},
   "source": [
    "## Значимость регрессии "
   ]
  },
  {
   "cell_type": "markdown",
   "id": "1290b4cf",
   "metadata": {},
   "source": [
    "### Задание 1.1"
   ]
  },
  {
   "cell_type": "code",
   "execution_count": 13,
   "id": "28f91454",
   "metadata": {},
   "outputs": [],
   "source": [
    "data_string = '''Observations     706         706         706         706    \n",
    "R2              0.132       0.131       0.128       0.007   \n",
    "Adjusted.R2     0.121       0.123       0.121       0.002   '''"
   ]
  },
  {
   "cell_type": "code",
   "execution_count": 15,
   "id": "bcf42aef",
   "metadata": {},
   "outputs": [
    {
     "data": {
      "text/html": [
       "<div>\n",
       "<style scoped>\n",
       "    .dataframe tbody tr th:only-of-type {\n",
       "        vertical-align: middle;\n",
       "    }\n",
       "\n",
       "    .dataframe tbody tr th {\n",
       "        vertical-align: top;\n",
       "    }\n",
       "\n",
       "    .dataframe thead th {\n",
       "        text-align: right;\n",
       "    }\n",
       "</style>\n",
       "<table border=\"1\" class=\"dataframe\">\n",
       "  <thead>\n",
       "    <tr style=\"text-align: right;\">\n",
       "      <th></th>\n",
       "      <th>0</th>\n",
       "      <th>1</th>\n",
       "      <th>2</th>\n",
       "      <th>3</th>\n",
       "      <th>4</th>\n",
       "    </tr>\n",
       "  </thead>\n",
       "  <tbody>\n",
       "    <tr>\n",
       "      <th>0</th>\n",
       "      <td>Observations</td>\n",
       "      <td>706.000</td>\n",
       "      <td>706.000</td>\n",
       "      <td>706.000</td>\n",
       "      <td>706.000</td>\n",
       "    </tr>\n",
       "    <tr>\n",
       "      <th>1</th>\n",
       "      <td>R2</td>\n",
       "      <td>0.132</td>\n",
       "      <td>0.131</td>\n",
       "      <td>0.128</td>\n",
       "      <td>0.007</td>\n",
       "    </tr>\n",
       "    <tr>\n",
       "      <th>2</th>\n",
       "      <td>Adjusted.R2</td>\n",
       "      <td>0.121</td>\n",
       "      <td>0.123</td>\n",
       "      <td>0.121</td>\n",
       "      <td>0.002</td>\n",
       "    </tr>\n",
       "  </tbody>\n",
       "</table>\n",
       "</div>"
      ],
      "text/plain": [
       "              0        1        2        3        4\n",
       "0  Observations  706.000  706.000  706.000  706.000\n",
       "1            R2    0.132    0.131    0.128    0.007\n",
       "2   Adjusted.R2    0.121    0.123    0.121    0.002"
      ]
     },
     "execution_count": 15,
     "metadata": {},
     "output_type": "execute_result"
    }
   ],
   "source": [
    "df = pd.read_csv(io.StringIO(data_string), delimiter='\\s+', header=None, index_col=0)\n",
    "df.reset_index()"
   ]
  },
  {
   "cell_type": "code",
   "execution_count": 16,
   "id": "cb9b18be",
   "metadata": {},
   "outputs": [
    {
     "data": {
      "text/html": [
       "<div>\n",
       "<style scoped>\n",
       "    .dataframe tbody tr th:only-of-type {\n",
       "        vertical-align: middle;\n",
       "    }\n",
       "\n",
       "    .dataframe tbody tr th {\n",
       "        vertical-align: top;\n",
       "    }\n",
       "\n",
       "    .dataframe thead th {\n",
       "        text-align: right;\n",
       "    }\n",
       "</style>\n",
       "<table border=\"1\" class=\"dataframe\">\n",
       "  <thead>\n",
       "    <tr style=\"text-align: right;\">\n",
       "      <th></th>\n",
       "      <th>Observations</th>\n",
       "      <th>R2</th>\n",
       "      <th>Adjusted.R2</th>\n",
       "    </tr>\n",
       "  </thead>\n",
       "  <tbody>\n",
       "    <tr>\n",
       "      <th>1</th>\n",
       "      <td>706.0</td>\n",
       "      <td>0.132</td>\n",
       "      <td>0.121</td>\n",
       "    </tr>\n",
       "    <tr>\n",
       "      <th>2</th>\n",
       "      <td>706.0</td>\n",
       "      <td>0.131</td>\n",
       "      <td>0.123</td>\n",
       "    </tr>\n",
       "    <tr>\n",
       "      <th>3</th>\n",
       "      <td>706.0</td>\n",
       "      <td>0.128</td>\n",
       "      <td>0.121</td>\n",
       "    </tr>\n",
       "    <tr>\n",
       "      <th>4</th>\n",
       "      <td>706.0</td>\n",
       "      <td>0.007</td>\n",
       "      <td>0.002</td>\n",
       "    </tr>\n",
       "  </tbody>\n",
       "</table>\n",
       "</div>"
      ],
      "text/plain": [
       "0  Observations     R2  Adjusted.R2\n",
       "1         706.0  0.132        0.121\n",
       "2         706.0  0.131        0.123\n",
       "3         706.0  0.128        0.121\n",
       "4         706.0  0.007        0.002"
      ]
     },
     "execution_count": 16,
     "metadata": {},
     "output_type": "execute_result"
    }
   ],
   "source": [
    "df = df.transpose()\n",
    "df"
   ]
  },
  {
   "cell_type": "code",
   "execution_count": 17,
   "id": "6e4dc71e",
   "metadata": {},
   "outputs": [
    {
     "data": {
      "text/html": [
       "<div>\n",
       "<style scoped>\n",
       "    .dataframe tbody tr th:only-of-type {\n",
       "        vertical-align: middle;\n",
       "    }\n",
       "\n",
       "    .dataframe tbody tr th {\n",
       "        vertical-align: top;\n",
       "    }\n",
       "\n",
       "    .dataframe thead th {\n",
       "        text-align: right;\n",
       "    }\n",
       "</style>\n",
       "<table border=\"1\" class=\"dataframe\">\n",
       "  <thead>\n",
       "    <tr style=\"text-align: right;\">\n",
       "      <th></th>\n",
       "      <th>Observations</th>\n",
       "      <th>R2</th>\n",
       "      <th>Adjusted.R2</th>\n",
       "      <th>m</th>\n",
       "    </tr>\n",
       "  </thead>\n",
       "  <tbody>\n",
       "    <tr>\n",
       "      <th>1</th>\n",
       "      <td>706.0</td>\n",
       "      <td>0.132</td>\n",
       "      <td>0.121</td>\n",
       "      <td>10</td>\n",
       "    </tr>\n",
       "    <tr>\n",
       "      <th>2</th>\n",
       "      <td>706.0</td>\n",
       "      <td>0.131</td>\n",
       "      <td>0.123</td>\n",
       "      <td>8</td>\n",
       "    </tr>\n",
       "    <tr>\n",
       "      <th>3</th>\n",
       "      <td>706.0</td>\n",
       "      <td>0.128</td>\n",
       "      <td>0.121</td>\n",
       "      <td>6</td>\n",
       "    </tr>\n",
       "    <tr>\n",
       "      <th>4</th>\n",
       "      <td>706.0</td>\n",
       "      <td>0.007</td>\n",
       "      <td>0.002</td>\n",
       "      <td>5</td>\n",
       "    </tr>\n",
       "  </tbody>\n",
       "</table>\n",
       "</div>"
      ],
      "text/plain": [
       "0  Observations     R2  Adjusted.R2   m\n",
       "1         706.0  0.132        0.121  10\n",
       "2         706.0  0.131        0.123   8\n",
       "3         706.0  0.128        0.121   6\n",
       "4         706.0  0.007        0.002   5"
      ]
     },
     "execution_count": 17,
     "metadata": {},
     "output_type": "execute_result"
    }
   ],
   "source": [
    "# Заполним столбец значением m\n",
    "df['m'] = [10,8,6,5]\n",
    "df"
   ]
  },
  {
   "cell_type": "code",
   "execution_count": 24,
   "id": "941bd756",
   "metadata": {},
   "outputs": [
    {
     "data": {
      "text/html": [
       "<div>\n",
       "<style scoped>\n",
       "    .dataframe tbody tr th:only-of-type {\n",
       "        vertical-align: middle;\n",
       "    }\n",
       "\n",
       "    .dataframe tbody tr th {\n",
       "        vertical-align: top;\n",
       "    }\n",
       "\n",
       "    .dataframe thead th {\n",
       "        text-align: right;\n",
       "    }\n",
       "</style>\n",
       "<table border=\"1\" class=\"dataframe\">\n",
       "  <thead>\n",
       "    <tr style=\"text-align: right;\">\n",
       "      <th></th>\n",
       "      <th>Observations</th>\n",
       "      <th>R2</th>\n",
       "      <th>Adjusted.R2</th>\n",
       "      <th>m</th>\n",
       "      <th>F_nab</th>\n",
       "      <th>F_stat</th>\n",
       "      <th>F_cr</th>\n",
       "    </tr>\n",
       "  </thead>\n",
       "  <tbody>\n",
       "    <tr>\n",
       "      <th>1</th>\n",
       "      <td>706.0</td>\n",
       "      <td>0.13</td>\n",
       "      <td>0.12</td>\n",
       "      <td>10</td>\n",
       "      <td>11.76</td>\n",
       "      <td>11.76</td>\n",
       "      <td>1.89</td>\n",
       "    </tr>\n",
       "    <tr>\n",
       "      <th>2</th>\n",
       "      <td>706.0</td>\n",
       "      <td>0.13</td>\n",
       "      <td>0.12</td>\n",
       "      <td>8</td>\n",
       "      <td>15.03</td>\n",
       "      <td>15.03</td>\n",
       "      <td>2.02</td>\n",
       "    </tr>\n",
       "    <tr>\n",
       "      <th>3</th>\n",
       "      <td>706.0</td>\n",
       "      <td>0.13</td>\n",
       "      <td>0.12</td>\n",
       "      <td>6</td>\n",
       "      <td>20.55</td>\n",
       "      <td>20.55</td>\n",
       "      <td>2.23</td>\n",
       "    </tr>\n",
       "    <tr>\n",
       "      <th>4</th>\n",
       "      <td>706.0</td>\n",
       "      <td>0.01</td>\n",
       "      <td>0.00</td>\n",
       "      <td>5</td>\n",
       "      <td>1.24</td>\n",
       "      <td>1.24</td>\n",
       "      <td>2.38</td>\n",
       "    </tr>\n",
       "  </tbody>\n",
       "</table>\n",
       "</div>"
      ],
      "text/plain": [
       "0  Observations    R2  Adjusted.R2   m  F_nab  F_stat  F_cr\n",
       "1         706.0  0.13         0.12  10  11.76   11.76  1.89\n",
       "2         706.0  0.13         0.12   8  15.03   15.03  2.02\n",
       "3         706.0  0.13         0.12   6  20.55   20.55  2.23\n",
       "4         706.0  0.01         0.00   5   1.24    1.24  2.38"
      ]
     },
     "execution_count": 24,
     "metadata": {},
     "output_type": "execute_result"
    }
   ],
   "source": [
    "df['F_stat'] = (df['R2']/(1-df['R2']))*((df['Observations']-df['m'])/(df['m']-1))\n",
    "df.round(2)"
   ]
  },
  {
   "cell_type": "code",
   "execution_count": 23,
   "id": "d7d35a97",
   "metadata": {},
   "outputs": [
    {
     "data": {
      "text/html": [
       "<div>\n",
       "<style scoped>\n",
       "    .dataframe tbody tr th:only-of-type {\n",
       "        vertical-align: middle;\n",
       "    }\n",
       "\n",
       "    .dataframe tbody tr th {\n",
       "        vertical-align: top;\n",
       "    }\n",
       "\n",
       "    .dataframe thead th {\n",
       "        text-align: right;\n",
       "    }\n",
       "</style>\n",
       "<table border=\"1\" class=\"dataframe\">\n",
       "  <thead>\n",
       "    <tr style=\"text-align: right;\">\n",
       "      <th></th>\n",
       "      <th>Observations</th>\n",
       "      <th>R2</th>\n",
       "      <th>Adjusted.R2</th>\n",
       "      <th>m</th>\n",
       "      <th>F_nab</th>\n",
       "      <th>F_stat</th>\n",
       "      <th>F_cr</th>\n",
       "    </tr>\n",
       "  </thead>\n",
       "  <tbody>\n",
       "    <tr>\n",
       "      <th>1</th>\n",
       "      <td>706.0</td>\n",
       "      <td>0.13</td>\n",
       "      <td>0.12</td>\n",
       "      <td>10</td>\n",
       "      <td>11.76</td>\n",
       "      <td>11.76</td>\n",
       "      <td>1.89</td>\n",
       "    </tr>\n",
       "    <tr>\n",
       "      <th>2</th>\n",
       "      <td>706.0</td>\n",
       "      <td>0.13</td>\n",
       "      <td>0.12</td>\n",
       "      <td>8</td>\n",
       "      <td>15.03</td>\n",
       "      <td>15.03</td>\n",
       "      <td>2.02</td>\n",
       "    </tr>\n",
       "    <tr>\n",
       "      <th>3</th>\n",
       "      <td>706.0</td>\n",
       "      <td>0.13</td>\n",
       "      <td>0.12</td>\n",
       "      <td>6</td>\n",
       "      <td>20.55</td>\n",
       "      <td>20.55</td>\n",
       "      <td>2.23</td>\n",
       "    </tr>\n",
       "    <tr>\n",
       "      <th>4</th>\n",
       "      <td>706.0</td>\n",
       "      <td>0.01</td>\n",
       "      <td>0.00</td>\n",
       "      <td>5</td>\n",
       "      <td>1.24</td>\n",
       "      <td>1.24</td>\n",
       "      <td>2.38</td>\n",
       "    </tr>\n",
       "  </tbody>\n",
       "</table>\n",
       "</div>"
      ],
      "text/plain": [
       "0  Observations    R2  Adjusted.R2   m  F_nab  F_stat  F_cr\n",
       "1         706.0  0.13         0.12  10  11.76   11.76  1.89\n",
       "2         706.0  0.13         0.12   8  15.03   15.03  2.02\n",
       "3         706.0  0.13         0.12   6  20.55   20.55  2.23\n",
       "4         706.0  0.01         0.00   5   1.24    1.24  2.38"
      ]
     },
     "execution_count": 23,
     "metadata": {},
     "output_type": "execute_result"
    }
   ],
   "source": [
    "alpha = 0.05\n",
    "df['F_cr'] = stats.f.ppf(1-alpha,df['m']-1,df['Observations'] - df['m'])\n",
    "df.round(2)"
   ]
  },
  {
   "cell_type": "code",
   "execution_count": 25,
   "id": "221203bf",
   "metadata": {},
   "outputs": [
    {
     "data": {
      "text/html": [
       "<div>\n",
       "<style scoped>\n",
       "    .dataframe tbody tr th:only-of-type {\n",
       "        vertical-align: middle;\n",
       "    }\n",
       "\n",
       "    .dataframe tbody tr th {\n",
       "        vertical-align: top;\n",
       "    }\n",
       "\n",
       "    .dataframe thead th {\n",
       "        text-align: right;\n",
       "    }\n",
       "</style>\n",
       "<table border=\"1\" class=\"dataframe\">\n",
       "  <thead>\n",
       "    <tr style=\"text-align: right;\">\n",
       "      <th></th>\n",
       "      <th>Observations</th>\n",
       "      <th>R2</th>\n",
       "      <th>Adjusted.R2</th>\n",
       "      <th>m</th>\n",
       "      <th>F_nab</th>\n",
       "      <th>F_stat</th>\n",
       "      <th>F_cr</th>\n",
       "      <th>znachimost</th>\n",
       "    </tr>\n",
       "  </thead>\n",
       "  <tbody>\n",
       "    <tr>\n",
       "      <th>1</th>\n",
       "      <td>706.0</td>\n",
       "      <td>0.132</td>\n",
       "      <td>0.121</td>\n",
       "      <td>10</td>\n",
       "      <td>11.760369</td>\n",
       "      <td>11.760369</td>\n",
       "      <td>1.893317</td>\n",
       "      <td>znachima</td>\n",
       "    </tr>\n",
       "    <tr>\n",
       "      <th>2</th>\n",
       "      <td>706.0</td>\n",
       "      <td>0.131</td>\n",
       "      <td>0.123</td>\n",
       "      <td>8</td>\n",
       "      <td>15.031728</td>\n",
       "      <td>15.031728</td>\n",
       "      <td>2.022681</td>\n",
       "      <td>znachima</td>\n",
       "    </tr>\n",
       "    <tr>\n",
       "      <th>3</th>\n",
       "      <td>706.0</td>\n",
       "      <td>0.128</td>\n",
       "      <td>0.121</td>\n",
       "      <td>6</td>\n",
       "      <td>20.550459</td>\n",
       "      <td>20.550459</td>\n",
       "      <td>2.226901</td>\n",
       "      <td>znachima</td>\n",
       "    </tr>\n",
       "    <tr>\n",
       "      <th>4</th>\n",
       "      <td>706.0</td>\n",
       "      <td>0.007</td>\n",
       "      <td>0.002</td>\n",
       "      <td>5</td>\n",
       "      <td>1.235398</td>\n",
       "      <td>1.235398</td>\n",
       "      <td>2.384638</td>\n",
       "      <td>neznachimo</td>\n",
       "    </tr>\n",
       "  </tbody>\n",
       "</table>\n",
       "</div>"
      ],
      "text/plain": [
       "0  Observations     R2  Adjusted.R2   m      F_nab     F_stat      F_cr  \\\n",
       "1         706.0  0.132        0.121  10  11.760369  11.760369  1.893317   \n",
       "2         706.0  0.131        0.123   8  15.031728  15.031728  2.022681   \n",
       "3         706.0  0.128        0.121   6  20.550459  20.550459  2.226901   \n",
       "4         706.0  0.007        0.002   5   1.235398   1.235398  2.384638   \n",
       "\n",
       "0  znachimost  \n",
       "1    znachima  \n",
       "2    znachima  \n",
       "3    znachima  \n",
       "4  neznachimo  "
      ]
     },
     "execution_count": 25,
     "metadata": {},
     "output_type": "execute_result"
    }
   ],
   "source": [
    "df['znachimost'] = df.apply(lambda x : 'znachima' if x['F_nab'] > x['F_cr'] else 'neznachimo', axis = 1)\n",
    "df"
   ]
  },
  {
   "cell_type": "markdown",
   "id": "2c8404b9",
   "metadata": {},
   "source": [
    "\n",
    "- значимы все кроме 4 регрессии\n"
   ]
  },
  {
   "cell_type": "markdown",
   "id": "3522594a",
   "metadata": {},
   "source": [
    "### Задание 1.3"
   ]
  },
  {
   "cell_type": "code",
   "execution_count": 29,
   "id": "aeef3dab",
   "metadata": {},
   "outputs": [],
   "source": [
    "data_string = '''Observations            706         706         706         706    \n",
    "R2                     0.118       0.022       0.015       0.007   \n",
    "Adjusted.R2            0.110       0.014       0.012       0.002   \n",
    "Residual.Std.Error   419.371     441.301     441.775     444.018  \n",
    "F.Statistic          13.387    2.663    5.224      1.314   '''"
   ]
  },
  {
   "cell_type": "code",
   "execution_count": 30,
   "id": "5ab5d9e3",
   "metadata": {},
   "outputs": [
    {
     "data": {
      "text/html": [
       "<div>\n",
       "<style scoped>\n",
       "    .dataframe tbody tr th:only-of-type {\n",
       "        vertical-align: middle;\n",
       "    }\n",
       "\n",
       "    .dataframe tbody tr th {\n",
       "        vertical-align: top;\n",
       "    }\n",
       "\n",
       "    .dataframe thead th {\n",
       "        text-align: right;\n",
       "    }\n",
       "</style>\n",
       "<table border=\"1\" class=\"dataframe\">\n",
       "  <thead>\n",
       "    <tr style=\"text-align: right;\">\n",
       "      <th></th>\n",
       "      <th>0</th>\n",
       "      <th>1</th>\n",
       "      <th>2</th>\n",
       "      <th>3</th>\n",
       "      <th>4</th>\n",
       "    </tr>\n",
       "  </thead>\n",
       "  <tbody>\n",
       "    <tr>\n",
       "      <th>0</th>\n",
       "      <td>Observations</td>\n",
       "      <td>706.000</td>\n",
       "      <td>706.000</td>\n",
       "      <td>706.000</td>\n",
       "      <td>706.000</td>\n",
       "    </tr>\n",
       "    <tr>\n",
       "      <th>1</th>\n",
       "      <td>R2</td>\n",
       "      <td>0.118</td>\n",
       "      <td>0.022</td>\n",
       "      <td>0.015</td>\n",
       "      <td>0.007</td>\n",
       "    </tr>\n",
       "    <tr>\n",
       "      <th>2</th>\n",
       "      <td>Adjusted.R2</td>\n",
       "      <td>0.110</td>\n",
       "      <td>0.014</td>\n",
       "      <td>0.012</td>\n",
       "      <td>0.002</td>\n",
       "    </tr>\n",
       "    <tr>\n",
       "      <th>3</th>\n",
       "      <td>Residual.Std.Error</td>\n",
       "      <td>419.371</td>\n",
       "      <td>441.301</td>\n",
       "      <td>441.775</td>\n",
       "      <td>444.018</td>\n",
       "    </tr>\n",
       "    <tr>\n",
       "      <th>4</th>\n",
       "      <td>F.Statistic</td>\n",
       "      <td>13.387</td>\n",
       "      <td>2.663</td>\n",
       "      <td>5.224</td>\n",
       "      <td>1.314</td>\n",
       "    </tr>\n",
       "  </tbody>\n",
       "</table>\n",
       "</div>"
      ],
      "text/plain": [
       "                    0        1        2        3        4\n",
       "0        Observations  706.000  706.000  706.000  706.000\n",
       "1                  R2    0.118    0.022    0.015    0.007\n",
       "2         Adjusted.R2    0.110    0.014    0.012    0.002\n",
       "3  Residual.Std.Error  419.371  441.301  441.775  444.018\n",
       "4         F.Statistic   13.387    2.663    5.224    1.314"
      ]
     },
     "execution_count": 30,
     "metadata": {},
     "output_type": "execute_result"
    }
   ],
   "source": [
    "df = pd.read_csv(io.StringIO(data_string), delimiter='\\s+', header=None, index_col=0)\n",
    "df.reset_index()"
   ]
  },
  {
   "cell_type": "code",
   "execution_count": 31,
   "id": "b656e029",
   "metadata": {},
   "outputs": [
    {
     "data": {
      "text/html": [
       "<div>\n",
       "<style scoped>\n",
       "    .dataframe tbody tr th:only-of-type {\n",
       "        vertical-align: middle;\n",
       "    }\n",
       "\n",
       "    .dataframe tbody tr th {\n",
       "        vertical-align: top;\n",
       "    }\n",
       "\n",
       "    .dataframe thead th {\n",
       "        text-align: right;\n",
       "    }\n",
       "</style>\n",
       "<table border=\"1\" class=\"dataframe\">\n",
       "  <thead>\n",
       "    <tr style=\"text-align: right;\">\n",
       "      <th></th>\n",
       "      <th>Observations</th>\n",
       "      <th>R2</th>\n",
       "      <th>Adjusted.R2</th>\n",
       "      <th>Residual.Std.Error</th>\n",
       "      <th>F.Statistic</th>\n",
       "    </tr>\n",
       "  </thead>\n",
       "  <tbody>\n",
       "    <tr>\n",
       "      <th>1</th>\n",
       "      <td>706.0</td>\n",
       "      <td>0.118</td>\n",
       "      <td>0.110</td>\n",
       "      <td>419.371</td>\n",
       "      <td>13.387</td>\n",
       "    </tr>\n",
       "    <tr>\n",
       "      <th>2</th>\n",
       "      <td>706.0</td>\n",
       "      <td>0.022</td>\n",
       "      <td>0.014</td>\n",
       "      <td>441.301</td>\n",
       "      <td>2.663</td>\n",
       "    </tr>\n",
       "    <tr>\n",
       "      <th>3</th>\n",
       "      <td>706.0</td>\n",
       "      <td>0.015</td>\n",
       "      <td>0.012</td>\n",
       "      <td>441.775</td>\n",
       "      <td>5.224</td>\n",
       "    </tr>\n",
       "    <tr>\n",
       "      <th>4</th>\n",
       "      <td>706.0</td>\n",
       "      <td>0.007</td>\n",
       "      <td>0.002</td>\n",
       "      <td>444.018</td>\n",
       "      <td>1.314</td>\n",
       "    </tr>\n",
       "  </tbody>\n",
       "</table>\n",
       "</div>"
      ],
      "text/plain": [
       "0  Observations     R2  Adjusted.R2  Residual.Std.Error  F.Statistic\n",
       "1         706.0  0.118        0.110             419.371       13.387\n",
       "2         706.0  0.022        0.014             441.301        2.663\n",
       "3         706.0  0.015        0.012             441.775        5.224\n",
       "4         706.0  0.007        0.002             444.018        1.314"
      ]
     },
     "execution_count": 31,
     "metadata": {},
     "output_type": "execute_result"
    }
   ],
   "source": [
    "df = df.transpose()\n",
    "df"
   ]
  },
  {
   "cell_type": "code",
   "execution_count": 34,
   "id": "a88a1a3a",
   "metadata": {},
   "outputs": [
    {
     "data": {
      "text/html": [
       "<div>\n",
       "<style scoped>\n",
       "    .dataframe tbody tr th:only-of-type {\n",
       "        vertical-align: middle;\n",
       "    }\n",
       "\n",
       "    .dataframe tbody tr th {\n",
       "        vertical-align: top;\n",
       "    }\n",
       "\n",
       "    .dataframe thead th {\n",
       "        text-align: right;\n",
       "    }\n",
       "</style>\n",
       "<table border=\"1\" class=\"dataframe\">\n",
       "  <thead>\n",
       "    <tr style=\"text-align: right;\">\n",
       "      <th></th>\n",
       "      <th>Observations</th>\n",
       "      <th>R2</th>\n",
       "      <th>Adjusted.R2</th>\n",
       "      <th>Residual.Std.Error</th>\n",
       "      <th>F.Statistic</th>\n",
       "      <th>m</th>\n",
       "    </tr>\n",
       "  </thead>\n",
       "  <tbody>\n",
       "    <tr>\n",
       "      <th>1</th>\n",
       "      <td>706.0</td>\n",
       "      <td>0.118</td>\n",
       "      <td>0.110</td>\n",
       "      <td>419.371</td>\n",
       "      <td>13.387</td>\n",
       "      <td>8</td>\n",
       "    </tr>\n",
       "    <tr>\n",
       "      <th>2</th>\n",
       "      <td>706.0</td>\n",
       "      <td>0.022</td>\n",
       "      <td>0.014</td>\n",
       "      <td>441.301</td>\n",
       "      <td>2.663</td>\n",
       "      <td>7</td>\n",
       "    </tr>\n",
       "    <tr>\n",
       "      <th>3</th>\n",
       "      <td>706.0</td>\n",
       "      <td>0.015</td>\n",
       "      <td>0.012</td>\n",
       "      <td>441.775</td>\n",
       "      <td>5.224</td>\n",
       "      <td>3</td>\n",
       "    </tr>\n",
       "    <tr>\n",
       "      <th>4</th>\n",
       "      <td>706.0</td>\n",
       "      <td>0.007</td>\n",
       "      <td>0.002</td>\n",
       "      <td>444.018</td>\n",
       "      <td>1.314</td>\n",
       "      <td>5</td>\n",
       "    </tr>\n",
       "  </tbody>\n",
       "</table>\n",
       "</div>"
      ],
      "text/plain": [
       "0  Observations     R2  Adjusted.R2  Residual.Std.Error  F.Statistic  m\n",
       "1         706.0  0.118        0.110             419.371       13.387  8\n",
       "2         706.0  0.022        0.014             441.301        2.663  7\n",
       "3         706.0  0.015        0.012             441.775        5.224  3\n",
       "4         706.0  0.007        0.002             444.018        1.314  5"
      ]
     },
     "execution_count": 34,
     "metadata": {},
     "output_type": "execute_result"
    }
   ],
   "source": [
    "# Заполним столбец значением m\n",
    "df['m'] = [8,7,3,5]\n",
    "df"
   ]
  },
  {
   "cell_type": "code",
   "execution_count": 35,
   "id": "bf850f5e",
   "metadata": {},
   "outputs": [
    {
     "data": {
      "text/html": [
       "<div>\n",
       "<style scoped>\n",
       "    .dataframe tbody tr th:only-of-type {\n",
       "        vertical-align: middle;\n",
       "    }\n",
       "\n",
       "    .dataframe tbody tr th {\n",
       "        vertical-align: top;\n",
       "    }\n",
       "\n",
       "    .dataframe thead th {\n",
       "        text-align: right;\n",
       "    }\n",
       "</style>\n",
       "<table border=\"1\" class=\"dataframe\">\n",
       "  <thead>\n",
       "    <tr style=\"text-align: right;\">\n",
       "      <th></th>\n",
       "      <th>Observations</th>\n",
       "      <th>R2</th>\n",
       "      <th>Adjusted.R2</th>\n",
       "      <th>Residual.Std.Error</th>\n",
       "      <th>F.Statistic</th>\n",
       "      <th>m</th>\n",
       "      <th>F_cr</th>\n",
       "    </tr>\n",
       "  </thead>\n",
       "  <tbody>\n",
       "    <tr>\n",
       "      <th>1</th>\n",
       "      <td>706.0</td>\n",
       "      <td>0.12</td>\n",
       "      <td>0.11</td>\n",
       "      <td>419.37</td>\n",
       "      <td>13.39</td>\n",
       "      <td>8</td>\n",
       "      <td>2.66</td>\n",
       "    </tr>\n",
       "    <tr>\n",
       "      <th>2</th>\n",
       "      <td>706.0</td>\n",
       "      <td>0.02</td>\n",
       "      <td>0.01</td>\n",
       "      <td>441.30</td>\n",
       "      <td>2.66</td>\n",
       "      <td>7</td>\n",
       "      <td>2.83</td>\n",
       "    </tr>\n",
       "    <tr>\n",
       "      <th>3</th>\n",
       "      <td>706.0</td>\n",
       "      <td>0.02</td>\n",
       "      <td>0.01</td>\n",
       "      <td>441.78</td>\n",
       "      <td>5.22</td>\n",
       "      <td>3</td>\n",
       "      <td>4.64</td>\n",
       "    </tr>\n",
       "    <tr>\n",
       "      <th>4</th>\n",
       "      <td>706.0</td>\n",
       "      <td>0.01</td>\n",
       "      <td>0.00</td>\n",
       "      <td>444.02</td>\n",
       "      <td>1.31</td>\n",
       "      <td>5</td>\n",
       "      <td>3.35</td>\n",
       "    </tr>\n",
       "  </tbody>\n",
       "</table>\n",
       "</div>"
      ],
      "text/plain": [
       "0  Observations    R2  Adjusted.R2  Residual.Std.Error  F.Statistic  m  F_cr\n",
       "1         706.0  0.12         0.11              419.37        13.39  8  2.66\n",
       "2         706.0  0.02         0.01              441.30         2.66  7  2.83\n",
       "3         706.0  0.02         0.01              441.78         5.22  3  4.64\n",
       "4         706.0  0.01         0.00              444.02         1.31  5  3.35"
      ]
     },
     "execution_count": 35,
     "metadata": {},
     "output_type": "execute_result"
    }
   ],
   "source": [
    "alpha = 0.01\n",
    "df['F_cr'] = stats.f.ppf(1-alpha,df['m']-1,df['Observations'] - df['m'])\n",
    "df.round(2)"
   ]
  },
  {
   "cell_type": "code",
   "execution_count": 38,
   "id": "868d4f15",
   "metadata": {},
   "outputs": [
    {
     "data": {
      "text/html": [
       "<div>\n",
       "<style scoped>\n",
       "    .dataframe tbody tr th:only-of-type {\n",
       "        vertical-align: middle;\n",
       "    }\n",
       "\n",
       "    .dataframe tbody tr th {\n",
       "        vertical-align: top;\n",
       "    }\n",
       "\n",
       "    .dataframe thead th {\n",
       "        text-align: right;\n",
       "    }\n",
       "</style>\n",
       "<table border=\"1\" class=\"dataframe\">\n",
       "  <thead>\n",
       "    <tr style=\"text-align: right;\">\n",
       "      <th></th>\n",
       "      <th>Observations</th>\n",
       "      <th>R2</th>\n",
       "      <th>Adjusted.R2</th>\n",
       "      <th>Residual.Std.Error</th>\n",
       "      <th>F.Statistic</th>\n",
       "      <th>m</th>\n",
       "      <th>F_cr</th>\n",
       "      <th>znachimost</th>\n",
       "    </tr>\n",
       "  </thead>\n",
       "  <tbody>\n",
       "    <tr>\n",
       "      <th>1</th>\n",
       "      <td>706.0</td>\n",
       "      <td>0.118</td>\n",
       "      <td>0.110</td>\n",
       "      <td>419.371</td>\n",
       "      <td>13.387</td>\n",
       "      <td>8</td>\n",
       "      <td>2.664930</td>\n",
       "      <td>znachima</td>\n",
       "    </tr>\n",
       "    <tr>\n",
       "      <th>2</th>\n",
       "      <td>706.0</td>\n",
       "      <td>0.022</td>\n",
       "      <td>0.014</td>\n",
       "      <td>441.301</td>\n",
       "      <td>2.663</td>\n",
       "      <td>7</td>\n",
       "      <td>2.827785</td>\n",
       "      <td>neznachimo</td>\n",
       "    </tr>\n",
       "    <tr>\n",
       "      <th>3</th>\n",
       "      <td>706.0</td>\n",
       "      <td>0.015</td>\n",
       "      <td>0.012</td>\n",
       "      <td>441.775</td>\n",
       "      <td>5.224</td>\n",
       "      <td>3</td>\n",
       "      <td>4.635470</td>\n",
       "      <td>znachima</td>\n",
       "    </tr>\n",
       "    <tr>\n",
       "      <th>4</th>\n",
       "      <td>706.0</td>\n",
       "      <td>0.007</td>\n",
       "      <td>0.002</td>\n",
       "      <td>444.018</td>\n",
       "      <td>1.314</td>\n",
       "      <td>5</td>\n",
       "      <td>3.346000</td>\n",
       "      <td>neznachimo</td>\n",
       "    </tr>\n",
       "  </tbody>\n",
       "</table>\n",
       "</div>"
      ],
      "text/plain": [
       "0  Observations     R2  Adjusted.R2  Residual.Std.Error  F.Statistic  m  \\\n",
       "1         706.0  0.118        0.110             419.371       13.387  8   \n",
       "2         706.0  0.022        0.014             441.301        2.663  7   \n",
       "3         706.0  0.015        0.012             441.775        5.224  3   \n",
       "4         706.0  0.007        0.002             444.018        1.314  5   \n",
       "\n",
       "0      F_cr  znachimost  \n",
       "1  2.664930    znachima  \n",
       "2  2.827785  neznachimo  \n",
       "3  4.635470    znachima  \n",
       "4  3.346000  neznachimo  "
      ]
     },
     "execution_count": 38,
     "metadata": {},
     "output_type": "execute_result"
    }
   ],
   "source": [
    "df['znachimost'] = df.apply(lambda x : 'znachima' if x['F.Statistic'] > x['F_cr'] else 'neznachimo', axis = 1)\n",
    "df"
   ]
  },
  {
   "cell_type": "markdown",
   "id": "0b633029",
   "metadata": {},
   "source": [
    "- значимы все кроме 2 и 4 регрессий "
   ]
  },
  {
   "cell_type": "markdown",
   "id": "1c91fec4",
   "metadata": {},
   "source": [
    "### Задание 1.4"
   ]
  },
  {
   "cell_type": "code",
   "execution_count": 39,
   "id": "b1a5add1",
   "metadata": {},
   "outputs": [],
   "source": [
    "data_string = '''Observations            158         158         158        158      158  \n",
    "R2                     0.992       0.976       0.982      0.053    0.026 \n",
    "Adjusted.R2            0.992       0.976       0.982      0.035    0.020 \n",
    "Residual.Std.Error    0.138       0.239       0.209      1.516    1.527 \n",
    "F.Statistic         3880.407 3185.767 2106.934  2.881  4.158'''"
   ]
  },
  {
   "cell_type": "code",
   "execution_count": 40,
   "id": "cfb5d409",
   "metadata": {},
   "outputs": [
    {
     "data": {
      "text/html": [
       "<div>\n",
       "<style scoped>\n",
       "    .dataframe tbody tr th:only-of-type {\n",
       "        vertical-align: middle;\n",
       "    }\n",
       "\n",
       "    .dataframe tbody tr th {\n",
       "        vertical-align: top;\n",
       "    }\n",
       "\n",
       "    .dataframe thead th {\n",
       "        text-align: right;\n",
       "    }\n",
       "</style>\n",
       "<table border=\"1\" class=\"dataframe\">\n",
       "  <thead>\n",
       "    <tr style=\"text-align: right;\">\n",
       "      <th></th>\n",
       "      <th>0</th>\n",
       "      <th>1</th>\n",
       "      <th>2</th>\n",
       "      <th>3</th>\n",
       "      <th>4</th>\n",
       "      <th>5</th>\n",
       "    </tr>\n",
       "  </thead>\n",
       "  <tbody>\n",
       "    <tr>\n",
       "      <th>0</th>\n",
       "      <td>Observations</td>\n",
       "      <td>158.000</td>\n",
       "      <td>158.000</td>\n",
       "      <td>158.000</td>\n",
       "      <td>158.000</td>\n",
       "      <td>158.000</td>\n",
       "    </tr>\n",
       "    <tr>\n",
       "      <th>1</th>\n",
       "      <td>R2</td>\n",
       "      <td>0.992</td>\n",
       "      <td>0.976</td>\n",
       "      <td>0.982</td>\n",
       "      <td>0.053</td>\n",
       "      <td>0.026</td>\n",
       "    </tr>\n",
       "    <tr>\n",
       "      <th>2</th>\n",
       "      <td>Adjusted.R2</td>\n",
       "      <td>0.992</td>\n",
       "      <td>0.976</td>\n",
       "      <td>0.982</td>\n",
       "      <td>0.035</td>\n",
       "      <td>0.020</td>\n",
       "    </tr>\n",
       "    <tr>\n",
       "      <th>3</th>\n",
       "      <td>Residual.Std.Error</td>\n",
       "      <td>0.138</td>\n",
       "      <td>0.239</td>\n",
       "      <td>0.209</td>\n",
       "      <td>1.516</td>\n",
       "      <td>1.527</td>\n",
       "    </tr>\n",
       "    <tr>\n",
       "      <th>4</th>\n",
       "      <td>F.Statistic</td>\n",
       "      <td>3880.407</td>\n",
       "      <td>3185.767</td>\n",
       "      <td>2106.934</td>\n",
       "      <td>2.881</td>\n",
       "      <td>4.158</td>\n",
       "    </tr>\n",
       "  </tbody>\n",
       "</table>\n",
       "</div>"
      ],
      "text/plain": [
       "                    0         1         2         3        4        5\n",
       "0        Observations   158.000   158.000   158.000  158.000  158.000\n",
       "1                  R2     0.992     0.976     0.982    0.053    0.026\n",
       "2         Adjusted.R2     0.992     0.976     0.982    0.035    0.020\n",
       "3  Residual.Std.Error     0.138     0.239     0.209    1.516    1.527\n",
       "4         F.Statistic  3880.407  3185.767  2106.934    2.881    4.158"
      ]
     },
     "execution_count": 40,
     "metadata": {},
     "output_type": "execute_result"
    }
   ],
   "source": [
    "df = pd.read_csv(io.StringIO(data_string), delimiter='\\s+', header=None, index_col=0)\n",
    "df.reset_index()"
   ]
  },
  {
   "cell_type": "code",
   "execution_count": 41,
   "id": "f6072a7b",
   "metadata": {},
   "outputs": [
    {
     "data": {
      "text/html": [
       "<div>\n",
       "<style scoped>\n",
       "    .dataframe tbody tr th:only-of-type {\n",
       "        vertical-align: middle;\n",
       "    }\n",
       "\n",
       "    .dataframe tbody tr th {\n",
       "        vertical-align: top;\n",
       "    }\n",
       "\n",
       "    .dataframe thead th {\n",
       "        text-align: right;\n",
       "    }\n",
       "</style>\n",
       "<table border=\"1\" class=\"dataframe\">\n",
       "  <thead>\n",
       "    <tr style=\"text-align: right;\">\n",
       "      <th></th>\n",
       "      <th>Observations</th>\n",
       "      <th>R2</th>\n",
       "      <th>Adjusted.R2</th>\n",
       "      <th>Residual.Std.Error</th>\n",
       "      <th>F.Statistic</th>\n",
       "    </tr>\n",
       "  </thead>\n",
       "  <tbody>\n",
       "    <tr>\n",
       "      <th>1</th>\n",
       "      <td>158.0</td>\n",
       "      <td>0.992</td>\n",
       "      <td>0.992</td>\n",
       "      <td>0.138</td>\n",
       "      <td>3880.407</td>\n",
       "    </tr>\n",
       "    <tr>\n",
       "      <th>2</th>\n",
       "      <td>158.0</td>\n",
       "      <td>0.976</td>\n",
       "      <td>0.976</td>\n",
       "      <td>0.239</td>\n",
       "      <td>3185.767</td>\n",
       "    </tr>\n",
       "    <tr>\n",
       "      <th>3</th>\n",
       "      <td>158.0</td>\n",
       "      <td>0.982</td>\n",
       "      <td>0.982</td>\n",
       "      <td>0.209</td>\n",
       "      <td>2106.934</td>\n",
       "    </tr>\n",
       "    <tr>\n",
       "      <th>4</th>\n",
       "      <td>158.0</td>\n",
       "      <td>0.053</td>\n",
       "      <td>0.035</td>\n",
       "      <td>1.516</td>\n",
       "      <td>2.881</td>\n",
       "    </tr>\n",
       "    <tr>\n",
       "      <th>5</th>\n",
       "      <td>158.0</td>\n",
       "      <td>0.026</td>\n",
       "      <td>0.020</td>\n",
       "      <td>1.527</td>\n",
       "      <td>4.158</td>\n",
       "    </tr>\n",
       "  </tbody>\n",
       "</table>\n",
       "</div>"
      ],
      "text/plain": [
       "0  Observations     R2  Adjusted.R2  Residual.Std.Error  F.Statistic\n",
       "1         158.0  0.992        0.992               0.138     3880.407\n",
       "2         158.0  0.976        0.976               0.239     3185.767\n",
       "3         158.0  0.982        0.982               0.209     2106.934\n",
       "4         158.0  0.053        0.035               1.516        2.881\n",
       "5         158.0  0.026        0.020               1.527        4.158"
      ]
     },
     "execution_count": 41,
     "metadata": {},
     "output_type": "execute_result"
    }
   ],
   "source": [
    "df = df.transpose()\n",
    "df"
   ]
  },
  {
   "cell_type": "code",
   "execution_count": 42,
   "id": "9f5779c3",
   "metadata": {},
   "outputs": [
    {
     "data": {
      "text/html": [
       "<div>\n",
       "<style scoped>\n",
       "    .dataframe tbody tr th:only-of-type {\n",
       "        vertical-align: middle;\n",
       "    }\n",
       "\n",
       "    .dataframe tbody tr th {\n",
       "        vertical-align: top;\n",
       "    }\n",
       "\n",
       "    .dataframe thead th {\n",
       "        text-align: right;\n",
       "    }\n",
       "</style>\n",
       "<table border=\"1\" class=\"dataframe\">\n",
       "  <thead>\n",
       "    <tr style=\"text-align: right;\">\n",
       "      <th></th>\n",
       "      <th>Observations</th>\n",
       "      <th>R2</th>\n",
       "      <th>Adjusted.R2</th>\n",
       "      <th>Residual.Std.Error</th>\n",
       "      <th>F.Statistic</th>\n",
       "      <th>m</th>\n",
       "    </tr>\n",
       "  </thead>\n",
       "  <tbody>\n",
       "    <tr>\n",
       "      <th>1</th>\n",
       "      <td>158.0</td>\n",
       "      <td>0.992</td>\n",
       "      <td>0.992</td>\n",
       "      <td>0.138</td>\n",
       "      <td>3880.407</td>\n",
       "      <td>6</td>\n",
       "    </tr>\n",
       "    <tr>\n",
       "      <th>2</th>\n",
       "      <td>158.0</td>\n",
       "      <td>0.976</td>\n",
       "      <td>0.976</td>\n",
       "      <td>0.239</td>\n",
       "      <td>3185.767</td>\n",
       "      <td>3</td>\n",
       "    </tr>\n",
       "    <tr>\n",
       "      <th>3</th>\n",
       "      <td>158.0</td>\n",
       "      <td>0.982</td>\n",
       "      <td>0.982</td>\n",
       "      <td>0.209</td>\n",
       "      <td>2106.934</td>\n",
       "      <td>5</td>\n",
       "    </tr>\n",
       "    <tr>\n",
       "      <th>4</th>\n",
       "      <td>158.0</td>\n",
       "      <td>0.053</td>\n",
       "      <td>0.035</td>\n",
       "      <td>1.516</td>\n",
       "      <td>2.881</td>\n",
       "      <td>4</td>\n",
       "    </tr>\n",
       "    <tr>\n",
       "      <th>5</th>\n",
       "      <td>158.0</td>\n",
       "      <td>0.026</td>\n",
       "      <td>0.020</td>\n",
       "      <td>1.527</td>\n",
       "      <td>4.158</td>\n",
       "      <td>2</td>\n",
       "    </tr>\n",
       "  </tbody>\n",
       "</table>\n",
       "</div>"
      ],
      "text/plain": [
       "0  Observations     R2  Adjusted.R2  Residual.Std.Error  F.Statistic  m\n",
       "1         158.0  0.992        0.992               0.138     3880.407  6\n",
       "2         158.0  0.976        0.976               0.239     3185.767  3\n",
       "3         158.0  0.982        0.982               0.209     2106.934  5\n",
       "4         158.0  0.053        0.035               1.516        2.881  4\n",
       "5         158.0  0.026        0.020               1.527        4.158  2"
      ]
     },
     "execution_count": 42,
     "metadata": {},
     "output_type": "execute_result"
    }
   ],
   "source": [
    "# Заполним столбец значением m\n",
    "df['m'] = [6,3,5,4,2]\n",
    "df"
   ]
  },
  {
   "cell_type": "code",
   "execution_count": 43,
   "id": "47c95dd1",
   "metadata": {},
   "outputs": [
    {
     "data": {
      "text/html": [
       "<div>\n",
       "<style scoped>\n",
       "    .dataframe tbody tr th:only-of-type {\n",
       "        vertical-align: middle;\n",
       "    }\n",
       "\n",
       "    .dataframe tbody tr th {\n",
       "        vertical-align: top;\n",
       "    }\n",
       "\n",
       "    .dataframe thead th {\n",
       "        text-align: right;\n",
       "    }\n",
       "</style>\n",
       "<table border=\"1\" class=\"dataframe\">\n",
       "  <thead>\n",
       "    <tr style=\"text-align: right;\">\n",
       "      <th></th>\n",
       "      <th>Observations</th>\n",
       "      <th>R2</th>\n",
       "      <th>Adjusted.R2</th>\n",
       "      <th>Residual.Std.Error</th>\n",
       "      <th>F.Statistic</th>\n",
       "      <th>m</th>\n",
       "      <th>F_cr</th>\n",
       "    </tr>\n",
       "  </thead>\n",
       "  <tbody>\n",
       "    <tr>\n",
       "      <th>1</th>\n",
       "      <td>158.0</td>\n",
       "      <td>0.99</td>\n",
       "      <td>0.99</td>\n",
       "      <td>0.14</td>\n",
       "      <td>3880.41</td>\n",
       "      <td>6</td>\n",
       "      <td>3.14</td>\n",
       "    </tr>\n",
       "    <tr>\n",
       "      <th>2</th>\n",
       "      <td>158.0</td>\n",
       "      <td>0.98</td>\n",
       "      <td>0.98</td>\n",
       "      <td>0.24</td>\n",
       "      <td>3185.77</td>\n",
       "      <td>3</td>\n",
       "      <td>4.74</td>\n",
       "    </tr>\n",
       "    <tr>\n",
       "      <th>3</th>\n",
       "      <td>158.0</td>\n",
       "      <td>0.98</td>\n",
       "      <td>0.98</td>\n",
       "      <td>0.21</td>\n",
       "      <td>2106.93</td>\n",
       "      <td>5</td>\n",
       "      <td>3.44</td>\n",
       "    </tr>\n",
       "    <tr>\n",
       "      <th>4</th>\n",
       "      <td>158.0</td>\n",
       "      <td>0.05</td>\n",
       "      <td>0.04</td>\n",
       "      <td>1.52</td>\n",
       "      <td>2.88</td>\n",
       "      <td>4</td>\n",
       "      <td>3.91</td>\n",
       "    </tr>\n",
       "    <tr>\n",
       "      <th>5</th>\n",
       "      <td>158.0</td>\n",
       "      <td>0.03</td>\n",
       "      <td>0.02</td>\n",
       "      <td>1.53</td>\n",
       "      <td>4.16</td>\n",
       "      <td>2</td>\n",
       "      <td>6.80</td>\n",
       "    </tr>\n",
       "  </tbody>\n",
       "</table>\n",
       "</div>"
      ],
      "text/plain": [
       "0  Observations    R2  Adjusted.R2  Residual.Std.Error  F.Statistic  m  F_cr\n",
       "1         158.0  0.99         0.99                0.14      3880.41  6  3.14\n",
       "2         158.0  0.98         0.98                0.24      3185.77  3  4.74\n",
       "3         158.0  0.98         0.98                0.21      2106.93  5  3.44\n",
       "4         158.0  0.05         0.04                1.52         2.88  4  3.91\n",
       "5         158.0  0.03         0.02                1.53         4.16  2  6.80"
      ]
     },
     "execution_count": 43,
     "metadata": {},
     "output_type": "execute_result"
    }
   ],
   "source": [
    "alpha = 0.01\n",
    "df['F_cr'] = stats.f.ppf(1-alpha,df['m']-1,df['Observations'] - df['m'])\n",
    "df.round(2)"
   ]
  },
  {
   "cell_type": "code",
   "execution_count": 44,
   "id": "98251c41",
   "metadata": {},
   "outputs": [
    {
     "data": {
      "text/html": [
       "<div>\n",
       "<style scoped>\n",
       "    .dataframe tbody tr th:only-of-type {\n",
       "        vertical-align: middle;\n",
       "    }\n",
       "\n",
       "    .dataframe tbody tr th {\n",
       "        vertical-align: top;\n",
       "    }\n",
       "\n",
       "    .dataframe thead th {\n",
       "        text-align: right;\n",
       "    }\n",
       "</style>\n",
       "<table border=\"1\" class=\"dataframe\">\n",
       "  <thead>\n",
       "    <tr style=\"text-align: right;\">\n",
       "      <th></th>\n",
       "      <th>Observations</th>\n",
       "      <th>R2</th>\n",
       "      <th>Adjusted.R2</th>\n",
       "      <th>Residual.Std.Error</th>\n",
       "      <th>F.Statistic</th>\n",
       "      <th>m</th>\n",
       "      <th>F_cr</th>\n",
       "      <th>znachimost</th>\n",
       "    </tr>\n",
       "  </thead>\n",
       "  <tbody>\n",
       "    <tr>\n",
       "      <th>1</th>\n",
       "      <td>158.0</td>\n",
       "      <td>0.992</td>\n",
       "      <td>0.992</td>\n",
       "      <td>0.138</td>\n",
       "      <td>3880.407</td>\n",
       "      <td>6</td>\n",
       "      <td>3.139909</td>\n",
       "      <td>znachima</td>\n",
       "    </tr>\n",
       "    <tr>\n",
       "      <th>2</th>\n",
       "      <td>158.0</td>\n",
       "      <td>0.976</td>\n",
       "      <td>0.976</td>\n",
       "      <td>0.239</td>\n",
       "      <td>3185.767</td>\n",
       "      <td>3</td>\n",
       "      <td>4.744744</td>\n",
       "      <td>znachima</td>\n",
       "    </tr>\n",
       "    <tr>\n",
       "      <th>3</th>\n",
       "      <td>158.0</td>\n",
       "      <td>0.982</td>\n",
       "      <td>0.982</td>\n",
       "      <td>0.209</td>\n",
       "      <td>2106.934</td>\n",
       "      <td>5</td>\n",
       "      <td>3.444189</td>\n",
       "      <td>znachima</td>\n",
       "    </tr>\n",
       "    <tr>\n",
       "      <th>4</th>\n",
       "      <td>158.0</td>\n",
       "      <td>0.053</td>\n",
       "      <td>0.035</td>\n",
       "      <td>1.516</td>\n",
       "      <td>2.881</td>\n",
       "      <td>4</td>\n",
       "      <td>3.911342</td>\n",
       "      <td>neznachimo</td>\n",
       "    </tr>\n",
       "    <tr>\n",
       "      <th>5</th>\n",
       "      <td>158.0</td>\n",
       "      <td>0.026</td>\n",
       "      <td>0.020</td>\n",
       "      <td>1.527</td>\n",
       "      <td>4.158</td>\n",
       "      <td>2</td>\n",
       "      <td>6.800161</td>\n",
       "      <td>neznachimo</td>\n",
       "    </tr>\n",
       "  </tbody>\n",
       "</table>\n",
       "</div>"
      ],
      "text/plain": [
       "0  Observations     R2  Adjusted.R2  Residual.Std.Error  F.Statistic  m  \\\n",
       "1         158.0  0.992        0.992               0.138     3880.407  6   \n",
       "2         158.0  0.976        0.976               0.239     3185.767  3   \n",
       "3         158.0  0.982        0.982               0.209     2106.934  5   \n",
       "4         158.0  0.053        0.035               1.516        2.881  4   \n",
       "5         158.0  0.026        0.020               1.527        4.158  2   \n",
       "\n",
       "0      F_cr  znachimost  \n",
       "1  3.139909    znachima  \n",
       "2  4.744744    znachima  \n",
       "3  3.444189    znachima  \n",
       "4  3.911342  neznachimo  \n",
       "5  6.800161  neznachimo  "
      ]
     },
     "execution_count": 44,
     "metadata": {},
     "output_type": "execute_result"
    }
   ],
   "source": [
    "df['znachimost'] = df.apply(lambda x : 'znachima' if x['F.Statistic'] > x['F_cr'] else 'neznachimo', axis = 1)\n",
    "df"
   ]
  },
  {
   "cell_type": "markdown",
   "id": "f376074e",
   "metadata": {},
   "source": [
    "- значимы все кроме 4 и 5 регрессий "
   ]
  },
  {
   "cell_type": "markdown",
   "id": "8e5feba6",
   "metadata": {},
   "source": [
    "## Cовместная значимость"
   ]
  },
  {
   "cell_type": "markdown",
   "id": "53c557fd",
   "metadata": {},
   "source": [
    "### Задача 2.1"
   ]
  },
  {
   "cell_type": "code",
   "execution_count": 59,
   "id": "3bf748e1",
   "metadata": {},
   "outputs": [],
   "source": [
    "data_string = '''Estimate   Std.Error  t.value  Pr>|t|    \n",
    "(Intercept)  3446.830301   81.839915 42.1167  2e-16 \n",
    "totwrk         -0.169130    0.018074 -9.3577  2e-16 \n",
    "age             2.714483    1.472374  1.8436  0.06566   \n",
    "male           87.108150   35.173210  2.4765  0.01350   \n",
    "south         102.271833   41.925047  2.4394  0.01496   \n",
    "smsa          -54.187710   33.193402 -1.6325  0.10303    \n",
    "yngkid        -13.051272   50.459104 -0.2587  0.79598    \n",
    "marr          31.360412   42.263190  0.7420  0.45832    \n",
    "union         11.865664   38.185877  0.3107  0.75610    '''"
   ]
  },
  {
   "cell_type": "code",
   "execution_count": 60,
   "id": "9e6b680d",
   "metadata": {},
   "outputs": [
    {
     "data": {
      "text/html": [
       "<div>\n",
       "<style scoped>\n",
       "    .dataframe tbody tr th:only-of-type {\n",
       "        vertical-align: middle;\n",
       "    }\n",
       "\n",
       "    .dataframe tbody tr th {\n",
       "        vertical-align: top;\n",
       "    }\n",
       "\n",
       "    .dataframe thead th {\n",
       "        text-align: right;\n",
       "    }\n",
       "</style>\n",
       "<table border=\"1\" class=\"dataframe\">\n",
       "  <thead>\n",
       "    <tr style=\"text-align: right;\">\n",
       "      <th></th>\n",
       "      <th>Estimate</th>\n",
       "      <th>Std.Error</th>\n",
       "      <th>t.value</th>\n",
       "      <th>Pr&gt;|t|</th>\n",
       "    </tr>\n",
       "  </thead>\n",
       "  <tbody>\n",
       "    <tr>\n",
       "      <th>(Intercept)</th>\n",
       "      <td>3446.830301</td>\n",
       "      <td>81.839915</td>\n",
       "      <td>42.1167</td>\n",
       "      <td>2.000000e-16</td>\n",
       "    </tr>\n",
       "    <tr>\n",
       "      <th>totwrk</th>\n",
       "      <td>-0.169130</td>\n",
       "      <td>0.018074</td>\n",
       "      <td>-9.3577</td>\n",
       "      <td>2.000000e-16</td>\n",
       "    </tr>\n",
       "    <tr>\n",
       "      <th>age</th>\n",
       "      <td>2.714483</td>\n",
       "      <td>1.472374</td>\n",
       "      <td>1.8436</td>\n",
       "      <td>6.566000e-02</td>\n",
       "    </tr>\n",
       "    <tr>\n",
       "      <th>male</th>\n",
       "      <td>87.108150</td>\n",
       "      <td>35.173210</td>\n",
       "      <td>2.4765</td>\n",
       "      <td>1.350000e-02</td>\n",
       "    </tr>\n",
       "    <tr>\n",
       "      <th>south</th>\n",
       "      <td>102.271833</td>\n",
       "      <td>41.925047</td>\n",
       "      <td>2.4394</td>\n",
       "      <td>1.496000e-02</td>\n",
       "    </tr>\n",
       "    <tr>\n",
       "      <th>smsa</th>\n",
       "      <td>-54.187710</td>\n",
       "      <td>33.193402</td>\n",
       "      <td>-1.6325</td>\n",
       "      <td>1.030300e-01</td>\n",
       "    </tr>\n",
       "    <tr>\n",
       "      <th>yngkid</th>\n",
       "      <td>-13.051272</td>\n",
       "      <td>50.459104</td>\n",
       "      <td>-0.2587</td>\n",
       "      <td>7.959800e-01</td>\n",
       "    </tr>\n",
       "    <tr>\n",
       "      <th>marr</th>\n",
       "      <td>31.360412</td>\n",
       "      <td>42.263190</td>\n",
       "      <td>0.7420</td>\n",
       "      <td>4.583200e-01</td>\n",
       "    </tr>\n",
       "    <tr>\n",
       "      <th>union</th>\n",
       "      <td>11.865664</td>\n",
       "      <td>38.185877</td>\n",
       "      <td>0.3107</td>\n",
       "      <td>7.561000e-01</td>\n",
       "    </tr>\n",
       "  </tbody>\n",
       "</table>\n",
       "</div>"
      ],
      "text/plain": [
       "                Estimate  Std.Error  t.value        Pr>|t|\n",
       "(Intercept)  3446.830301  81.839915  42.1167  2.000000e-16\n",
       "totwrk         -0.169130   0.018074  -9.3577  2.000000e-16\n",
       "age             2.714483   1.472374   1.8436  6.566000e-02\n",
       "male           87.108150  35.173210   2.4765  1.350000e-02\n",
       "south         102.271833  41.925047   2.4394  1.496000e-02\n",
       "smsa          -54.187710  33.193402  -1.6325  1.030300e-01\n",
       "yngkid        -13.051272  50.459104  -0.2587  7.959800e-01\n",
       "marr           31.360412  42.263190   0.7420  4.583200e-01\n",
       "union          11.865664  38.185877   0.3107  7.561000e-01"
      ]
     },
     "execution_count": 60,
     "metadata": {},
     "output_type": "execute_result"
    }
   ],
   "source": [
    "df=pd.read_csv(io.StringIO(data_string), sep='\\s+')\n",
    "df"
   ]
  },
  {
   "cell_type": "code",
   "execution_count": 62,
   "id": "baad239c",
   "metadata": {},
   "outputs": [
    {
     "data": {
      "text/html": [
       "<div>\n",
       "<style scoped>\n",
       "    .dataframe tbody tr th:only-of-type {\n",
       "        vertical-align: middle;\n",
       "    }\n",
       "\n",
       "    .dataframe tbody tr th {\n",
       "        vertical-align: top;\n",
       "    }\n",
       "\n",
       "    .dataframe thead th {\n",
       "        text-align: right;\n",
       "    }\n",
       "</style>\n",
       "<table border=\"1\" class=\"dataframe\">\n",
       "  <thead>\n",
       "    <tr style=\"text-align: right;\">\n",
       "      <th></th>\n",
       "      <th>Estimate</th>\n",
       "      <th>Std.Error</th>\n",
       "      <th>t.value</th>\n",
       "      <th>Pr&gt;|t|</th>\n",
       "      <th>znachimost</th>\n",
       "    </tr>\n",
       "  </thead>\n",
       "  <tbody>\n",
       "    <tr>\n",
       "      <th>(Intercept)</th>\n",
       "      <td>3446.830</td>\n",
       "      <td>81.840</td>\n",
       "      <td>42.117</td>\n",
       "      <td>0.000</td>\n",
       "      <td>42.117</td>\n",
       "    </tr>\n",
       "    <tr>\n",
       "      <th>totwrk</th>\n",
       "      <td>-0.169</td>\n",
       "      <td>0.018</td>\n",
       "      <td>-9.358</td>\n",
       "      <td>0.000</td>\n",
       "      <td>9.358</td>\n",
       "    </tr>\n",
       "    <tr>\n",
       "      <th>age</th>\n",
       "      <td>2.714</td>\n",
       "      <td>1.472</td>\n",
       "      <td>1.844</td>\n",
       "      <td>0.066</td>\n",
       "      <td>1.844</td>\n",
       "    </tr>\n",
       "    <tr>\n",
       "      <th>male</th>\n",
       "      <td>87.108</td>\n",
       "      <td>35.173</td>\n",
       "      <td>2.476</td>\n",
       "      <td>0.014</td>\n",
       "      <td>2.477</td>\n",
       "    </tr>\n",
       "    <tr>\n",
       "      <th>south</th>\n",
       "      <td>102.272</td>\n",
       "      <td>41.925</td>\n",
       "      <td>2.439</td>\n",
       "      <td>0.015</td>\n",
       "      <td>2.439</td>\n",
       "    </tr>\n",
       "    <tr>\n",
       "      <th>smsa</th>\n",
       "      <td>-54.188</td>\n",
       "      <td>33.193</td>\n",
       "      <td>-1.632</td>\n",
       "      <td>0.103</td>\n",
       "      <td>1.632</td>\n",
       "    </tr>\n",
       "    <tr>\n",
       "      <th>yngkid</th>\n",
       "      <td>-13.051</td>\n",
       "      <td>50.459</td>\n",
       "      <td>-0.259</td>\n",
       "      <td>0.796</td>\n",
       "      <td>0.259</td>\n",
       "    </tr>\n",
       "    <tr>\n",
       "      <th>marr</th>\n",
       "      <td>31.360</td>\n",
       "      <td>42.263</td>\n",
       "      <td>0.742</td>\n",
       "      <td>0.458</td>\n",
       "      <td>0.742</td>\n",
       "    </tr>\n",
       "    <tr>\n",
       "      <th>union</th>\n",
       "      <td>11.866</td>\n",
       "      <td>38.186</td>\n",
       "      <td>0.311</td>\n",
       "      <td>0.756</td>\n",
       "      <td>0.311</td>\n",
       "    </tr>\n",
       "  </tbody>\n",
       "</table>\n",
       "</div>"
      ],
      "text/plain": [
       "             Estimate  Std.Error  t.value  Pr>|t|  znachimost\n",
       "(Intercept)  3446.830     81.840   42.117   0.000      42.117\n",
       "totwrk         -0.169      0.018   -9.358   0.000       9.358\n",
       "age             2.714      1.472    1.844   0.066       1.844\n",
       "male           87.108     35.173    2.476   0.014       2.477\n",
       "south         102.272     41.925    2.439   0.015       2.439\n",
       "smsa          -54.188     33.193   -1.632   0.103       1.632\n",
       "yngkid        -13.051     50.459   -0.259   0.796       0.259\n",
       "marr           31.360     42.263    0.742   0.458       0.742\n",
       "union          11.866     38.186    0.311   0.756       0.311"
      ]
     },
     "execution_count": 62,
     "metadata": {},
     "output_type": "execute_result"
    }
   ],
   "source": [
    "df['znachimost'] = np.abs(df['Estimate']/df['Std.Error'])\n",
    "df.round(3)"
   ]
  },
  {
   "cell_type": "code",
   "execution_count": 63,
   "id": "9f21a716",
   "metadata": {},
   "outputs": [
    {
     "data": {
      "text/plain": [
       "1.96"
      ]
     },
     "execution_count": 63,
     "metadata": {},
     "output_type": "execute_result"
    }
   ],
   "source": [
    "alpha = 0.05\n",
    "t = stats.t.ppf(1-alpha/2, 707-9)\n",
    "t.round(2)"
   ]
  },
  {
   "cell_type": "code",
   "execution_count": 64,
   "id": "e2fb3199",
   "metadata": {},
   "outputs": [
    {
     "data": {
      "text/html": [
       "<div>\n",
       "<style scoped>\n",
       "    .dataframe tbody tr th:only-of-type {\n",
       "        vertical-align: middle;\n",
       "    }\n",
       "\n",
       "    .dataframe tbody tr th {\n",
       "        vertical-align: top;\n",
       "    }\n",
       "\n",
       "    .dataframe thead th {\n",
       "        text-align: right;\n",
       "    }\n",
       "</style>\n",
       "<table border=\"1\" class=\"dataframe\">\n",
       "  <thead>\n",
       "    <tr style=\"text-align: right;\">\n",
       "      <th></th>\n",
       "      <th>Estimate</th>\n",
       "      <th>Std.Error</th>\n",
       "      <th>t.value</th>\n",
       "      <th>Pr&gt;|t|</th>\n",
       "      <th>znachimost</th>\n",
       "      <th>result</th>\n",
       "    </tr>\n",
       "  </thead>\n",
       "  <tbody>\n",
       "    <tr>\n",
       "      <th>(Intercept)</th>\n",
       "      <td>3446.830301</td>\n",
       "      <td>81.839915</td>\n",
       "      <td>42.1167</td>\n",
       "      <td>2.000000e-16</td>\n",
       "      <td>42.116739</td>\n",
       "      <td>znachimo</td>\n",
       "    </tr>\n",
       "    <tr>\n",
       "      <th>totwrk</th>\n",
       "      <td>-0.169130</td>\n",
       "      <td>0.018074</td>\n",
       "      <td>-9.3577</td>\n",
       "      <td>2.000000e-16</td>\n",
       "      <td>9.357641</td>\n",
       "      <td>znachimo</td>\n",
       "    </tr>\n",
       "    <tr>\n",
       "      <th>age</th>\n",
       "      <td>2.714483</td>\n",
       "      <td>1.472374</td>\n",
       "      <td>1.8436</td>\n",
       "      <td>6.566000e-02</td>\n",
       "      <td>1.843610</td>\n",
       "      <td>ne znachimo</td>\n",
       "    </tr>\n",
       "    <tr>\n",
       "      <th>male</th>\n",
       "      <td>87.108150</td>\n",
       "      <td>35.173210</td>\n",
       "      <td>2.4765</td>\n",
       "      <td>1.350000e-02</td>\n",
       "      <td>2.476548</td>\n",
       "      <td>znachimo</td>\n",
       "    </tr>\n",
       "    <tr>\n",
       "      <th>south</th>\n",
       "      <td>102.271833</td>\n",
       "      <td>41.925047</td>\n",
       "      <td>2.4394</td>\n",
       "      <td>1.496000e-02</td>\n",
       "      <td>2.439397</td>\n",
       "      <td>znachimo</td>\n",
       "    </tr>\n",
       "    <tr>\n",
       "      <th>smsa</th>\n",
       "      <td>-54.187710</td>\n",
       "      <td>33.193402</td>\n",
       "      <td>-1.6325</td>\n",
       "      <td>1.030300e-01</td>\n",
       "      <td>1.632484</td>\n",
       "      <td>ne znachimo</td>\n",
       "    </tr>\n",
       "    <tr>\n",
       "      <th>yngkid</th>\n",
       "      <td>-13.051272</td>\n",
       "      <td>50.459104</td>\n",
       "      <td>-0.2587</td>\n",
       "      <td>7.959800e-01</td>\n",
       "      <td>0.258650</td>\n",
       "      <td>ne znachimo</td>\n",
       "    </tr>\n",
       "    <tr>\n",
       "      <th>marr</th>\n",
       "      <td>31.360412</td>\n",
       "      <td>42.263190</td>\n",
       "      <td>0.7420</td>\n",
       "      <td>4.583200e-01</td>\n",
       "      <td>0.742027</td>\n",
       "      <td>ne znachimo</td>\n",
       "    </tr>\n",
       "    <tr>\n",
       "      <th>union</th>\n",
       "      <td>11.865664</td>\n",
       "      <td>38.185877</td>\n",
       "      <td>0.3107</td>\n",
       "      <td>7.561000e-01</td>\n",
       "      <td>0.310734</td>\n",
       "      <td>ne znachimo</td>\n",
       "    </tr>\n",
       "  </tbody>\n",
       "</table>\n",
       "</div>"
      ],
      "text/plain": [
       "                Estimate  Std.Error  t.value        Pr>|t|  znachimost  \\\n",
       "(Intercept)  3446.830301  81.839915  42.1167  2.000000e-16   42.116739   \n",
       "totwrk         -0.169130   0.018074  -9.3577  2.000000e-16    9.357641   \n",
       "age             2.714483   1.472374   1.8436  6.566000e-02    1.843610   \n",
       "male           87.108150  35.173210   2.4765  1.350000e-02    2.476548   \n",
       "south         102.271833  41.925047   2.4394  1.496000e-02    2.439397   \n",
       "smsa          -54.187710  33.193402  -1.6325  1.030300e-01    1.632484   \n",
       "yngkid        -13.051272  50.459104  -0.2587  7.959800e-01    0.258650   \n",
       "marr           31.360412  42.263190   0.7420  4.583200e-01    0.742027   \n",
       "union          11.865664  38.185877   0.3107  7.561000e-01    0.310734   \n",
       "\n",
       "                  result  \n",
       "(Intercept)     znachimo  \n",
       "totwrk          znachimo  \n",
       "age          ne znachimo  \n",
       "male            znachimo  \n",
       "south           znachimo  \n",
       "smsa         ne znachimo  \n",
       "yngkid       ne znachimo  \n",
       "marr         ne znachimo  \n",
       "union        ne znachimo  "
      ]
     },
     "execution_count": 64,
     "metadata": {},
     "output_type": "execute_result"
    }
   ],
   "source": [
    "df['result'] = df.apply(lambda x: 'znachimo' if x['znachimost'] > t else 'ne znachimo', axis=1 )\n",
    "df"
   ]
  },
  {
   "cell_type": "markdown",
   "id": "f35b7a03",
   "metadata": {},
   "source": [
    "- totwrk, male, south являются значимыми переменными "
   ]
  },
  {
   "cell_type": "markdown",
   "id": "117d40d3",
   "metadata": {},
   "source": [
    "#### Проверим гипотезы\n",
    "$$\n",
    "H_0 = \\beta_{smsa} = \\beta_{ynkid} = \\beta_{marr} = \\beta_{union} = 0\n",
    "$$\n",
    "$$\n",
    "H_1 = \\beta_{smsa}^2 = \\beta_{ynkid}^2 = \\beta_{marr}^2 = \\beta_{union}^2 > 0 \n",
    "$$"
   ]
  },
  {
   "cell_type": "code",
   "execution_count": 66,
   "id": "d32ec45a",
   "metadata": {},
   "outputs": [
    {
     "name": "stdout",
     "output_type": "stream",
     "text": [
      "0.131 0.127\n"
     ]
    }
   ],
   "source": [
    "unrest, rest = np.float_(re.findall(r'([-+]?\\d+.\\d+)', 'R2   0.131   0.127'))\n",
    "print(unrest, rest)"
   ]
  },
  {
   "cell_type": "code",
   "execution_count": 68,
   "id": "53782f7b",
   "metadata": {},
   "outputs": [
    {
     "data": {
      "text/plain": [
       "0.802"
      ]
     },
     "execution_count": 68,
     "metadata": {},
     "output_type": "execute_result"
    }
   ],
   "source": [
    "F_nab = (unrest-rest)/(1-unrest)*(706-9)/4\n",
    "round(F_nab, 3)"
   ]
  },
  {
   "cell_type": "code",
   "execution_count": 90,
   "id": "d2a34a7a",
   "metadata": {},
   "outputs": [
    {
     "data": {
      "text/plain": [
       "2.385"
      ]
     },
     "execution_count": 90,
     "metadata": {},
     "output_type": "execute_result"
    }
   ],
   "source": [
    "alpha = 0.05\n",
    "F_cr = stats.f.ppf(1-alpha, 4, 706-9)\n",
    "round(F_cr, 3)"
   ]
  },
  {
   "cell_type": "code",
   "execution_count": 89,
   "id": "c1bcd870",
   "metadata": {},
   "outputs": [
    {
     "name": "stdout",
     "output_type": "stream",
     "text": [
      "Не отвергаем H0, коэффициенты совместно незначимы\n"
     ]
    }
   ],
   "source": [
    "if (F_nab > F_cr ):\n",
    "    print('Отвергаем H0, коэффициенты совместно значимы')\n",
    "else:\n",
    "    print('Не отвергаем H0, коэффициенты совместно незначимы')"
   ]
  },
  {
   "cell_type": "markdown",
   "id": "08e7f3f5",
   "metadata": {},
   "source": [
    "## Задание 2.3"
   ]
  },
  {
   "cell_type": "code",
   "execution_count": 75,
   "id": "1faa7ee6",
   "metadata": {},
   "outputs": [],
   "source": [
    "data_string = ''' Estimate  Std.Error    \n",
    "(Intercept) 3587.178292  220.238404 \n",
    "totwrk        -0.149121    0.026286 \n",
    "age           -6.258663   11.191863 \n",
    "I(age^2)       0.106517    0.133767     \n",
    "male         161.890143   82.177481   \n",
    "south        112.143584   40.717344  \n",
    "totwrk:male   -0.034694    0.036279   '''"
   ]
  },
  {
   "cell_type": "code",
   "execution_count": 77,
   "id": "56842c9b",
   "metadata": {},
   "outputs": [
    {
     "data": {
      "text/html": [
       "<div>\n",
       "<style scoped>\n",
       "    .dataframe tbody tr th:only-of-type {\n",
       "        vertical-align: middle;\n",
       "    }\n",
       "\n",
       "    .dataframe tbody tr th {\n",
       "        vertical-align: top;\n",
       "    }\n",
       "\n",
       "    .dataframe thead th {\n",
       "        text-align: right;\n",
       "    }\n",
       "</style>\n",
       "<table border=\"1\" class=\"dataframe\">\n",
       "  <thead>\n",
       "    <tr style=\"text-align: right;\">\n",
       "      <th></th>\n",
       "      <th>Estimate</th>\n",
       "      <th>Std.Error</th>\n",
       "    </tr>\n",
       "  </thead>\n",
       "  <tbody>\n",
       "    <tr>\n",
       "      <th>(Intercept)</th>\n",
       "      <td>3587.178292</td>\n",
       "      <td>220.238404</td>\n",
       "    </tr>\n",
       "    <tr>\n",
       "      <th>totwrk</th>\n",
       "      <td>-0.149121</td>\n",
       "      <td>0.026286</td>\n",
       "    </tr>\n",
       "    <tr>\n",
       "      <th>age</th>\n",
       "      <td>-6.258663</td>\n",
       "      <td>11.191863</td>\n",
       "    </tr>\n",
       "    <tr>\n",
       "      <th>I(age^2)</th>\n",
       "      <td>0.106517</td>\n",
       "      <td>0.133767</td>\n",
       "    </tr>\n",
       "    <tr>\n",
       "      <th>male</th>\n",
       "      <td>161.890143</td>\n",
       "      <td>82.177481</td>\n",
       "    </tr>\n",
       "    <tr>\n",
       "      <th>south</th>\n",
       "      <td>112.143584</td>\n",
       "      <td>40.717344</td>\n",
       "    </tr>\n",
       "    <tr>\n",
       "      <th>totwrk:male</th>\n",
       "      <td>-0.034694</td>\n",
       "      <td>0.036279</td>\n",
       "    </tr>\n",
       "  </tbody>\n",
       "</table>\n",
       "</div>"
      ],
      "text/plain": [
       "                Estimate   Std.Error\n",
       "(Intercept)  3587.178292  220.238404\n",
       "totwrk         -0.149121    0.026286\n",
       "age            -6.258663   11.191863\n",
       "I(age^2)        0.106517    0.133767\n",
       "male          161.890143   82.177481\n",
       "south         112.143584   40.717344\n",
       "totwrk:male    -0.034694    0.036279"
      ]
     },
     "execution_count": 77,
     "metadata": {},
     "output_type": "execute_result"
    }
   ],
   "source": [
    "df = pd.read_csv(io.StringIO(data_string), sep='\\s+')\n",
    "df"
   ]
  },
  {
   "cell_type": "code",
   "execution_count": 78,
   "id": "5049446e",
   "metadata": {},
   "outputs": [
    {
     "data": {
      "text/html": [
       "<div>\n",
       "<style scoped>\n",
       "    .dataframe tbody tr th:only-of-type {\n",
       "        vertical-align: middle;\n",
       "    }\n",
       "\n",
       "    .dataframe tbody tr th {\n",
       "        vertical-align: top;\n",
       "    }\n",
       "\n",
       "    .dataframe thead th {\n",
       "        text-align: right;\n",
       "    }\n",
       "</style>\n",
       "<table border=\"1\" class=\"dataframe\">\n",
       "  <thead>\n",
       "    <tr style=\"text-align: right;\">\n",
       "      <th></th>\n",
       "      <th>Estimate</th>\n",
       "      <th>Std.Error</th>\n",
       "      <th>znachimost</th>\n",
       "    </tr>\n",
       "  </thead>\n",
       "  <tbody>\n",
       "    <tr>\n",
       "      <th>(Intercept)</th>\n",
       "      <td>3587.178</td>\n",
       "      <td>220.238</td>\n",
       "      <td>16.288</td>\n",
       "    </tr>\n",
       "    <tr>\n",
       "      <th>totwrk</th>\n",
       "      <td>-0.149</td>\n",
       "      <td>0.026</td>\n",
       "      <td>5.673</td>\n",
       "    </tr>\n",
       "    <tr>\n",
       "      <th>age</th>\n",
       "      <td>-6.259</td>\n",
       "      <td>11.192</td>\n",
       "      <td>0.559</td>\n",
       "    </tr>\n",
       "    <tr>\n",
       "      <th>I(age^2)</th>\n",
       "      <td>0.107</td>\n",
       "      <td>0.134</td>\n",
       "      <td>0.796</td>\n",
       "    </tr>\n",
       "    <tr>\n",
       "      <th>male</th>\n",
       "      <td>161.890</td>\n",
       "      <td>82.177</td>\n",
       "      <td>1.970</td>\n",
       "    </tr>\n",
       "    <tr>\n",
       "      <th>south</th>\n",
       "      <td>112.144</td>\n",
       "      <td>40.717</td>\n",
       "      <td>2.754</td>\n",
       "    </tr>\n",
       "    <tr>\n",
       "      <th>totwrk:male</th>\n",
       "      <td>-0.035</td>\n",
       "      <td>0.036</td>\n",
       "      <td>0.956</td>\n",
       "    </tr>\n",
       "  </tbody>\n",
       "</table>\n",
       "</div>"
      ],
      "text/plain": [
       "             Estimate  Std.Error  znachimost\n",
       "(Intercept)  3587.178    220.238      16.288\n",
       "totwrk         -0.149      0.026       5.673\n",
       "age            -6.259     11.192       0.559\n",
       "I(age^2)        0.107      0.134       0.796\n",
       "male          161.890     82.177       1.970\n",
       "south         112.144     40.717       2.754\n",
       "totwrk:male    -0.035      0.036       0.956"
      ]
     },
     "execution_count": 78,
     "metadata": {},
     "output_type": "execute_result"
    }
   ],
   "source": [
    "df['znachimost'] = np.abs(df['Estimate']/df['Std.Error'])\n",
    "df.round(3)"
   ]
  },
  {
   "cell_type": "code",
   "execution_count": 83,
   "id": "c38f8ba9",
   "metadata": {},
   "outputs": [
    {
     "data": {
      "text/plain": [
       "2.58"
      ]
     },
     "execution_count": 83,
     "metadata": {},
     "output_type": "execute_result"
    }
   ],
   "source": [
    "alpha = 0.01\n",
    "t = stats.t.ppf(1-alpha/2, 706-7)\n",
    "t.round(2)"
   ]
  },
  {
   "cell_type": "code",
   "execution_count": 84,
   "id": "3d2d5cb9",
   "metadata": {},
   "outputs": [
    {
     "data": {
      "text/html": [
       "<div>\n",
       "<style scoped>\n",
       "    .dataframe tbody tr th:only-of-type {\n",
       "        vertical-align: middle;\n",
       "    }\n",
       "\n",
       "    .dataframe tbody tr th {\n",
       "        vertical-align: top;\n",
       "    }\n",
       "\n",
       "    .dataframe thead th {\n",
       "        text-align: right;\n",
       "    }\n",
       "</style>\n",
       "<table border=\"1\" class=\"dataframe\">\n",
       "  <thead>\n",
       "    <tr style=\"text-align: right;\">\n",
       "      <th></th>\n",
       "      <th>Estimate</th>\n",
       "      <th>Std.Error</th>\n",
       "      <th>znachimost</th>\n",
       "      <th>result</th>\n",
       "    </tr>\n",
       "  </thead>\n",
       "  <tbody>\n",
       "    <tr>\n",
       "      <th>(Intercept)</th>\n",
       "      <td>3587.178292</td>\n",
       "      <td>220.238404</td>\n",
       "      <td>16.287706</td>\n",
       "      <td>znachimo</td>\n",
       "    </tr>\n",
       "    <tr>\n",
       "      <th>totwrk</th>\n",
       "      <td>-0.149121</td>\n",
       "      <td>0.026286</td>\n",
       "      <td>5.673020</td>\n",
       "      <td>znachimo</td>\n",
       "    </tr>\n",
       "    <tr>\n",
       "      <th>age</th>\n",
       "      <td>-6.258663</td>\n",
       "      <td>11.191863</td>\n",
       "      <td>0.559215</td>\n",
       "      <td>ne znachimo</td>\n",
       "    </tr>\n",
       "    <tr>\n",
       "      <th>I(age^2)</th>\n",
       "      <td>0.106517</td>\n",
       "      <td>0.133767</td>\n",
       "      <td>0.796288</td>\n",
       "      <td>ne znachimo</td>\n",
       "    </tr>\n",
       "    <tr>\n",
       "      <th>male</th>\n",
       "      <td>161.890143</td>\n",
       "      <td>82.177481</td>\n",
       "      <td>1.970006</td>\n",
       "      <td>ne znachimo</td>\n",
       "    </tr>\n",
       "    <tr>\n",
       "      <th>south</th>\n",
       "      <td>112.143584</td>\n",
       "      <td>40.717344</td>\n",
       "      <td>2.754197</td>\n",
       "      <td>znachimo</td>\n",
       "    </tr>\n",
       "    <tr>\n",
       "      <th>totwrk:male</th>\n",
       "      <td>-0.034694</td>\n",
       "      <td>0.036279</td>\n",
       "      <td>0.956311</td>\n",
       "      <td>ne znachimo</td>\n",
       "    </tr>\n",
       "  </tbody>\n",
       "</table>\n",
       "</div>"
      ],
      "text/plain": [
       "                Estimate   Std.Error  znachimost       result\n",
       "(Intercept)  3587.178292  220.238404   16.287706     znachimo\n",
       "totwrk         -0.149121    0.026286    5.673020     znachimo\n",
       "age            -6.258663   11.191863    0.559215  ne znachimo\n",
       "I(age^2)        0.106517    0.133767    0.796288  ne znachimo\n",
       "male          161.890143   82.177481    1.970006  ne znachimo\n",
       "south         112.143584   40.717344    2.754197     znachimo\n",
       "totwrk:male    -0.034694    0.036279    0.956311  ne znachimo"
      ]
     },
     "execution_count": 84,
     "metadata": {},
     "output_type": "execute_result"
    }
   ],
   "source": [
    "df['result'] = df.apply(lambda x: 'znachimo' if x['znachimost'] > t else 'ne znachimo', axis=1 )\n",
    "df"
   ]
  },
  {
   "cell_type": "markdown",
   "id": "1788069d",
   "metadata": {},
   "source": [
    "- totwrk, south являются значимыми переменными "
   ]
  },
  {
   "cell_type": "markdown",
   "id": "26f19c72",
   "metadata": {},
   "source": [
    "#### Проверим гипотезы\n",
    "$$\n",
    "H_0 = \\beta_{male} = \\beta_{male*totwrk} = 0\n",
    "$$\n",
    "$$\n",
    "H_1 = \\beta_{male}^2 = \\beta_{male*totwrk}^2 > 0\n",
    "$$"
   ]
  },
  {
   "cell_type": "code",
   "execution_count": 81,
   "id": "e4ffb6be",
   "metadata": {},
   "outputs": [
    {
     "name": "stdout",
     "output_type": "stream",
     "text": [
      "0.129 0.119\n"
     ]
    }
   ],
   "source": [
    "unrest, rest = np.float_(re.findall(r'([-+]?\\d+.\\d+)', 'R2  0.129   0.119'))\n",
    "print(unrest, rest)"
   ]
  },
  {
   "cell_type": "code",
   "execution_count": 86,
   "id": "5c37855f",
   "metadata": {},
   "outputs": [
    {
     "data": {
      "text/plain": [
       "1.605"
      ]
     },
     "execution_count": 86,
     "metadata": {},
     "output_type": "execute_result"
    }
   ],
   "source": [
    "F_nab = (unrest-rest)/(1-unrest)*(706-7)/5\n",
    "round(F_nab, 3)"
   ]
  },
  {
   "cell_type": "code",
   "execution_count": 87,
   "id": "da1c562e",
   "metadata": {},
   "outputs": [
    {
     "data": {
      "text/plain": [
       "3.346"
      ]
     },
     "execution_count": 87,
     "metadata": {},
     "output_type": "execute_result"
    }
   ],
   "source": [
    "alpha = 0.01\n",
    "F_cr = stats.f.ppf(1-alpha, 4, 706-7)\n",
    "round(F_cr, 3)"
   ]
  },
  {
   "cell_type": "markdown",
   "id": "34642ca5",
   "metadata": {},
   "source": [
    "- не отвергаем гипотезу $H_0$, коэффициенты совместно незначимы "
   ]
  },
  {
   "cell_type": "markdown",
   "id": "9b72a681",
   "metadata": {},
   "source": [
    "### Задание 3.1"
   ]
  },
  {
   "cell_type": "code",
   "execution_count": 163,
   "id": "505df1a0",
   "metadata": {},
   "outputs": [
    {
     "data": {
      "text/html": [
       "<div>\n",
       "<style scoped>\n",
       "    .dataframe tbody tr th:only-of-type {\n",
       "        vertical-align: middle;\n",
       "    }\n",
       "\n",
       "    .dataframe tbody tr th {\n",
       "        vertical-align: top;\n",
       "    }\n",
       "\n",
       "    .dataframe thead th {\n",
       "        text-align: right;\n",
       "    }\n",
       "</style>\n",
       "<table border=\"1\" class=\"dataframe\">\n",
       "  <thead>\n",
       "    <tr style=\"text-align: right;\">\n",
       "      <th></th>\n",
       "      <th>cost</th>\n",
       "      <th>q</th>\n",
       "      <th>pl</th>\n",
       "      <th>sl</th>\n",
       "      <th>pk</th>\n",
       "      <th>sk</th>\n",
       "      <th>pf</th>\n",
       "      <th>sf</th>\n",
       "    </tr>\n",
       "  </thead>\n",
       "  <tbody>\n",
       "    <tr>\n",
       "      <th>0</th>\n",
       "      <td>0.2130</td>\n",
       "      <td>8.0</td>\n",
       "      <td>6869.47</td>\n",
       "      <td>0.3291</td>\n",
       "      <td>64.945</td>\n",
       "      <td>0.4197</td>\n",
       "      <td>18.000</td>\n",
       "      <td>0.2512</td>\n",
       "    </tr>\n",
       "    <tr>\n",
       "      <th>1</th>\n",
       "      <td>3.0427</td>\n",
       "      <td>869.0</td>\n",
       "      <td>8372.96</td>\n",
       "      <td>0.1030</td>\n",
       "      <td>68.227</td>\n",
       "      <td>0.2913</td>\n",
       "      <td>21.067</td>\n",
       "      <td>0.6057</td>\n",
       "    </tr>\n",
       "    <tr>\n",
       "      <th>2</th>\n",
       "      <td>9.4059</td>\n",
       "      <td>1412.0</td>\n",
       "      <td>7960.90</td>\n",
       "      <td>0.0891</td>\n",
       "      <td>40.692</td>\n",
       "      <td>0.1567</td>\n",
       "      <td>41.530</td>\n",
       "      <td>0.7542</td>\n",
       "    </tr>\n",
       "    <tr>\n",
       "      <th>3</th>\n",
       "      <td>0.7606</td>\n",
       "      <td>65.0</td>\n",
       "      <td>8971.89</td>\n",
       "      <td>0.2802</td>\n",
       "      <td>41.243</td>\n",
       "      <td>0.1282</td>\n",
       "      <td>28.539</td>\n",
       "      <td>0.5916</td>\n",
       "    </tr>\n",
       "    <tr>\n",
       "      <th>4</th>\n",
       "      <td>2.2587</td>\n",
       "      <td>295.0</td>\n",
       "      <td>8218.40</td>\n",
       "      <td>0.1772</td>\n",
       "      <td>71.940</td>\n",
       "      <td>0.1623</td>\n",
       "      <td>39.200</td>\n",
       "      <td>0.6606</td>\n",
       "    </tr>\n",
       "    <tr>\n",
       "      <th>...</th>\n",
       "      <td>...</td>\n",
       "      <td>...</td>\n",
       "      <td>...</td>\n",
       "      <td>...</td>\n",
       "      <td>...</td>\n",
       "      <td>...</td>\n",
       "      <td>...</td>\n",
       "      <td>...</td>\n",
       "    </tr>\n",
       "    <tr>\n",
       "      <th>153</th>\n",
       "      <td>6.8293</td>\n",
       "      <td>946.6</td>\n",
       "      <td>10642.16</td>\n",
       "      <td>0.0883</td>\n",
       "      <td>43.600</td>\n",
       "      <td>0.1914</td>\n",
       "      <td>51.463</td>\n",
       "      <td>0.7203</td>\n",
       "    </tr>\n",
       "    <tr>\n",
       "      <th>154</th>\n",
       "      <td>3.7605</td>\n",
       "      <td>377.0</td>\n",
       "      <td>7432.24</td>\n",
       "      <td>0.2117</td>\n",
       "      <td>74.120</td>\n",
       "      <td>0.2274</td>\n",
       "      <td>33.436</td>\n",
       "      <td>0.5609</td>\n",
       "    </tr>\n",
       "    <tr>\n",
       "      <th>155</th>\n",
       "      <td>3.9822</td>\n",
       "      <td>391.0</td>\n",
       "      <td>5826.04</td>\n",
       "      <td>0.1926</td>\n",
       "      <td>78.288</td>\n",
       "      <td>0.0924</td>\n",
       "      <td>44.633</td>\n",
       "      <td>0.7151</td>\n",
       "    </tr>\n",
       "    <tr>\n",
       "      <th>156</th>\n",
       "      <td>30.1880</td>\n",
       "      <td>5317.0</td>\n",
       "      <td>9586.63</td>\n",
       "      <td>0.0845</td>\n",
       "      <td>78.008</td>\n",
       "      <td>0.2009</td>\n",
       "      <td>41.840</td>\n",
       "      <td>0.7147</td>\n",
       "    </tr>\n",
       "    <tr>\n",
       "      <th>157</th>\n",
       "      <td>67.8562</td>\n",
       "      <td>15220.0</td>\n",
       "      <td>6986.09</td>\n",
       "      <td>0.1451</td>\n",
       "      <td>74.025</td>\n",
       "      <td>0.2596</td>\n",
       "      <td>25.662</td>\n",
       "      <td>0.5945</td>\n",
       "    </tr>\n",
       "  </tbody>\n",
       "</table>\n",
       "<p>158 rows × 8 columns</p>\n",
       "</div>"
      ],
      "text/plain": [
       "        cost        q        pl      sl      pk      sk      pf      sf\n",
       "0     0.2130      8.0   6869.47  0.3291  64.945  0.4197  18.000  0.2512\n",
       "1     3.0427    869.0   8372.96  0.1030  68.227  0.2913  21.067  0.6057\n",
       "2     9.4059   1412.0   7960.90  0.0891  40.692  0.1567  41.530  0.7542\n",
       "3     0.7606     65.0   8971.89  0.2802  41.243  0.1282  28.539  0.5916\n",
       "4     2.2587    295.0   8218.40  0.1772  71.940  0.1623  39.200  0.6606\n",
       "..       ...      ...       ...     ...     ...     ...     ...     ...\n",
       "153   6.8293    946.6  10642.16  0.0883  43.600  0.1914  51.463  0.7203\n",
       "154   3.7605    377.0   7432.24  0.2117  74.120  0.2274  33.436  0.5609\n",
       "155   3.9822    391.0   5826.04  0.1926  78.288  0.0924  44.633  0.7151\n",
       "156  30.1880   5317.0   9586.63  0.0845  78.008  0.2009  41.840  0.7147\n",
       "157  67.8562  15220.0   6986.09  0.1451  74.025  0.2596  25.662  0.5945\n",
       "\n",
       "[158 rows x 8 columns]"
      ]
     },
     "execution_count": 163,
     "metadata": {},
     "output_type": "execute_result"
    }
   ],
   "source": [
    "pd.read_csv('https://raw.githubusercontent.com/artamonoff/Econometrica/master/python-notebooks/data-csv/Electricity.csv')"
   ]
  },
  {
   "cell_type": "code",
   "execution_count": 165,
   "id": "fdce97ab",
   "metadata": {},
   "outputs": [
    {
     "ename": "PatsyError",
     "evalue": "Error evaluating factor: NameError: name 'pl' is not defined\n    np.log(cost)~np.log(q)+I(np.log((q)**2))+np.log(pl)+np.log(pk)+np.log(pf)\n                                             ^^^^^^^^^^",
     "output_type": "error",
     "traceback": [
      "\u001b[0;31m---------------------------------------------------------------------------\u001b[0m",
      "\u001b[0;31mNameError\u001b[0m                                 Traceback (most recent call last)",
      "\u001b[0;32m~/opt/anaconda3/lib/python3.9/site-packages/patsy/compat.py\u001b[0m in \u001b[0;36mcall_and_wrap_exc\u001b[0;34m(msg, origin, f, *args, **kwargs)\u001b[0m\n\u001b[1;32m     35\u001b[0m     \u001b[0;32mtry\u001b[0m\u001b[0;34m:\u001b[0m\u001b[0;34m\u001b[0m\u001b[0;34m\u001b[0m\u001b[0m\n\u001b[0;32m---> 36\u001b[0;31m         \u001b[0;32mreturn\u001b[0m \u001b[0mf\u001b[0m\u001b[0;34m(\u001b[0m\u001b[0;34m*\u001b[0m\u001b[0margs\u001b[0m\u001b[0;34m,\u001b[0m \u001b[0;34m**\u001b[0m\u001b[0mkwargs\u001b[0m\u001b[0;34m)\u001b[0m\u001b[0;34m\u001b[0m\u001b[0;34m\u001b[0m\u001b[0m\n\u001b[0m\u001b[1;32m     37\u001b[0m     \u001b[0;32mexcept\u001b[0m \u001b[0mException\u001b[0m \u001b[0;32mas\u001b[0m \u001b[0me\u001b[0m\u001b[0;34m:\u001b[0m\u001b[0;34m\u001b[0m\u001b[0;34m\u001b[0m\u001b[0m\n",
      "\u001b[0;32m~/opt/anaconda3/lib/python3.9/site-packages/patsy/eval.py\u001b[0m in \u001b[0;36meval\u001b[0;34m(self, expr, source_name, inner_namespace)\u001b[0m\n\u001b[1;32m    164\u001b[0m         \u001b[0mcode\u001b[0m \u001b[0;34m=\u001b[0m \u001b[0mcompile\u001b[0m\u001b[0;34m(\u001b[0m\u001b[0mexpr\u001b[0m\u001b[0;34m,\u001b[0m \u001b[0msource_name\u001b[0m\u001b[0;34m,\u001b[0m \u001b[0;34m\"eval\"\u001b[0m\u001b[0;34m,\u001b[0m \u001b[0mself\u001b[0m\u001b[0;34m.\u001b[0m\u001b[0mflags\u001b[0m\u001b[0;34m,\u001b[0m \u001b[0;32mFalse\u001b[0m\u001b[0;34m)\u001b[0m\u001b[0;34m\u001b[0m\u001b[0;34m\u001b[0m\u001b[0m\n\u001b[0;32m--> 165\u001b[0;31m         return eval(code, {}, VarLookupDict([inner_namespace]\n\u001b[0m\u001b[1;32m    166\u001b[0m                                             + self._namespaces))\n",
      "\u001b[0;32m<string>\u001b[0m in \u001b[0;36m<module>\u001b[0;34m\u001b[0m\n",
      "\u001b[0;31mNameError\u001b[0m: name 'pl' is not defined",
      "\nThe above exception was the direct cause of the following exception:\n",
      "\u001b[0;31mPatsyError\u001b[0m                                Traceback (most recent call last)",
      "\u001b[0;32m/var/folders/kz/b7wmd97s2q791fb_xhbmdzdh0000gn/T/ipykernel_15335/84129449.py\u001b[0m in \u001b[0;36m<module>\u001b[0;34m\u001b[0m\n\u001b[0;32m----> 1\u001b[0;31m \u001b[0mfitted\u001b[0m \u001b[0;34m=\u001b[0m \u001b[0msmf\u001b[0m\u001b[0;34m.\u001b[0m\u001b[0mols\u001b[0m\u001b[0;34m(\u001b[0m\u001b[0mdata\u001b[0m\u001b[0;34m=\u001b[0m\u001b[0mdf\u001b[0m\u001b[0;34m,\u001b[0m \u001b[0mformula\u001b[0m\u001b[0;34m=\u001b[0m\u001b[0;34m'np.log(cost)~np.log(q)+I(np.log((q)**2))+np.log(pl)+np.log(pk)+np.log(pf)'\u001b[0m\u001b[0;34m)\u001b[0m\u001b[0;34m.\u001b[0m\u001b[0mfit\u001b[0m\u001b[0;34m(\u001b[0m\u001b[0;34m)\u001b[0m\u001b[0;34m\u001b[0m\u001b[0;34m\u001b[0m\u001b[0m\n\u001b[0m\u001b[1;32m      2\u001b[0m \u001b[0mfitted\u001b[0m\u001b[0;34m.\u001b[0m\u001b[0mparams\u001b[0m\u001b[0;34m\u001b[0m\u001b[0;34m\u001b[0m\u001b[0m\n",
      "\u001b[0;32m~/opt/anaconda3/lib/python3.9/site-packages/statsmodels/base/model.py\u001b[0m in \u001b[0;36mfrom_formula\u001b[0;34m(cls, formula, data, subset, drop_cols, *args, **kwargs)\u001b[0m\n\u001b[1;32m    198\u001b[0m             \u001b[0mmissing\u001b[0m \u001b[0;34m=\u001b[0m \u001b[0;34m'raise'\u001b[0m\u001b[0;34m\u001b[0m\u001b[0;34m\u001b[0m\u001b[0m\n\u001b[1;32m    199\u001b[0m \u001b[0;34m\u001b[0m\u001b[0m\n\u001b[0;32m--> 200\u001b[0;31m         tmp = handle_formula_data(data, None, formula, depth=eval_env,\n\u001b[0m\u001b[1;32m    201\u001b[0m                                   missing=missing)\n\u001b[1;32m    202\u001b[0m         \u001b[0;34m(\u001b[0m\u001b[0;34m(\u001b[0m\u001b[0mendog\u001b[0m\u001b[0;34m,\u001b[0m \u001b[0mexog\u001b[0m\u001b[0;34m)\u001b[0m\u001b[0;34m,\u001b[0m \u001b[0mmissing_idx\u001b[0m\u001b[0;34m,\u001b[0m \u001b[0mdesign_info\u001b[0m\u001b[0;34m)\u001b[0m \u001b[0;34m=\u001b[0m \u001b[0mtmp\u001b[0m\u001b[0;34m\u001b[0m\u001b[0;34m\u001b[0m\u001b[0m\n",
      "\u001b[0;32m~/opt/anaconda3/lib/python3.9/site-packages/statsmodels/formula/formulatools.py\u001b[0m in \u001b[0;36mhandle_formula_data\u001b[0;34m(Y, X, formula, depth, missing)\u001b[0m\n\u001b[1;32m     61\u001b[0m     \u001b[0;32melse\u001b[0m\u001b[0;34m:\u001b[0m\u001b[0;34m\u001b[0m\u001b[0;34m\u001b[0m\u001b[0m\n\u001b[1;32m     62\u001b[0m         \u001b[0;32mif\u001b[0m \u001b[0mdata_util\u001b[0m\u001b[0;34m.\u001b[0m\u001b[0m_is_using_pandas\u001b[0m\u001b[0;34m(\u001b[0m\u001b[0mY\u001b[0m\u001b[0;34m,\u001b[0m \u001b[0;32mNone\u001b[0m\u001b[0;34m)\u001b[0m\u001b[0;34m:\u001b[0m\u001b[0;34m\u001b[0m\u001b[0;34m\u001b[0m\u001b[0m\n\u001b[0;32m---> 63\u001b[0;31m             result = dmatrices(formula, Y, depth, return_type='dataframe',\n\u001b[0m\u001b[1;32m     64\u001b[0m                                NA_action=na_action)\n\u001b[1;32m     65\u001b[0m         \u001b[0;32melse\u001b[0m\u001b[0;34m:\u001b[0m\u001b[0;34m\u001b[0m\u001b[0;34m\u001b[0m\u001b[0m\n",
      "\u001b[0;32m~/opt/anaconda3/lib/python3.9/site-packages/patsy/highlevel.py\u001b[0m in \u001b[0;36mdmatrices\u001b[0;34m(formula_like, data, eval_env, NA_action, return_type)\u001b[0m\n\u001b[1;32m    307\u001b[0m     \"\"\"\n\u001b[1;32m    308\u001b[0m     \u001b[0meval_env\u001b[0m \u001b[0;34m=\u001b[0m \u001b[0mEvalEnvironment\u001b[0m\u001b[0;34m.\u001b[0m\u001b[0mcapture\u001b[0m\u001b[0;34m(\u001b[0m\u001b[0meval_env\u001b[0m\u001b[0;34m,\u001b[0m \u001b[0mreference\u001b[0m\u001b[0;34m=\u001b[0m\u001b[0;36m1\u001b[0m\u001b[0;34m)\u001b[0m\u001b[0;34m\u001b[0m\u001b[0;34m\u001b[0m\u001b[0m\n\u001b[0;32m--> 309\u001b[0;31m     (lhs, rhs) = _do_highlevel_design(formula_like, data, eval_env,\n\u001b[0m\u001b[1;32m    310\u001b[0m                                       NA_action, return_type)\n\u001b[1;32m    311\u001b[0m     \u001b[0;32mif\u001b[0m \u001b[0mlhs\u001b[0m\u001b[0;34m.\u001b[0m\u001b[0mshape\u001b[0m\u001b[0;34m[\u001b[0m\u001b[0;36m1\u001b[0m\u001b[0;34m]\u001b[0m \u001b[0;34m==\u001b[0m \u001b[0;36m0\u001b[0m\u001b[0;34m:\u001b[0m\u001b[0;34m\u001b[0m\u001b[0;34m\u001b[0m\u001b[0m\n",
      "\u001b[0;32m~/opt/anaconda3/lib/python3.9/site-packages/patsy/highlevel.py\u001b[0m in \u001b[0;36m_do_highlevel_design\u001b[0;34m(formula_like, data, eval_env, NA_action, return_type)\u001b[0m\n\u001b[1;32m    162\u001b[0m     \u001b[0;32mdef\u001b[0m \u001b[0mdata_iter_maker\u001b[0m\u001b[0;34m(\u001b[0m\u001b[0;34m)\u001b[0m\u001b[0;34m:\u001b[0m\u001b[0;34m\u001b[0m\u001b[0;34m\u001b[0m\u001b[0m\n\u001b[1;32m    163\u001b[0m         \u001b[0;32mreturn\u001b[0m \u001b[0miter\u001b[0m\u001b[0;34m(\u001b[0m\u001b[0;34m[\u001b[0m\u001b[0mdata\u001b[0m\u001b[0;34m]\u001b[0m\u001b[0;34m)\u001b[0m\u001b[0;34m\u001b[0m\u001b[0;34m\u001b[0m\u001b[0m\n\u001b[0;32m--> 164\u001b[0;31m     design_infos = _try_incr_builders(formula_like, data_iter_maker, eval_env,\n\u001b[0m\u001b[1;32m    165\u001b[0m                                       NA_action)\n\u001b[1;32m    166\u001b[0m     \u001b[0;32mif\u001b[0m \u001b[0mdesign_infos\u001b[0m \u001b[0;32mis\u001b[0m \u001b[0;32mnot\u001b[0m \u001b[0;32mNone\u001b[0m\u001b[0;34m:\u001b[0m\u001b[0;34m\u001b[0m\u001b[0;34m\u001b[0m\u001b[0m\n",
      "\u001b[0;32m~/opt/anaconda3/lib/python3.9/site-packages/patsy/highlevel.py\u001b[0m in \u001b[0;36m_try_incr_builders\u001b[0;34m(formula_like, data_iter_maker, eval_env, NA_action)\u001b[0m\n\u001b[1;32m     64\u001b[0m     \u001b[0;32mif\u001b[0m \u001b[0misinstance\u001b[0m\u001b[0;34m(\u001b[0m\u001b[0mformula_like\u001b[0m\u001b[0;34m,\u001b[0m \u001b[0mModelDesc\u001b[0m\u001b[0;34m)\u001b[0m\u001b[0;34m:\u001b[0m\u001b[0;34m\u001b[0m\u001b[0;34m\u001b[0m\u001b[0m\n\u001b[1;32m     65\u001b[0m         \u001b[0;32massert\u001b[0m \u001b[0misinstance\u001b[0m\u001b[0;34m(\u001b[0m\u001b[0meval_env\u001b[0m\u001b[0;34m,\u001b[0m \u001b[0mEvalEnvironment\u001b[0m\u001b[0;34m)\u001b[0m\u001b[0;34m\u001b[0m\u001b[0;34m\u001b[0m\u001b[0m\n\u001b[0;32m---> 66\u001b[0;31m         return design_matrix_builders([formula_like.lhs_termlist,\n\u001b[0m\u001b[1;32m     67\u001b[0m                                        formula_like.rhs_termlist],\n\u001b[1;32m     68\u001b[0m                                       \u001b[0mdata_iter_maker\u001b[0m\u001b[0;34m,\u001b[0m\u001b[0;34m\u001b[0m\u001b[0;34m\u001b[0m\u001b[0m\n",
      "\u001b[0;32m~/opt/anaconda3/lib/python3.9/site-packages/patsy/build.py\u001b[0m in \u001b[0;36mdesign_matrix_builders\u001b[0;34m(termlists, data_iter_maker, eval_env, NA_action)\u001b[0m\n\u001b[1;32m    691\u001b[0m     \u001b[0;31m# on some data to find out what type of data they return.\u001b[0m\u001b[0;34m\u001b[0m\u001b[0;34m\u001b[0m\u001b[0m\n\u001b[1;32m    692\u001b[0m     (num_column_counts,\n\u001b[0;32m--> 693\u001b[0;31m      \u001b[0mcat_levels_contrasts\u001b[0m\u001b[0;34m)\u001b[0m \u001b[0;34m=\u001b[0m \u001b[0m_examine_factor_types\u001b[0m\u001b[0;34m(\u001b[0m\u001b[0mall_factors\u001b[0m\u001b[0;34m,\u001b[0m\u001b[0;34m\u001b[0m\u001b[0;34m\u001b[0m\u001b[0m\n\u001b[0m\u001b[1;32m    694\u001b[0m                                                    \u001b[0mfactor_states\u001b[0m\u001b[0;34m,\u001b[0m\u001b[0;34m\u001b[0m\u001b[0;34m\u001b[0m\u001b[0m\n\u001b[1;32m    695\u001b[0m                                                    \u001b[0mdata_iter_maker\u001b[0m\u001b[0;34m,\u001b[0m\u001b[0;34m\u001b[0m\u001b[0;34m\u001b[0m\u001b[0m\n",
      "\u001b[0;32m~/opt/anaconda3/lib/python3.9/site-packages/patsy/build.py\u001b[0m in \u001b[0;36m_examine_factor_types\u001b[0;34m(factors, factor_states, data_iter_maker, NA_action)\u001b[0m\n\u001b[1;32m    441\u001b[0m     \u001b[0;32mfor\u001b[0m \u001b[0mdata\u001b[0m \u001b[0;32min\u001b[0m \u001b[0mdata_iter_maker\u001b[0m\u001b[0;34m(\u001b[0m\u001b[0;34m)\u001b[0m\u001b[0;34m:\u001b[0m\u001b[0;34m\u001b[0m\u001b[0;34m\u001b[0m\u001b[0m\n\u001b[1;32m    442\u001b[0m         \u001b[0;32mfor\u001b[0m \u001b[0mfactor\u001b[0m \u001b[0;32min\u001b[0m \u001b[0mlist\u001b[0m\u001b[0;34m(\u001b[0m\u001b[0mexamine_needed\u001b[0m\u001b[0;34m)\u001b[0m\u001b[0;34m:\u001b[0m\u001b[0;34m\u001b[0m\u001b[0;34m\u001b[0m\u001b[0m\n\u001b[0;32m--> 443\u001b[0;31m             \u001b[0mvalue\u001b[0m \u001b[0;34m=\u001b[0m \u001b[0mfactor\u001b[0m\u001b[0;34m.\u001b[0m\u001b[0meval\u001b[0m\u001b[0;34m(\u001b[0m\u001b[0mfactor_states\u001b[0m\u001b[0;34m[\u001b[0m\u001b[0mfactor\u001b[0m\u001b[0;34m]\u001b[0m\u001b[0;34m,\u001b[0m \u001b[0mdata\u001b[0m\u001b[0;34m)\u001b[0m\u001b[0;34m\u001b[0m\u001b[0;34m\u001b[0m\u001b[0m\n\u001b[0m\u001b[1;32m    444\u001b[0m             \u001b[0;32mif\u001b[0m \u001b[0mfactor\u001b[0m \u001b[0;32min\u001b[0m \u001b[0mcat_sniffers\u001b[0m \u001b[0;32mor\u001b[0m \u001b[0mguess_categorical\u001b[0m\u001b[0;34m(\u001b[0m\u001b[0mvalue\u001b[0m\u001b[0;34m)\u001b[0m\u001b[0;34m:\u001b[0m\u001b[0;34m\u001b[0m\u001b[0;34m\u001b[0m\u001b[0m\n\u001b[1;32m    445\u001b[0m                 \u001b[0;32mif\u001b[0m \u001b[0mfactor\u001b[0m \u001b[0;32mnot\u001b[0m \u001b[0;32min\u001b[0m \u001b[0mcat_sniffers\u001b[0m\u001b[0;34m:\u001b[0m\u001b[0;34m\u001b[0m\u001b[0;34m\u001b[0m\u001b[0m\n",
      "\u001b[0;32m~/opt/anaconda3/lib/python3.9/site-packages/patsy/eval.py\u001b[0m in \u001b[0;36meval\u001b[0;34m(self, memorize_state, data)\u001b[0m\n\u001b[1;32m    562\u001b[0m \u001b[0;34m\u001b[0m\u001b[0m\n\u001b[1;32m    563\u001b[0m     \u001b[0;32mdef\u001b[0m \u001b[0meval\u001b[0m\u001b[0;34m(\u001b[0m\u001b[0mself\u001b[0m\u001b[0;34m,\u001b[0m \u001b[0mmemorize_state\u001b[0m\u001b[0;34m,\u001b[0m \u001b[0mdata\u001b[0m\u001b[0;34m)\u001b[0m\u001b[0;34m:\u001b[0m\u001b[0;34m\u001b[0m\u001b[0;34m\u001b[0m\u001b[0m\n\u001b[0;32m--> 564\u001b[0;31m         return self._eval(memorize_state[\"eval_code\"],\n\u001b[0m\u001b[1;32m    565\u001b[0m                           \u001b[0mmemorize_state\u001b[0m\u001b[0;34m,\u001b[0m\u001b[0;34m\u001b[0m\u001b[0;34m\u001b[0m\u001b[0m\n\u001b[1;32m    566\u001b[0m                           data)\n",
      "\u001b[0;32m~/opt/anaconda3/lib/python3.9/site-packages/patsy/eval.py\u001b[0m in \u001b[0;36m_eval\u001b[0;34m(self, code, memorize_state, data)\u001b[0m\n\u001b[1;32m    545\u001b[0m     \u001b[0;32mdef\u001b[0m \u001b[0m_eval\u001b[0m\u001b[0;34m(\u001b[0m\u001b[0mself\u001b[0m\u001b[0;34m,\u001b[0m \u001b[0mcode\u001b[0m\u001b[0;34m,\u001b[0m \u001b[0mmemorize_state\u001b[0m\u001b[0;34m,\u001b[0m \u001b[0mdata\u001b[0m\u001b[0;34m)\u001b[0m\u001b[0;34m:\u001b[0m\u001b[0;34m\u001b[0m\u001b[0;34m\u001b[0m\u001b[0m\n\u001b[1;32m    546\u001b[0m         \u001b[0minner_namespace\u001b[0m \u001b[0;34m=\u001b[0m \u001b[0mVarLookupDict\u001b[0m\u001b[0;34m(\u001b[0m\u001b[0;34m[\u001b[0m\u001b[0mdata\u001b[0m\u001b[0;34m,\u001b[0m \u001b[0mmemorize_state\u001b[0m\u001b[0;34m[\u001b[0m\u001b[0;34m\"transforms\"\u001b[0m\u001b[0;34m]\u001b[0m\u001b[0;34m]\u001b[0m\u001b[0;34m)\u001b[0m\u001b[0;34m\u001b[0m\u001b[0;34m\u001b[0m\u001b[0m\n\u001b[0;32m--> 547\u001b[0;31m         return call_and_wrap_exc(\"Error evaluating factor\",\n\u001b[0m\u001b[1;32m    548\u001b[0m                                  \u001b[0mself\u001b[0m\u001b[0;34m,\u001b[0m\u001b[0;34m\u001b[0m\u001b[0;34m\u001b[0m\u001b[0m\n\u001b[1;32m    549\u001b[0m                                  \u001b[0mmemorize_state\u001b[0m\u001b[0;34m[\u001b[0m\u001b[0;34m\"eval_env\"\u001b[0m\u001b[0;34m]\u001b[0m\u001b[0;34m.\u001b[0m\u001b[0meval\u001b[0m\u001b[0;34m,\u001b[0m\u001b[0;34m\u001b[0m\u001b[0;34m\u001b[0m\u001b[0m\n",
      "\u001b[0;32m~/opt/anaconda3/lib/python3.9/site-packages/patsy/compat.py\u001b[0m in \u001b[0;36mcall_and_wrap_exc\u001b[0;34m(msg, origin, f, *args, **kwargs)\u001b[0m\n\u001b[1;32m     41\u001b[0m                                  origin)\n\u001b[1;32m     42\u001b[0m             \u001b[0;31m# Use 'exec' to hide this syntax from the Python 2 parser:\u001b[0m\u001b[0;34m\u001b[0m\u001b[0;34m\u001b[0m\u001b[0m\n\u001b[0;32m---> 43\u001b[0;31m             \u001b[0mexec\u001b[0m\u001b[0;34m(\u001b[0m\u001b[0;34m\"raise new_exc from e\"\u001b[0m\u001b[0;34m)\u001b[0m\u001b[0;34m\u001b[0m\u001b[0;34m\u001b[0m\u001b[0m\n\u001b[0m\u001b[1;32m     44\u001b[0m         \u001b[0;32melse\u001b[0m\u001b[0;34m:\u001b[0m\u001b[0;34m\u001b[0m\u001b[0;34m\u001b[0m\u001b[0m\n\u001b[1;32m     45\u001b[0m             \u001b[0;31m# In python 2, we just let the original exception escape -- better\u001b[0m\u001b[0;34m\u001b[0m\u001b[0;34m\u001b[0m\u001b[0m\n",
      "\u001b[0;32m~/opt/anaconda3/lib/python3.9/site-packages/patsy/compat.py\u001b[0m in \u001b[0;36m<module>\u001b[0;34m\u001b[0m\n",
      "\u001b[0;31mPatsyError\u001b[0m: Error evaluating factor: NameError: name 'pl' is not defined\n    np.log(cost)~np.log(q)+I(np.log((q)**2))+np.log(pl)+np.log(pk)+np.log(pf)\n                                             ^^^^^^^^^^"
     ]
    }
   ],
   "source": [
    "fitted = smf.ols(data=df, formula='np.log(cost)~np.log(q)+I(np.log((q)**2))+np.log(pl)+np.log(pk)+np.log(pf)').fit()\n",
    "fitted.params"
   ]
  },
  {
   "cell_type": "code",
   "execution_count": 115,
   "id": "f948b8cf",
   "metadata": {},
   "outputs": [
    {
     "data": {
      "text/html": [
       "<table class=\"simpletable\">\n",
       "<tr>\n",
       "          <td></td>             <th>coef</th>     <th>std err</th>      <th>t</th>      <th>P>|t|</th>  <th>[0.005</th>    <th>0.995]</th>  \n",
       "</tr>\n",
       "<tr>\n",
       "  <th>Intercept</th>         <td>   -6.7387</td> <td>    0.706</td> <td>   -9.541</td> <td> 0.000</td> <td>   -8.581</td> <td>   -4.896</td>\n",
       "</tr>\n",
       "<tr>\n",
       "  <th>np.log(q)</th>         <td>    0.4030</td> <td>    0.032</td> <td>   12.734</td> <td> 0.000</td> <td>    0.320</td> <td>    0.486</td>\n",
       "</tr>\n",
       "<tr>\n",
       "  <th>I(np.log(q) ** 2)</th> <td>    0.0304</td> <td>    0.002</td> <td>   14.024</td> <td> 0.000</td> <td>    0.025</td> <td>    0.036</td>\n",
       "</tr>\n",
       "<tr>\n",
       "  <th>np.log(pl)</th>        <td>    0.1461</td> <td>    0.070</td> <td>    2.073</td> <td> 0.040</td> <td>   -0.038</td> <td>    0.330</td>\n",
       "</tr>\n",
       "<tr>\n",
       "  <th>np.log(pk)</th>        <td>    0.1571</td> <td>    0.058</td> <td>    2.721</td> <td> 0.007</td> <td>    0.007</td> <td>    0.308</td>\n",
       "</tr>\n",
       "<tr>\n",
       "  <th>np.log(pf)</th>        <td>    0.6847</td> <td>    0.043</td> <td>   16.043</td> <td> 0.000</td> <td>    0.573</td> <td>    0.796</td>\n",
       "</tr>\n",
       "</table>"
      ],
      "text/plain": [
       "<class 'statsmodels.iolib.table.SimpleTable'>"
      ]
     },
     "execution_count": 115,
     "metadata": {},
     "output_type": "execute_result"
    }
   ],
   "source": []
  },
  {
   "cell_type": "code",
   "execution_count": 119,
   "id": "8a158674",
   "metadata": {},
   "outputs": [],
   "source": [
    "data_string = '''coef\tstd.err\tt\tP>|t|\t[0.005\t0.995]\n",
    "Intercept\t-6.7387\t0.706\t-9.541\t0.000\t-8.581\t-4.896\n",
    "np.log(q)\t0.4030\t0.032\t12.734\t0.000\t0.320\t0.486\n",
    "I(np.log(q)**2)\t0.0304\t0.002\t14.024\t0.000\t0.025\t0.036\n",
    "np.log(pl)\t0.1461\t0.070\t2.073\t0.040\t-0.038\t0.330\n",
    "np.log(pk)\t0.1571\t0.058\t2.721\t0.007\t0.007\t0.308\n",
    "np.log(pf)\t0.6847\t0.043\t16.043\t0.000\t0.573\t0.796\n",
    "'''"
   ]
  },
  {
   "cell_type": "code",
   "execution_count": 120,
   "id": "7276a92a",
   "metadata": {},
   "outputs": [
    {
     "data": {
      "text/html": [
       "<div>\n",
       "<style scoped>\n",
       "    .dataframe tbody tr th:only-of-type {\n",
       "        vertical-align: middle;\n",
       "    }\n",
       "\n",
       "    .dataframe tbody tr th {\n",
       "        vertical-align: top;\n",
       "    }\n",
       "\n",
       "    .dataframe thead th {\n",
       "        text-align: right;\n",
       "    }\n",
       "</style>\n",
       "<table border=\"1\" class=\"dataframe\">\n",
       "  <thead>\n",
       "    <tr style=\"text-align: right;\">\n",
       "      <th></th>\n",
       "      <th>coef</th>\n",
       "      <th>std.err</th>\n",
       "      <th>t</th>\n",
       "      <th>P&gt;|t|</th>\n",
       "      <th>[0.005</th>\n",
       "      <th>0.995]</th>\n",
       "    </tr>\n",
       "  </thead>\n",
       "  <tbody>\n",
       "    <tr>\n",
       "      <th>Intercept</th>\n",
       "      <td>-6.7387</td>\n",
       "      <td>0.706</td>\n",
       "      <td>-9.541</td>\n",
       "      <td>0.000</td>\n",
       "      <td>-8.581</td>\n",
       "      <td>-4.896</td>\n",
       "    </tr>\n",
       "    <tr>\n",
       "      <th>np.log(q)</th>\n",
       "      <td>0.4030</td>\n",
       "      <td>0.032</td>\n",
       "      <td>12.734</td>\n",
       "      <td>0.000</td>\n",
       "      <td>0.320</td>\n",
       "      <td>0.486</td>\n",
       "    </tr>\n",
       "    <tr>\n",
       "      <th>I(np.log(q)**2)</th>\n",
       "      <td>0.0304</td>\n",
       "      <td>0.002</td>\n",
       "      <td>14.024</td>\n",
       "      <td>0.000</td>\n",
       "      <td>0.025</td>\n",
       "      <td>0.036</td>\n",
       "    </tr>\n",
       "    <tr>\n",
       "      <th>np.log(pl)</th>\n",
       "      <td>0.1461</td>\n",
       "      <td>0.070</td>\n",
       "      <td>2.073</td>\n",
       "      <td>0.040</td>\n",
       "      <td>-0.038</td>\n",
       "      <td>0.330</td>\n",
       "    </tr>\n",
       "    <tr>\n",
       "      <th>np.log(pk)</th>\n",
       "      <td>0.1571</td>\n",
       "      <td>0.058</td>\n",
       "      <td>2.721</td>\n",
       "      <td>0.007</td>\n",
       "      <td>0.007</td>\n",
       "      <td>0.308</td>\n",
       "    </tr>\n",
       "    <tr>\n",
       "      <th>np.log(pf)</th>\n",
       "      <td>0.6847</td>\n",
       "      <td>0.043</td>\n",
       "      <td>16.043</td>\n",
       "      <td>0.000</td>\n",
       "      <td>0.573</td>\n",
       "      <td>0.796</td>\n",
       "    </tr>\n",
       "  </tbody>\n",
       "</table>\n",
       "</div>"
      ],
      "text/plain": [
       "                   coef  std.err       t  P>|t|  [0.005  0.995]\n",
       "Intercept       -6.7387    0.706  -9.541  0.000  -8.581  -4.896\n",
       "np.log(q)        0.4030    0.032  12.734  0.000   0.320   0.486\n",
       "I(np.log(q)**2)  0.0304    0.002  14.024  0.000   0.025   0.036\n",
       "np.log(pl)       0.1461    0.070   2.073  0.040  -0.038   0.330\n",
       "np.log(pk)       0.1571    0.058   2.721  0.007   0.007   0.308\n",
       "np.log(pf)       0.6847    0.043  16.043  0.000   0.573   0.796"
      ]
     },
     "execution_count": 120,
     "metadata": {},
     "output_type": "execute_result"
    }
   ],
   "source": [
    "df = pd.read_csv(io.StringIO(data_string), sep='\\s+')\n",
    "df"
   ]
  },
  {
   "cell_type": "code",
   "execution_count": 121,
   "id": "26817bc5",
   "metadata": {},
   "outputs": [
    {
     "data": {
      "text/html": [
       "<div>\n",
       "<style scoped>\n",
       "    .dataframe tbody tr th:only-of-type {\n",
       "        vertical-align: middle;\n",
       "    }\n",
       "\n",
       "    .dataframe tbody tr th {\n",
       "        vertical-align: top;\n",
       "    }\n",
       "\n",
       "    .dataframe thead th {\n",
       "        text-align: right;\n",
       "    }\n",
       "</style>\n",
       "<table border=\"1\" class=\"dataframe\">\n",
       "  <thead>\n",
       "    <tr style=\"text-align: right;\">\n",
       "      <th></th>\n",
       "      <th>coef</th>\n",
       "      <th>std.err</th>\n",
       "      <th>t</th>\n",
       "      <th>P&gt;|t|</th>\n",
       "      <th>[0.005</th>\n",
       "      <th>0.995]</th>\n",
       "      <th>result</th>\n",
       "    </tr>\n",
       "  </thead>\n",
       "  <tbody>\n",
       "    <tr>\n",
       "      <th>Intercept</th>\n",
       "      <td>-6.7387</td>\n",
       "      <td>0.706</td>\n",
       "      <td>-9.541</td>\n",
       "      <td>0.000</td>\n",
       "      <td>-8.581</td>\n",
       "      <td>-4.896</td>\n",
       "      <td>значимо</td>\n",
       "    </tr>\n",
       "    <tr>\n",
       "      <th>np.log(q)</th>\n",
       "      <td>0.4030</td>\n",
       "      <td>0.032</td>\n",
       "      <td>12.734</td>\n",
       "      <td>0.000</td>\n",
       "      <td>0.320</td>\n",
       "      <td>0.486</td>\n",
       "      <td>значимо</td>\n",
       "    </tr>\n",
       "    <tr>\n",
       "      <th>I(np.log(q)**2)</th>\n",
       "      <td>0.0304</td>\n",
       "      <td>0.002</td>\n",
       "      <td>14.024</td>\n",
       "      <td>0.000</td>\n",
       "      <td>0.025</td>\n",
       "      <td>0.036</td>\n",
       "      <td>значимо</td>\n",
       "    </tr>\n",
       "    <tr>\n",
       "      <th>np.log(pl)</th>\n",
       "      <td>0.1461</td>\n",
       "      <td>0.070</td>\n",
       "      <td>2.073</td>\n",
       "      <td>0.040</td>\n",
       "      <td>-0.038</td>\n",
       "      <td>0.330</td>\n",
       "      <td>не значимо</td>\n",
       "    </tr>\n",
       "    <tr>\n",
       "      <th>np.log(pk)</th>\n",
       "      <td>0.1571</td>\n",
       "      <td>0.058</td>\n",
       "      <td>2.721</td>\n",
       "      <td>0.007</td>\n",
       "      <td>0.007</td>\n",
       "      <td>0.308</td>\n",
       "      <td>значимо</td>\n",
       "    </tr>\n",
       "    <tr>\n",
       "      <th>np.log(pf)</th>\n",
       "      <td>0.6847</td>\n",
       "      <td>0.043</td>\n",
       "      <td>16.043</td>\n",
       "      <td>0.000</td>\n",
       "      <td>0.573</td>\n",
       "      <td>0.796</td>\n",
       "      <td>значимо</td>\n",
       "    </tr>\n",
       "  </tbody>\n",
       "</table>\n",
       "</div>"
      ],
      "text/plain": [
       "                   coef  std.err       t  P>|t|  [0.005  0.995]      result\n",
       "Intercept       -6.7387    0.706  -9.541  0.000  -8.581  -4.896     значимо\n",
       "np.log(q)        0.4030    0.032  12.734  0.000   0.320   0.486     значимо\n",
       "I(np.log(q)**2)  0.0304    0.002  14.024  0.000   0.025   0.036     значимо\n",
       "np.log(pl)       0.1461    0.070   2.073  0.040  -0.038   0.330  не значимо\n",
       "np.log(pk)       0.1571    0.058   2.721  0.007   0.007   0.308     значимо\n",
       "np.log(pf)       0.6847    0.043  16.043  0.000   0.573   0.796     значимо"
      ]
     },
     "execution_count": 121,
     "metadata": {},
     "output_type": "execute_result"
    }
   ],
   "source": [
    "df['result']=df.apply(lambda x: 'значимо' if abs(x['t'])>t_cr else 'не значимо', axis =1)\n",
    "df"
   ]
  },
  {
   "cell_type": "markdown",
   "id": "8de6ad09",
   "metadata": {},
   "source": [
    "- коэффициенты log(q), log^2(q), log(pk), log (pf) являются значимыми "
   ]
  },
  {
   "cell_type": "markdown",
   "id": "e34658d5",
   "metadata": {},
   "source": [
    "###  Задание 3.1.1"
   ]
  },
  {
   "cell_type": "markdown",
   "id": "cd05b670",
   "metadata": {},
   "source": [
    "#### Проверим гипотезы\n",
    "$$\n",
    "H_0 = \\beta_{pf} = \\beta_{pl} = \\beta_{pk} = 1\n",
    "$$\n",
    "$$\n",
    "H_1 = \\beta_{pf} = \\beta_{pl} = \\beta_{pk} > 1\n",
    "$$"
   ]
  },
  {
   "cell_type": "code",
   "execution_count": 161,
   "id": "d9521cbb",
   "metadata": {},
   "outputs": [
    {
     "data": {
      "text/html": [
       "<div>\n",
       "<style scoped>\n",
       "    .dataframe tbody tr th:only-of-type {\n",
       "        vertical-align: middle;\n",
       "    }\n",
       "\n",
       "    .dataframe tbody tr th {\n",
       "        vertical-align: top;\n",
       "    }\n",
       "\n",
       "    .dataframe thead th {\n",
       "        text-align: right;\n",
       "    }\n",
       "</style>\n",
       "<table border=\"1\" class=\"dataframe\">\n",
       "  <thead>\n",
       "    <tr style=\"text-align: right;\">\n",
       "      <th></th>\n",
       "      <th>cost</th>\n",
       "      <th>q</th>\n",
       "      <th>pl</th>\n",
       "      <th>sl</th>\n",
       "      <th>pk</th>\n",
       "      <th>sk</th>\n",
       "      <th>pf</th>\n",
       "      <th>sf</th>\n",
       "    </tr>\n",
       "  </thead>\n",
       "  <tbody>\n",
       "    <tr>\n",
       "      <th>0</th>\n",
       "      <td>0.2130</td>\n",
       "      <td>8.0</td>\n",
       "      <td>6869.47</td>\n",
       "      <td>0.3291</td>\n",
       "      <td>64.945</td>\n",
       "      <td>0.4197</td>\n",
       "      <td>18.000</td>\n",
       "      <td>0.2512</td>\n",
       "    </tr>\n",
       "    <tr>\n",
       "      <th>1</th>\n",
       "      <td>3.0427</td>\n",
       "      <td>869.0</td>\n",
       "      <td>8372.96</td>\n",
       "      <td>0.1030</td>\n",
       "      <td>68.227</td>\n",
       "      <td>0.2913</td>\n",
       "      <td>21.067</td>\n",
       "      <td>0.6057</td>\n",
       "    </tr>\n",
       "    <tr>\n",
       "      <th>2</th>\n",
       "      <td>9.4059</td>\n",
       "      <td>1412.0</td>\n",
       "      <td>7960.90</td>\n",
       "      <td>0.0891</td>\n",
       "      <td>40.692</td>\n",
       "      <td>0.1567</td>\n",
       "      <td>41.530</td>\n",
       "      <td>0.7542</td>\n",
       "    </tr>\n",
       "    <tr>\n",
       "      <th>3</th>\n",
       "      <td>0.7606</td>\n",
       "      <td>65.0</td>\n",
       "      <td>8971.89</td>\n",
       "      <td>0.2802</td>\n",
       "      <td>41.243</td>\n",
       "      <td>0.1282</td>\n",
       "      <td>28.539</td>\n",
       "      <td>0.5916</td>\n",
       "    </tr>\n",
       "    <tr>\n",
       "      <th>4</th>\n",
       "      <td>2.2587</td>\n",
       "      <td>295.0</td>\n",
       "      <td>8218.40</td>\n",
       "      <td>0.1772</td>\n",
       "      <td>71.940</td>\n",
       "      <td>0.1623</td>\n",
       "      <td>39.200</td>\n",
       "      <td>0.6606</td>\n",
       "    </tr>\n",
       "    <tr>\n",
       "      <th>...</th>\n",
       "      <td>...</td>\n",
       "      <td>...</td>\n",
       "      <td>...</td>\n",
       "      <td>...</td>\n",
       "      <td>...</td>\n",
       "      <td>...</td>\n",
       "      <td>...</td>\n",
       "      <td>...</td>\n",
       "    </tr>\n",
       "    <tr>\n",
       "      <th>153</th>\n",
       "      <td>6.8293</td>\n",
       "      <td>946.6</td>\n",
       "      <td>10642.16</td>\n",
       "      <td>0.0883</td>\n",
       "      <td>43.600</td>\n",
       "      <td>0.1914</td>\n",
       "      <td>51.463</td>\n",
       "      <td>0.7203</td>\n",
       "    </tr>\n",
       "    <tr>\n",
       "      <th>154</th>\n",
       "      <td>3.7605</td>\n",
       "      <td>377.0</td>\n",
       "      <td>7432.24</td>\n",
       "      <td>0.2117</td>\n",
       "      <td>74.120</td>\n",
       "      <td>0.2274</td>\n",
       "      <td>33.436</td>\n",
       "      <td>0.5609</td>\n",
       "    </tr>\n",
       "    <tr>\n",
       "      <th>155</th>\n",
       "      <td>3.9822</td>\n",
       "      <td>391.0</td>\n",
       "      <td>5826.04</td>\n",
       "      <td>0.1926</td>\n",
       "      <td>78.288</td>\n",
       "      <td>0.0924</td>\n",
       "      <td>44.633</td>\n",
       "      <td>0.7151</td>\n",
       "    </tr>\n",
       "    <tr>\n",
       "      <th>156</th>\n",
       "      <td>30.1880</td>\n",
       "      <td>5317.0</td>\n",
       "      <td>9586.63</td>\n",
       "      <td>0.0845</td>\n",
       "      <td>78.008</td>\n",
       "      <td>0.2009</td>\n",
       "      <td>41.840</td>\n",
       "      <td>0.7147</td>\n",
       "    </tr>\n",
       "    <tr>\n",
       "      <th>157</th>\n",
       "      <td>67.8562</td>\n",
       "      <td>15220.0</td>\n",
       "      <td>6986.09</td>\n",
       "      <td>0.1451</td>\n",
       "      <td>74.025</td>\n",
       "      <td>0.2596</td>\n",
       "      <td>25.662</td>\n",
       "      <td>0.5945</td>\n",
       "    </tr>\n",
       "  </tbody>\n",
       "</table>\n",
       "<p>158 rows × 8 columns</p>\n",
       "</div>"
      ],
      "text/plain": [
       "        cost        q        pl      sl      pk      sk      pf      sf\n",
       "0     0.2130      8.0   6869.47  0.3291  64.945  0.4197  18.000  0.2512\n",
       "1     3.0427    869.0   8372.96  0.1030  68.227  0.2913  21.067  0.6057\n",
       "2     9.4059   1412.0   7960.90  0.0891  40.692  0.1567  41.530  0.7542\n",
       "3     0.7606     65.0   8971.89  0.2802  41.243  0.1282  28.539  0.5916\n",
       "4     2.2587    295.0   8218.40  0.1772  71.940  0.1623  39.200  0.6606\n",
       "..       ...      ...       ...     ...     ...     ...     ...     ...\n",
       "153   6.8293    946.6  10642.16  0.0883  43.600  0.1914  51.463  0.7203\n",
       "154   3.7605    377.0   7432.24  0.2117  74.120  0.2274  33.436  0.5609\n",
       "155   3.9822    391.0   5826.04  0.1926  78.288  0.0924  44.633  0.7151\n",
       "156  30.1880   5317.0   9586.63  0.0845  78.008  0.2009  41.840  0.7147\n",
       "157  67.8562  15220.0   6986.09  0.1451  74.025  0.2596  25.662  0.5945\n",
       "\n",
       "[158 rows x 8 columns]"
      ]
     },
     "execution_count": 161,
     "metadata": {},
     "output_type": "execute_result"
    }
   ],
   "source": [
    "pd.read_csv('https://raw.githubusercontent.com/artamonoff/Econometrica/master/python-notebooks/data-csv/Electricity.csv')"
   ]
  },
  {
   "cell_type": "code",
   "execution_count": 132,
   "id": "6a46b5c9",
   "metadata": {},
   "outputs": [
    {
     "ename": "PatsyError",
     "evalue": "Error evaluating factor: NameError: name 'cost' is not defined\n    np.log(cost)~np.log(q)+I(np.log(q)**2)+np.log(pl)+np.log(pk)+np.log(pf)\n    ^^^^^^^^^^^^",
     "output_type": "error",
     "traceback": [
      "\u001b[0;31m---------------------------------------------------------------------------\u001b[0m",
      "\u001b[0;31mNameError\u001b[0m                                 Traceback (most recent call last)",
      "\u001b[0;32m~/opt/anaconda3/lib/python3.9/site-packages/patsy/compat.py\u001b[0m in \u001b[0;36mcall_and_wrap_exc\u001b[0;34m(msg, origin, f, *args, **kwargs)\u001b[0m\n\u001b[1;32m     35\u001b[0m     \u001b[0;32mtry\u001b[0m\u001b[0;34m:\u001b[0m\u001b[0;34m\u001b[0m\u001b[0;34m\u001b[0m\u001b[0m\n\u001b[0;32m---> 36\u001b[0;31m         \u001b[0;32mreturn\u001b[0m \u001b[0mf\u001b[0m\u001b[0;34m(\u001b[0m\u001b[0;34m*\u001b[0m\u001b[0margs\u001b[0m\u001b[0;34m,\u001b[0m \u001b[0;34m**\u001b[0m\u001b[0mkwargs\u001b[0m\u001b[0;34m)\u001b[0m\u001b[0;34m\u001b[0m\u001b[0;34m\u001b[0m\u001b[0m\n\u001b[0m\u001b[1;32m     37\u001b[0m     \u001b[0;32mexcept\u001b[0m \u001b[0mException\u001b[0m \u001b[0;32mas\u001b[0m \u001b[0me\u001b[0m\u001b[0;34m:\u001b[0m\u001b[0;34m\u001b[0m\u001b[0;34m\u001b[0m\u001b[0m\n",
      "\u001b[0;32m~/opt/anaconda3/lib/python3.9/site-packages/patsy/eval.py\u001b[0m in \u001b[0;36meval\u001b[0;34m(self, expr, source_name, inner_namespace)\u001b[0m\n\u001b[1;32m    164\u001b[0m         \u001b[0mcode\u001b[0m \u001b[0;34m=\u001b[0m \u001b[0mcompile\u001b[0m\u001b[0;34m(\u001b[0m\u001b[0mexpr\u001b[0m\u001b[0;34m,\u001b[0m \u001b[0msource_name\u001b[0m\u001b[0;34m,\u001b[0m \u001b[0;34m\"eval\"\u001b[0m\u001b[0;34m,\u001b[0m \u001b[0mself\u001b[0m\u001b[0;34m.\u001b[0m\u001b[0mflags\u001b[0m\u001b[0;34m,\u001b[0m \u001b[0;32mFalse\u001b[0m\u001b[0;34m)\u001b[0m\u001b[0;34m\u001b[0m\u001b[0;34m\u001b[0m\u001b[0m\n\u001b[0;32m--> 165\u001b[0;31m         return eval(code, {}, VarLookupDict([inner_namespace]\n\u001b[0m\u001b[1;32m    166\u001b[0m                                             + self._namespaces))\n",
      "\u001b[0;32m<string>\u001b[0m in \u001b[0;36m<module>\u001b[0;34m\u001b[0m\n",
      "\u001b[0;31mNameError\u001b[0m: name 'cost' is not defined",
      "\nThe above exception was the direct cause of the following exception:\n",
      "\u001b[0;31mPatsyError\u001b[0m                                Traceback (most recent call last)",
      "\u001b[0;32m/var/folders/kz/b7wmd97s2q791fb_xhbmdzdh0000gn/T/ipykernel_15335/3667131761.py\u001b[0m in \u001b[0;36m<module>\u001b[0;34m\u001b[0m\n\u001b[0;32m----> 1\u001b[0;31m \u001b[0mfitted\u001b[0m \u001b[0;34m=\u001b[0m \u001b[0msmf\u001b[0m\u001b[0;34m.\u001b[0m\u001b[0mols\u001b[0m\u001b[0;34m(\u001b[0m\u001b[0mdata\u001b[0m\u001b[0;34m=\u001b[0m\u001b[0mdf\u001b[0m\u001b[0;34m,\u001b[0m \u001b[0mformula\u001b[0m\u001b[0;34m=\u001b[0m\u001b[0;34m'np.log(cost)~np.log(q)+I(np.log(q)**2)+np.log(pl)+np.log(pk)+np.log(pf)'\u001b[0m\u001b[0;34m)\u001b[0m\u001b[0;34m.\u001b[0m\u001b[0mfit\u001b[0m\u001b[0;34m(\u001b[0m\u001b[0;34m)\u001b[0m\u001b[0;34m\u001b[0m\u001b[0;34m\u001b[0m\u001b[0m\n\u001b[0m\u001b[1;32m      2\u001b[0m \u001b[0mfitted\u001b[0m\u001b[0;34m.\u001b[0m\u001b[0mparams\u001b[0m\u001b[0;34m\u001b[0m\u001b[0;34m\u001b[0m\u001b[0m\n",
      "\u001b[0;32m~/opt/anaconda3/lib/python3.9/site-packages/statsmodels/base/model.py\u001b[0m in \u001b[0;36mfrom_formula\u001b[0;34m(cls, formula, data, subset, drop_cols, *args, **kwargs)\u001b[0m\n\u001b[1;32m    198\u001b[0m             \u001b[0mmissing\u001b[0m \u001b[0;34m=\u001b[0m \u001b[0;34m'raise'\u001b[0m\u001b[0;34m\u001b[0m\u001b[0;34m\u001b[0m\u001b[0m\n\u001b[1;32m    199\u001b[0m \u001b[0;34m\u001b[0m\u001b[0m\n\u001b[0;32m--> 200\u001b[0;31m         tmp = handle_formula_data(data, None, formula, depth=eval_env,\n\u001b[0m\u001b[1;32m    201\u001b[0m                                   missing=missing)\n\u001b[1;32m    202\u001b[0m         \u001b[0;34m(\u001b[0m\u001b[0;34m(\u001b[0m\u001b[0mendog\u001b[0m\u001b[0;34m,\u001b[0m \u001b[0mexog\u001b[0m\u001b[0;34m)\u001b[0m\u001b[0;34m,\u001b[0m \u001b[0mmissing_idx\u001b[0m\u001b[0;34m,\u001b[0m \u001b[0mdesign_info\u001b[0m\u001b[0;34m)\u001b[0m \u001b[0;34m=\u001b[0m \u001b[0mtmp\u001b[0m\u001b[0;34m\u001b[0m\u001b[0;34m\u001b[0m\u001b[0m\n",
      "\u001b[0;32m~/opt/anaconda3/lib/python3.9/site-packages/statsmodels/formula/formulatools.py\u001b[0m in \u001b[0;36mhandle_formula_data\u001b[0;34m(Y, X, formula, depth, missing)\u001b[0m\n\u001b[1;32m     61\u001b[0m     \u001b[0;32melse\u001b[0m\u001b[0;34m:\u001b[0m\u001b[0;34m\u001b[0m\u001b[0;34m\u001b[0m\u001b[0m\n\u001b[1;32m     62\u001b[0m         \u001b[0;32mif\u001b[0m \u001b[0mdata_util\u001b[0m\u001b[0;34m.\u001b[0m\u001b[0m_is_using_pandas\u001b[0m\u001b[0;34m(\u001b[0m\u001b[0mY\u001b[0m\u001b[0;34m,\u001b[0m \u001b[0;32mNone\u001b[0m\u001b[0;34m)\u001b[0m\u001b[0;34m:\u001b[0m\u001b[0;34m\u001b[0m\u001b[0;34m\u001b[0m\u001b[0m\n\u001b[0;32m---> 63\u001b[0;31m             result = dmatrices(formula, Y, depth, return_type='dataframe',\n\u001b[0m\u001b[1;32m     64\u001b[0m                                NA_action=na_action)\n\u001b[1;32m     65\u001b[0m         \u001b[0;32melse\u001b[0m\u001b[0;34m:\u001b[0m\u001b[0;34m\u001b[0m\u001b[0;34m\u001b[0m\u001b[0m\n",
      "\u001b[0;32m~/opt/anaconda3/lib/python3.9/site-packages/patsy/highlevel.py\u001b[0m in \u001b[0;36mdmatrices\u001b[0;34m(formula_like, data, eval_env, NA_action, return_type)\u001b[0m\n\u001b[1;32m    307\u001b[0m     \"\"\"\n\u001b[1;32m    308\u001b[0m     \u001b[0meval_env\u001b[0m \u001b[0;34m=\u001b[0m \u001b[0mEvalEnvironment\u001b[0m\u001b[0;34m.\u001b[0m\u001b[0mcapture\u001b[0m\u001b[0;34m(\u001b[0m\u001b[0meval_env\u001b[0m\u001b[0;34m,\u001b[0m \u001b[0mreference\u001b[0m\u001b[0;34m=\u001b[0m\u001b[0;36m1\u001b[0m\u001b[0;34m)\u001b[0m\u001b[0;34m\u001b[0m\u001b[0;34m\u001b[0m\u001b[0m\n\u001b[0;32m--> 309\u001b[0;31m     (lhs, rhs) = _do_highlevel_design(formula_like, data, eval_env,\n\u001b[0m\u001b[1;32m    310\u001b[0m                                       NA_action, return_type)\n\u001b[1;32m    311\u001b[0m     \u001b[0;32mif\u001b[0m \u001b[0mlhs\u001b[0m\u001b[0;34m.\u001b[0m\u001b[0mshape\u001b[0m\u001b[0;34m[\u001b[0m\u001b[0;36m1\u001b[0m\u001b[0;34m]\u001b[0m \u001b[0;34m==\u001b[0m \u001b[0;36m0\u001b[0m\u001b[0;34m:\u001b[0m\u001b[0;34m\u001b[0m\u001b[0;34m\u001b[0m\u001b[0m\n",
      "\u001b[0;32m~/opt/anaconda3/lib/python3.9/site-packages/patsy/highlevel.py\u001b[0m in \u001b[0;36m_do_highlevel_design\u001b[0;34m(formula_like, data, eval_env, NA_action, return_type)\u001b[0m\n\u001b[1;32m    162\u001b[0m     \u001b[0;32mdef\u001b[0m \u001b[0mdata_iter_maker\u001b[0m\u001b[0;34m(\u001b[0m\u001b[0;34m)\u001b[0m\u001b[0;34m:\u001b[0m\u001b[0;34m\u001b[0m\u001b[0;34m\u001b[0m\u001b[0m\n\u001b[1;32m    163\u001b[0m         \u001b[0;32mreturn\u001b[0m \u001b[0miter\u001b[0m\u001b[0;34m(\u001b[0m\u001b[0;34m[\u001b[0m\u001b[0mdata\u001b[0m\u001b[0;34m]\u001b[0m\u001b[0;34m)\u001b[0m\u001b[0;34m\u001b[0m\u001b[0;34m\u001b[0m\u001b[0m\n\u001b[0;32m--> 164\u001b[0;31m     design_infos = _try_incr_builders(formula_like, data_iter_maker, eval_env,\n\u001b[0m\u001b[1;32m    165\u001b[0m                                       NA_action)\n\u001b[1;32m    166\u001b[0m     \u001b[0;32mif\u001b[0m \u001b[0mdesign_infos\u001b[0m \u001b[0;32mis\u001b[0m \u001b[0;32mnot\u001b[0m \u001b[0;32mNone\u001b[0m\u001b[0;34m:\u001b[0m\u001b[0;34m\u001b[0m\u001b[0;34m\u001b[0m\u001b[0m\n",
      "\u001b[0;32m~/opt/anaconda3/lib/python3.9/site-packages/patsy/highlevel.py\u001b[0m in \u001b[0;36m_try_incr_builders\u001b[0;34m(formula_like, data_iter_maker, eval_env, NA_action)\u001b[0m\n\u001b[1;32m     64\u001b[0m     \u001b[0;32mif\u001b[0m \u001b[0misinstance\u001b[0m\u001b[0;34m(\u001b[0m\u001b[0mformula_like\u001b[0m\u001b[0;34m,\u001b[0m \u001b[0mModelDesc\u001b[0m\u001b[0;34m)\u001b[0m\u001b[0;34m:\u001b[0m\u001b[0;34m\u001b[0m\u001b[0;34m\u001b[0m\u001b[0m\n\u001b[1;32m     65\u001b[0m         \u001b[0;32massert\u001b[0m \u001b[0misinstance\u001b[0m\u001b[0;34m(\u001b[0m\u001b[0meval_env\u001b[0m\u001b[0;34m,\u001b[0m \u001b[0mEvalEnvironment\u001b[0m\u001b[0;34m)\u001b[0m\u001b[0;34m\u001b[0m\u001b[0;34m\u001b[0m\u001b[0m\n\u001b[0;32m---> 66\u001b[0;31m         return design_matrix_builders([formula_like.lhs_termlist,\n\u001b[0m\u001b[1;32m     67\u001b[0m                                        formula_like.rhs_termlist],\n\u001b[1;32m     68\u001b[0m                                       \u001b[0mdata_iter_maker\u001b[0m\u001b[0;34m,\u001b[0m\u001b[0;34m\u001b[0m\u001b[0;34m\u001b[0m\u001b[0m\n",
      "\u001b[0;32m~/opt/anaconda3/lib/python3.9/site-packages/patsy/build.py\u001b[0m in \u001b[0;36mdesign_matrix_builders\u001b[0;34m(termlists, data_iter_maker, eval_env, NA_action)\u001b[0m\n\u001b[1;32m    691\u001b[0m     \u001b[0;31m# on some data to find out what type of data they return.\u001b[0m\u001b[0;34m\u001b[0m\u001b[0;34m\u001b[0m\u001b[0m\n\u001b[1;32m    692\u001b[0m     (num_column_counts,\n\u001b[0;32m--> 693\u001b[0;31m      \u001b[0mcat_levels_contrasts\u001b[0m\u001b[0;34m)\u001b[0m \u001b[0;34m=\u001b[0m \u001b[0m_examine_factor_types\u001b[0m\u001b[0;34m(\u001b[0m\u001b[0mall_factors\u001b[0m\u001b[0;34m,\u001b[0m\u001b[0;34m\u001b[0m\u001b[0;34m\u001b[0m\u001b[0m\n\u001b[0m\u001b[1;32m    694\u001b[0m                                                    \u001b[0mfactor_states\u001b[0m\u001b[0;34m,\u001b[0m\u001b[0;34m\u001b[0m\u001b[0;34m\u001b[0m\u001b[0m\n\u001b[1;32m    695\u001b[0m                                                    \u001b[0mdata_iter_maker\u001b[0m\u001b[0;34m,\u001b[0m\u001b[0;34m\u001b[0m\u001b[0;34m\u001b[0m\u001b[0m\n",
      "\u001b[0;32m~/opt/anaconda3/lib/python3.9/site-packages/patsy/build.py\u001b[0m in \u001b[0;36m_examine_factor_types\u001b[0;34m(factors, factor_states, data_iter_maker, NA_action)\u001b[0m\n\u001b[1;32m    441\u001b[0m     \u001b[0;32mfor\u001b[0m \u001b[0mdata\u001b[0m \u001b[0;32min\u001b[0m \u001b[0mdata_iter_maker\u001b[0m\u001b[0;34m(\u001b[0m\u001b[0;34m)\u001b[0m\u001b[0;34m:\u001b[0m\u001b[0;34m\u001b[0m\u001b[0;34m\u001b[0m\u001b[0m\n\u001b[1;32m    442\u001b[0m         \u001b[0;32mfor\u001b[0m \u001b[0mfactor\u001b[0m \u001b[0;32min\u001b[0m \u001b[0mlist\u001b[0m\u001b[0;34m(\u001b[0m\u001b[0mexamine_needed\u001b[0m\u001b[0;34m)\u001b[0m\u001b[0;34m:\u001b[0m\u001b[0;34m\u001b[0m\u001b[0;34m\u001b[0m\u001b[0m\n\u001b[0;32m--> 443\u001b[0;31m             \u001b[0mvalue\u001b[0m \u001b[0;34m=\u001b[0m \u001b[0mfactor\u001b[0m\u001b[0;34m.\u001b[0m\u001b[0meval\u001b[0m\u001b[0;34m(\u001b[0m\u001b[0mfactor_states\u001b[0m\u001b[0;34m[\u001b[0m\u001b[0mfactor\u001b[0m\u001b[0;34m]\u001b[0m\u001b[0;34m,\u001b[0m \u001b[0mdata\u001b[0m\u001b[0;34m)\u001b[0m\u001b[0;34m\u001b[0m\u001b[0;34m\u001b[0m\u001b[0m\n\u001b[0m\u001b[1;32m    444\u001b[0m             \u001b[0;32mif\u001b[0m \u001b[0mfactor\u001b[0m \u001b[0;32min\u001b[0m \u001b[0mcat_sniffers\u001b[0m \u001b[0;32mor\u001b[0m \u001b[0mguess_categorical\u001b[0m\u001b[0;34m(\u001b[0m\u001b[0mvalue\u001b[0m\u001b[0;34m)\u001b[0m\u001b[0;34m:\u001b[0m\u001b[0;34m\u001b[0m\u001b[0;34m\u001b[0m\u001b[0m\n\u001b[1;32m    445\u001b[0m                 \u001b[0;32mif\u001b[0m \u001b[0mfactor\u001b[0m \u001b[0;32mnot\u001b[0m \u001b[0;32min\u001b[0m \u001b[0mcat_sniffers\u001b[0m\u001b[0;34m:\u001b[0m\u001b[0;34m\u001b[0m\u001b[0;34m\u001b[0m\u001b[0m\n",
      "\u001b[0;32m~/opt/anaconda3/lib/python3.9/site-packages/patsy/eval.py\u001b[0m in \u001b[0;36meval\u001b[0;34m(self, memorize_state, data)\u001b[0m\n\u001b[1;32m    562\u001b[0m \u001b[0;34m\u001b[0m\u001b[0m\n\u001b[1;32m    563\u001b[0m     \u001b[0;32mdef\u001b[0m \u001b[0meval\u001b[0m\u001b[0;34m(\u001b[0m\u001b[0mself\u001b[0m\u001b[0;34m,\u001b[0m \u001b[0mmemorize_state\u001b[0m\u001b[0;34m,\u001b[0m \u001b[0mdata\u001b[0m\u001b[0;34m)\u001b[0m\u001b[0;34m:\u001b[0m\u001b[0;34m\u001b[0m\u001b[0;34m\u001b[0m\u001b[0m\n\u001b[0;32m--> 564\u001b[0;31m         return self._eval(memorize_state[\"eval_code\"],\n\u001b[0m\u001b[1;32m    565\u001b[0m                           \u001b[0mmemorize_state\u001b[0m\u001b[0;34m,\u001b[0m\u001b[0;34m\u001b[0m\u001b[0;34m\u001b[0m\u001b[0m\n\u001b[1;32m    566\u001b[0m                           data)\n",
      "\u001b[0;32m~/opt/anaconda3/lib/python3.9/site-packages/patsy/eval.py\u001b[0m in \u001b[0;36m_eval\u001b[0;34m(self, code, memorize_state, data)\u001b[0m\n\u001b[1;32m    545\u001b[0m     \u001b[0;32mdef\u001b[0m \u001b[0m_eval\u001b[0m\u001b[0;34m(\u001b[0m\u001b[0mself\u001b[0m\u001b[0;34m,\u001b[0m \u001b[0mcode\u001b[0m\u001b[0;34m,\u001b[0m \u001b[0mmemorize_state\u001b[0m\u001b[0;34m,\u001b[0m \u001b[0mdata\u001b[0m\u001b[0;34m)\u001b[0m\u001b[0;34m:\u001b[0m\u001b[0;34m\u001b[0m\u001b[0;34m\u001b[0m\u001b[0m\n\u001b[1;32m    546\u001b[0m         \u001b[0minner_namespace\u001b[0m \u001b[0;34m=\u001b[0m \u001b[0mVarLookupDict\u001b[0m\u001b[0;34m(\u001b[0m\u001b[0;34m[\u001b[0m\u001b[0mdata\u001b[0m\u001b[0;34m,\u001b[0m \u001b[0mmemorize_state\u001b[0m\u001b[0;34m[\u001b[0m\u001b[0;34m\"transforms\"\u001b[0m\u001b[0;34m]\u001b[0m\u001b[0;34m]\u001b[0m\u001b[0;34m)\u001b[0m\u001b[0;34m\u001b[0m\u001b[0;34m\u001b[0m\u001b[0m\n\u001b[0;32m--> 547\u001b[0;31m         return call_and_wrap_exc(\"Error evaluating factor\",\n\u001b[0m\u001b[1;32m    548\u001b[0m                                  \u001b[0mself\u001b[0m\u001b[0;34m,\u001b[0m\u001b[0;34m\u001b[0m\u001b[0;34m\u001b[0m\u001b[0m\n\u001b[1;32m    549\u001b[0m                                  \u001b[0mmemorize_state\u001b[0m\u001b[0;34m[\u001b[0m\u001b[0;34m\"eval_env\"\u001b[0m\u001b[0;34m]\u001b[0m\u001b[0;34m.\u001b[0m\u001b[0meval\u001b[0m\u001b[0;34m,\u001b[0m\u001b[0;34m\u001b[0m\u001b[0;34m\u001b[0m\u001b[0m\n",
      "\u001b[0;32m~/opt/anaconda3/lib/python3.9/site-packages/patsy/compat.py\u001b[0m in \u001b[0;36mcall_and_wrap_exc\u001b[0;34m(msg, origin, f, *args, **kwargs)\u001b[0m\n\u001b[1;32m     41\u001b[0m                                  origin)\n\u001b[1;32m     42\u001b[0m             \u001b[0;31m# Use 'exec' to hide this syntax from the Python 2 parser:\u001b[0m\u001b[0;34m\u001b[0m\u001b[0;34m\u001b[0m\u001b[0m\n\u001b[0;32m---> 43\u001b[0;31m             \u001b[0mexec\u001b[0m\u001b[0;34m(\u001b[0m\u001b[0;34m\"raise new_exc from e\"\u001b[0m\u001b[0;34m)\u001b[0m\u001b[0;34m\u001b[0m\u001b[0;34m\u001b[0m\u001b[0m\n\u001b[0m\u001b[1;32m     44\u001b[0m         \u001b[0;32melse\u001b[0m\u001b[0;34m:\u001b[0m\u001b[0;34m\u001b[0m\u001b[0;34m\u001b[0m\u001b[0m\n\u001b[1;32m     45\u001b[0m             \u001b[0;31m# In python 2, we just let the original exception escape -- better\u001b[0m\u001b[0;34m\u001b[0m\u001b[0;34m\u001b[0m\u001b[0m\n",
      "\u001b[0;32m~/opt/anaconda3/lib/python3.9/site-packages/patsy/compat.py\u001b[0m in \u001b[0;36m<module>\u001b[0;34m\u001b[0m\n",
      "\u001b[0;31mPatsyError\u001b[0m: Error evaluating factor: NameError: name 'cost' is not defined\n    np.log(cost)~np.log(q)+I(np.log(q)**2)+np.log(pl)+np.log(pk)+np.log(pf)\n    ^^^^^^^^^^^^"
     ]
    }
   ],
   "source": []
  },
  {
   "cell_type": "code",
   "execution_count": null,
   "id": "7bc3850c",
   "metadata": {},
   "outputs": [],
   "source": []
  },
  {
   "cell_type": "markdown",
   "id": "5fb29a97",
   "metadata": {},
   "source": [
    "### Задача 3.2"
   ]
  },
  {
   "cell_type": "code",
   "execution_count": 148,
   "id": "5e7a0f4a",
   "metadata": {},
   "outputs": [],
   "source": [
    "df = pd.read_csv('https://raw.githubusercontent.com/artamonoff/Econometrica/master/python-notebooks/data-csv/Labour.csv')"
   ]
  },
  {
   "cell_type": "code",
   "execution_count": 149,
   "id": "18b278e0",
   "metadata": {},
   "outputs": [
    {
     "data": {
      "text/plain": [
       "Intercept         -5.007316\n",
       "np.log(capital)    0.149343\n",
       "np.log(labour)     0.720410\n",
       "np.log(wage)       0.921390\n",
       "dtype: float64"
      ]
     },
     "execution_count": 149,
     "metadata": {},
     "output_type": "execute_result"
    }
   ],
   "source": [
    "fitted = smf.ols(data=df, formula='np.log(output)~np.log(capital)+np.log(labour)+np.log(wage)').fit()\n",
    "fitted.params"
   ]
  },
  {
   "cell_type": "code",
   "execution_count": 151,
   "id": "c63929b2",
   "metadata": {},
   "outputs": [
    {
     "data": {
      "text/html": [
       "<table class=\"simpletable\">\n",
       "<tr>\n",
       "         <td></td>            <th>coef</th>     <th>std err</th>      <th>t</th>      <th>P>|t|</th>  <th>[0.025</th>    <th>0.975]</th>  \n",
       "</tr>\n",
       "<tr>\n",
       "  <th>Intercept</th>       <td>   -5.0073</td> <td>    0.221</td> <td>  -22.649</td> <td> 0.000</td> <td>   -5.442</td> <td>   -4.573</td>\n",
       "</tr>\n",
       "<tr>\n",
       "  <th>np.log(capital)</th> <td>    0.1493</td> <td>    0.015</td> <td>   10.141</td> <td> 0.000</td> <td>    0.120</td> <td>    0.178</td>\n",
       "</tr>\n",
       "<tr>\n",
       "  <th>np.log(labour)</th>  <td>    0.7204</td> <td>    0.019</td> <td>   37.487</td> <td> 0.000</td> <td>    0.683</td> <td>    0.758</td>\n",
       "</tr>\n",
       "<tr>\n",
       "  <th>np.log(wage)</th>    <td>    0.9214</td> <td>    0.058</td> <td>   16.001</td> <td> 0.000</td> <td>    0.808</td> <td>    1.034</td>\n",
       "</tr>\n",
       "</table>"
      ],
      "text/plain": [
       "<class 'statsmodels.iolib.table.SimpleTable'>"
      ]
     },
     "execution_count": 151,
     "metadata": {},
     "output_type": "execute_result"
    }
   ],
   "source": [
    "fitted.summary(alpha=0.05).tables[1]"
   ]
  },
  {
   "cell_type": "code",
   "execution_count": 152,
   "id": "0c2638f0",
   "metadata": {},
   "outputs": [],
   "source": [
    "data_string = '''coef\tstd.err\tt\tP>|t|\t[0.025\t0.975]\n",
    "Intercept\t-5.0073\t0.221\t-22.649\t0.000\t-5.442\t-4.573\n",
    "np.log(capital)\t0.1493\t0.015\t10.141\t0.000\t0.120\t0.178\n",
    "np.log(labour)\t0.7204\t0.019\t37.487\t0.000\t0.683\t0.758\n",
    "np.log(wage)\t0.9214\t0.058\t16.001\t0.000\t0.808\t1.034\n",
    "'''"
   ]
  },
  {
   "cell_type": "code",
   "execution_count": 153,
   "id": "73307cf6",
   "metadata": {},
   "outputs": [
    {
     "data": {
      "text/html": [
       "<div>\n",
       "<style scoped>\n",
       "    .dataframe tbody tr th:only-of-type {\n",
       "        vertical-align: middle;\n",
       "    }\n",
       "\n",
       "    .dataframe tbody tr th {\n",
       "        vertical-align: top;\n",
       "    }\n",
       "\n",
       "    .dataframe thead th {\n",
       "        text-align: right;\n",
       "    }\n",
       "</style>\n",
       "<table border=\"1\" class=\"dataframe\">\n",
       "  <thead>\n",
       "    <tr style=\"text-align: right;\">\n",
       "      <th></th>\n",
       "      <th>coef</th>\n",
       "      <th>std.err</th>\n",
       "      <th>t</th>\n",
       "      <th>P&gt;|t|</th>\n",
       "      <th>[0.025</th>\n",
       "      <th>0.975]</th>\n",
       "    </tr>\n",
       "  </thead>\n",
       "  <tbody>\n",
       "    <tr>\n",
       "      <th>Intercept</th>\n",
       "      <td>-5.0073</td>\n",
       "      <td>0.221</td>\n",
       "      <td>-22.649</td>\n",
       "      <td>0.0</td>\n",
       "      <td>-5.442</td>\n",
       "      <td>-4.573</td>\n",
       "    </tr>\n",
       "    <tr>\n",
       "      <th>np.log(capital)</th>\n",
       "      <td>0.1493</td>\n",
       "      <td>0.015</td>\n",
       "      <td>10.141</td>\n",
       "      <td>0.0</td>\n",
       "      <td>0.120</td>\n",
       "      <td>0.178</td>\n",
       "    </tr>\n",
       "    <tr>\n",
       "      <th>np.log(labour)</th>\n",
       "      <td>0.7204</td>\n",
       "      <td>0.019</td>\n",
       "      <td>37.487</td>\n",
       "      <td>0.0</td>\n",
       "      <td>0.683</td>\n",
       "      <td>0.758</td>\n",
       "    </tr>\n",
       "    <tr>\n",
       "      <th>np.log(wage)</th>\n",
       "      <td>0.9214</td>\n",
       "      <td>0.058</td>\n",
       "      <td>16.001</td>\n",
       "      <td>0.0</td>\n",
       "      <td>0.808</td>\n",
       "      <td>1.034</td>\n",
       "    </tr>\n",
       "  </tbody>\n",
       "</table>\n",
       "</div>"
      ],
      "text/plain": [
       "                   coef  std.err       t  P>|t|  [0.025  0.975]\n",
       "Intercept       -5.0073    0.221 -22.649    0.0  -5.442  -4.573\n",
       "np.log(capital)  0.1493    0.015  10.141    0.0   0.120   0.178\n",
       "np.log(labour)   0.7204    0.019  37.487    0.0   0.683   0.758\n",
       "np.log(wage)     0.9214    0.058  16.001    0.0   0.808   1.034"
      ]
     },
     "execution_count": 153,
     "metadata": {},
     "output_type": "execute_result"
    }
   ],
   "source": [
    "df = pd.read_csv(io.StringIO(data_string), sep='\\s+')\n",
    "df"
   ]
  },
  {
   "cell_type": "code",
   "execution_count": 154,
   "id": "d037d8a3",
   "metadata": {},
   "outputs": [
    {
     "data": {
      "text/html": [
       "<div>\n",
       "<style scoped>\n",
       "    .dataframe tbody tr th:only-of-type {\n",
       "        vertical-align: middle;\n",
       "    }\n",
       "\n",
       "    .dataframe tbody tr th {\n",
       "        vertical-align: top;\n",
       "    }\n",
       "\n",
       "    .dataframe thead th {\n",
       "        text-align: right;\n",
       "    }\n",
       "</style>\n",
       "<table border=\"1\" class=\"dataframe\">\n",
       "  <thead>\n",
       "    <tr style=\"text-align: right;\">\n",
       "      <th></th>\n",
       "      <th>coef</th>\n",
       "      <th>std.err</th>\n",
       "      <th>t</th>\n",
       "      <th>P&gt;|t|</th>\n",
       "      <th>[0.025</th>\n",
       "      <th>0.975]</th>\n",
       "      <th>result</th>\n",
       "    </tr>\n",
       "  </thead>\n",
       "  <tbody>\n",
       "    <tr>\n",
       "      <th>Intercept</th>\n",
       "      <td>-5.0073</td>\n",
       "      <td>0.221</td>\n",
       "      <td>-22.649</td>\n",
       "      <td>0.0</td>\n",
       "      <td>-5.442</td>\n",
       "      <td>-4.573</td>\n",
       "      <td>значимо</td>\n",
       "    </tr>\n",
       "    <tr>\n",
       "      <th>np.log(capital)</th>\n",
       "      <td>0.1493</td>\n",
       "      <td>0.015</td>\n",
       "      <td>10.141</td>\n",
       "      <td>0.0</td>\n",
       "      <td>0.120</td>\n",
       "      <td>0.178</td>\n",
       "      <td>значимо</td>\n",
       "    </tr>\n",
       "    <tr>\n",
       "      <th>np.log(labour)</th>\n",
       "      <td>0.7204</td>\n",
       "      <td>0.019</td>\n",
       "      <td>37.487</td>\n",
       "      <td>0.0</td>\n",
       "      <td>0.683</td>\n",
       "      <td>0.758</td>\n",
       "      <td>значимо</td>\n",
       "    </tr>\n",
       "    <tr>\n",
       "      <th>np.log(wage)</th>\n",
       "      <td>0.9214</td>\n",
       "      <td>0.058</td>\n",
       "      <td>16.001</td>\n",
       "      <td>0.0</td>\n",
       "      <td>0.808</td>\n",
       "      <td>1.034</td>\n",
       "      <td>значимо</td>\n",
       "    </tr>\n",
       "  </tbody>\n",
       "</table>\n",
       "</div>"
      ],
      "text/plain": [
       "                   coef  std.err       t  P>|t|  [0.025  0.975]   result\n",
       "Intercept       -5.0073    0.221 -22.649    0.0  -5.442  -4.573  значимо\n",
       "np.log(capital)  0.1493    0.015  10.141    0.0   0.120   0.178  значимо\n",
       "np.log(labour)   0.7204    0.019  37.487    0.0   0.683   0.758  значимо\n",
       "np.log(wage)     0.9214    0.058  16.001    0.0   0.808   1.034  значимо"
      ]
     },
     "execution_count": 154,
     "metadata": {},
     "output_type": "execute_result"
    }
   ],
   "source": [
    "df['result']=df.apply(lambda x: 'значимо' if abs(x['t'])>t_cr else 'не значимо', axis =1)\n",
    "df"
   ]
  },
  {
   "cell_type": "markdown",
   "id": "c27a8b84",
   "metadata": {},
   "source": [
    "- log(capital), log(labour), log(wage) являются значимыми коэффициентами "
   ]
  },
  {
   "cell_type": "markdown",
   "id": "0de6453b",
   "metadata": {},
   "source": [
    "### Задача 3.2.1"
   ]
  },
  {
   "cell_type": "markdown",
   "id": "49b11f13",
   "metadata": {},
   "source": [
    "#### Проверим гипотезы\n",
    "$$\n",
    "H_0 : \\beta_{capital} = \\beta_{labour} = \\beta_{wage} = 1\n",
    "$$\n",
    "$$\n",
    "H_1 : \\beta_{capital}^2 = \\beta_{labour}^2 = \\beta_{wage}^2 ≠ 1\n",
    "$$"
   ]
  },
  {
   "cell_type": "code",
   "execution_count": 159,
   "id": "16935b23",
   "metadata": {},
   "outputs": [],
   "source": [
    "df = pd.read_csv('https://raw.githubusercontent.com/artamonoff/Econometrica/master/python-notebooks/data-csv/Labour.csv')\n"
   ]
  },
  {
   "cell_type": "code",
   "execution_count": 169,
   "id": "f9804035",
   "metadata": {},
   "outputs": [
    {
     "data": {
      "text/plain": [
       "Intercept         -1.711459\n",
       "np.log(capital)    0.207570\n",
       "np.log(labour)     0.714847\n",
       "dtype: float64"
      ]
     },
     "execution_count": 169,
     "metadata": {},
     "output_type": "execute_result"
    }
   ],
   "source": [
    "fitted_rest = smf.ols(data=df, formula='np.log(output)~np.log(capital)+np.log(labour)+(1-np.log(capital)+np.log(labour))').fit()\n",
    "fitted_rest.params"
   ]
  },
  {
   "cell_type": "code",
   "execution_count": 168,
   "id": "76f1ca20",
   "metadata": {},
   "outputs": [
    {
     "data": {
      "text/plain": [
       "Intercept         -5.007316\n",
       "np.log(capital)    0.149343\n",
       "np.log(labour)     0.720410\n",
       "np.log(wage)       0.921390\n",
       "dtype: float64"
      ]
     },
     "execution_count": 168,
     "metadata": {},
     "output_type": "execute_result"
    }
   ],
   "source": [
    "fitted_unrest = smf.ols(data=df, formula='np.log(output)~np.log(capital)+np.log(labour)+np.log(wage)').fit()\n",
    "fitted_unrest.params"
   ]
  },
  {
   "cell_type": "code",
   "execution_count": 175,
   "id": "059209b5",
   "metadata": {},
   "outputs": [
    {
     "data": {
      "text/plain": [
       "0.838"
      ]
     },
     "execution_count": 175,
     "metadata": {},
     "output_type": "execute_result"
    }
   ],
   "source": [
    "R2_rest = fitted_rest.rsquared  \n",
    "R2_rest.round(3)"
   ]
  },
  {
   "cell_type": "code",
   "execution_count": 173,
   "id": "7d8bb70f",
   "metadata": {},
   "outputs": [
    {
     "data": {
      "text/plain": [
       "0.888"
      ]
     },
     "execution_count": 173,
     "metadata": {},
     "output_type": "execute_result"
    }
   ],
   "source": [
    "R2_unrest = fitted_unrest.rsquared   \n",
    "R2_unrest.round(3)"
   ]
  },
  {
   "cell_type": "code",
   "execution_count": 182,
   "id": "a7afd432",
   "metadata": {},
   "outputs": [
    {
     "data": {
      "text/plain": [
       "256.021"
      ]
     },
     "execution_count": 182,
     "metadata": {},
     "output_type": "execute_result"
    }
   ],
   "source": [
    "n = 569\n",
    "m = 4 \n",
    "F_nab = (R2_unrest - R2_rest)/(1-R2_unrest)*(569-m)/1\n",
    "F_nab.round(3)"
   ]
  },
  {
   "cell_type": "code",
   "execution_count": 183,
   "id": "e903432e",
   "metadata": {},
   "outputs": [
    {
     "data": {
      "text/plain": [
       "3.858"
      ]
     },
     "execution_count": 183,
     "metadata": {},
     "output_type": "execute_result"
    }
   ],
   "source": [
    "F_cr = stats.f.ppf(1-0.05, 1, 569-4)\n",
    "F_cr.round(3)"
   ]
  },
  {
   "cell_type": "code",
   "execution_count": 184,
   "id": "e3379a8f",
   "metadata": {},
   "outputs": [
    {
     "name": "stdout",
     "output_type": "stream",
     "text": [
      "Отвергаем H0, коэффициенты совместно значимы\n"
     ]
    }
   ],
   "source": [
    "if (F_nab > F_cr ):\n",
    "    print('Отвергаем H0, коэффициенты совместно значимы')\n",
    "else:\n",
    "    print('Не отвергаем H0, коэффициенты совместно незначимы')"
   ]
  },
  {
   "cell_type": "markdown",
   "id": "0dab876e",
   "metadata": {},
   "source": [
    "- F_cr = 3.858\n",
    "- $H_0$"
   ]
  },
  {
   "cell_type": "markdown",
   "id": "cf522017",
   "metadata": {},
   "source": [
    "### Задача 3.2.2"
   ]
  },
  {
   "cell_type": "markdown",
   "id": "b7c33993",
   "metadata": {},
   "source": [
    "#### Проверим гипотезы\n",
    "$$\n",
    "H_0 : \\beta_{labour} = \\beta_{wage} = 0\n",
    "$$\n",
    "$$\n",
    "H_1 : \\beta_{labour}^2 = \\beta_{wage}^2 ≠ 0\n",
    "$$"
   ]
  },
  {
   "cell_type": "code",
   "execution_count": 187,
   "id": "f7eda050",
   "metadata": {},
   "outputs": [
    {
     "data": {
      "text/plain": [
       "Intercept         -5.007316\n",
       "np.log(capital)    0.149343\n",
       "np.log(labour)     0.720410\n",
       "np.log(wage)       0.921390\n",
       "dtype: float64"
      ]
     },
     "execution_count": 187,
     "metadata": {},
     "output_type": "execute_result"
    }
   ],
   "source": [
    "fitted = smf.ols(data=df, formula='np.log(output)~np.log(capital)+np.log(labour)+np.log(wage)').fit()\n",
    "fitted.params"
   ]
  },
  {
   "cell_type": "code",
   "execution_count": 197,
   "id": "9d467e3f",
   "metadata": {},
   "outputs": [
    {
     "data": {
      "text/plain": [
       "11.081"
      ]
     },
     "execution_count": 197,
     "metadata": {},
     "output_type": "execute_result"
    }
   ],
   "source": [
    "F_nab = fitted.f_test( 'np.log(labour)=np.log(wage)' ) \n",
    "round(F_nab.fvalue, 3)"
   ]
  },
  {
   "cell_type": "code",
   "execution_count": 201,
   "id": "42ff8760",
   "metadata": {},
   "outputs": [
    {
     "data": {
      "text/plain": [
       "3.012"
      ]
     },
     "execution_count": 201,
     "metadata": {},
     "output_type": "execute_result"
    }
   ],
   "source": [
    "F_cr = stats.f.ppf(1-0.05,2,569-4)\n",
    "F_cr.round(3)"
   ]
  },
  {
   "cell_type": "markdown",
   "id": "a5e2208f",
   "metadata": {},
   "source": [
    "- F_cr = 3.012\n",
    "- $H_0$ отвергаем"
   ]
  },
  {
   "cell_type": "markdown",
   "id": "4f403649",
   "metadata": {},
   "source": [
    "### Задача 3.2.3"
   ]
  },
  {
   "cell_type": "markdown",
   "id": "ef85b350",
   "metadata": {},
   "source": [
    "#### Проверим гипотезы\n",
    "$$\n",
    "H_0 : \\beta_{capital} = \\beta_{labour} = \\beta_{wage} = 0\n",
    "$$\n",
    "$$\n",
    "H_1 : \\beta_{capital}^2 = \\beta_{labour}^2 = \\beta_{wage}^2 ≠ 0\n",
    "$$"
   ]
  },
  {
   "cell_type": "code",
   "execution_count": 207,
   "id": "d8a1fd86",
   "metadata": {},
   "outputs": [
    {
     "data": {
      "text/plain": [
       "192.367"
      ]
     },
     "execution_count": 207,
     "metadata": {},
     "output_type": "execute_result"
    }
   ],
   "source": [
    "F_nab = fitted.f_test('np.log(capital)=np.log(labour)=np.log(wage)')\n",
    "round(F_nab.fvalue, 3)"
   ]
  },
  {
   "cell_type": "code",
   "execution_count": 208,
   "id": "d5c5ce5c",
   "metadata": {},
   "outputs": [
    {
     "data": {
      "text/plain": [
       "3.012"
      ]
     },
     "execution_count": 208,
     "metadata": {},
     "output_type": "execute_result"
    }
   ],
   "source": [
    "F_cr = stats.f.ppf(1-0.05,2,569-4)\n",
    "F_cr.round(3)"
   ]
  },
  {
   "cell_type": "markdown",
   "id": "654a63c4",
   "metadata": {},
   "source": [
    "- $H_0$ снова отвергается"
   ]
  },
  {
   "cell_type": "code",
   "execution_count": null,
   "id": "77575eb4",
   "metadata": {},
   "outputs": [],
   "source": []
  }
 ],
 "metadata": {
  "kernelspec": {
   "display_name": "Python 3 (ipykernel)",
   "language": "python",
   "name": "python3"
  },
  "language_info": {
   "codemirror_mode": {
    "name": "ipython",
    "version": 3
   },
   "file_extension": ".py",
   "mimetype": "text/x-python",
   "name": "python",
   "nbconvert_exporter": "python",
   "pygments_lexer": "ipython3",
   "version": "3.9.13"
  }
 },
 "nbformat": 4,
 "nbformat_minor": 5
}
